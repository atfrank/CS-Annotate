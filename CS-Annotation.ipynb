{
 "cells": [
  {
   "cell_type": "markdown",
   "metadata": {
    "colab_type": "text",
    "id": "view-in-github"
   },
   "source": [
    "<a href=\"https://colab.research.google.com/github/atfrank/CS-Annotate/blob/master/Structural_Annotation_of_RNA_Using_NMR_Chemical_Shifts.ipynb\" target=\"_parent\"><img src=\"https://colab.research.google.com/assets/colab-badge.svg\" alt=\"Open In Colab\"/></a>"
   ]
  },
  {
   "cell_type": "markdown",
   "metadata": {
    "colab_type": "text",
    "id": "LIzeqGWIXAGZ"
   },
   "source": [
    "Structural Annotation of RNA Using NMR Chemical Shifts"
   ]
  },
  {
   "cell_type": "markdown",
   "metadata": {
    "colab_type": "text",
    "id": "35jZz_taQzJk"
   },
   "source": [
    "# Initialization"
   ]
  },
  {
   "cell_type": "code",
   "execution_count": 1,
   "metadata": {
    "colab": {
     "base_uri": "https://localhost:8080/",
     "height": 233
    },
    "colab_type": "code",
    "id": "1jz5BynGD9L5",
    "outputId": "c4a6f4cf-11e6-4e39-803e-95a2af54811c"
   },
   "outputs": [],
   "source": [
    "%%capture\n",
    "## Import Modules\n",
    "import pandas as pd\n",
    "import numpy as np\n",
    "import io\n",
    "import pandas as pd\n",
    "import io\n",
    "import requests\n",
    "import deepchem as dc\n",
    "import tensorflow as tf"
   ]
  },
  {
   "cell_type": "code",
   "execution_count": 2,
   "metadata": {
    "colab": {},
    "colab_type": "code",
    "id": "zrIJswNoBhXp"
   },
   "outputs": [],
   "source": [
    "DIR_PATH = 'data/'\n",
    "NUMBER_CHEMICAL_SHIFT_TYPE = 19\n",
    "RETAIN = ['id', 'resid', 'resname', 'sasa-All-atoms', 'sasa-Total-Side', 'sasa-Main-Chain', 'sasa-Non-polar', 'sasa-All', 'sasa', 'syn_anti', 'astack', 'nastack', 'pair', 'pucker', 'class']\n",
    "RETAIN_NONAME = ['id', 'resid', 'sasa-All-atoms', 'sasa-Total-Side', 'sasa-Main-Chain', 'sasa-Non-polar', 'sasa-All', 'sasa', 'syn_anti', 'astack', 'nastack', 'pair', 'pucker', 'class']\n",
    "from CSRNA import *"
   ]
  },
  {
   "cell_type": "markdown",
   "metadata": {
    "colab_type": "text",
    "id": "aMpj5KncQ8Vj"
   },
   "source": [
    "# Train Model"
   ]
  },
  {
   "cell_type": "markdown",
   "metadata": {},
   "source": [
    "## Load data and preprocess"
   ]
  },
  {
   "cell_type": "code",
   "execution_count": 3,
   "metadata": {
    "colab": {},
    "colab_type": "code",
    "id": "PA8ZeGsG---i"
   },
   "outputs": [
    {
     "name": "stdout",
     "output_type": "stream",
     "text": [
      "[INFO]: SASA loaded data\n",
      "[INFO]: CS loaded data\n",
      "[INFO]: MC-Annotate loaded data\n",
      "[INFO]: merged SASA, CS, and MC-Annotate\n",
      "[INFO]: Prepared final data set\n",
      "[INFO]: One-hot encoded data\n",
      "[INFO]: SASA loaded data\n",
      "[INFO]: CS loaded data\n",
      "[INFO]: MC-Annotate loaded data\n",
      "[INFO]: merged SASA, CS, and MC-Annotate\n",
      "[INFO]: Prepared final data set\n",
      "[INFO]: One-hot encoded data\n"
     ]
    }
   ],
   "source": [
    "neighbors = 3\n",
    "train = get_data(neighbors, training = True)\n",
    "test = get_data(neighbors, training = False)\n",
    "train_dataset, test_dataset, train_info, test_info, targets = process_data(train, test)"
   ]
  },
  {
   "cell_type": "markdown",
   "metadata": {},
   "source": [
    "## Preprocess"
   ]
  },
  {
   "cell_type": "code",
   "execution_count": 4,
   "metadata": {},
   "outputs": [],
   "source": [
    "# Scale Dataset\n",
    "transform_scaler = dc.trans.transformers.NormalizationTransformer(transform_X = True, transform_y = False, dataset=train_dataset)\n",
    "train_dataset_norm = transform_scaler.transform(train_dataset)\n",
    "test_dataset_norm = transform_scaler.transform(test_dataset)\n",
    "\n",
    "# Balance Dataset\n",
    "transform_balancer = dc.trans.transformers.BalancingTransformer(transform_w = True, dataset=train_dataset_norm)\n",
    "train_dataset_balanced = transform_balancer.transform(train_dataset_norm)\n",
    "\n",
    "n_features = train_dataset_balanced.X.shape[1]\n",
    "n_tasks = train_dataset_balanced.y.shape[1]"
   ]
  },
  {
   "cell_type": "markdown",
   "metadata": {},
   "source": [
    "## Fit and Save Model"
   ]
  },
  {
   "cell_type": "code",
   "execution_count": 5,
   "metadata": {},
   "outputs": [
    {
     "data": {
      "text/html": [
       "<div>\n",
       "<style scoped>\n",
       "    .dataframe tbody tr th:only-of-type {\n",
       "        vertical-align: middle;\n",
       "    }\n",
       "\n",
       "    .dataframe tbody tr th {\n",
       "        vertical-align: top;\n",
       "    }\n",
       "\n",
       "    .dataframe thead th {\n",
       "        text-align: right;\n",
       "    }\n",
       "</style>\n",
       "<table border=\"1\" class=\"dataframe\">\n",
       "  <thead>\n",
       "    <tr style=\"text-align: right;\">\n",
       "      <th></th>\n",
       "      <th>id</th>\n",
       "      <th>resid</th>\n",
       "      <th>sasa</th>\n",
       "    </tr>\n",
       "  </thead>\n",
       "  <tbody>\n",
       "    <tr>\n",
       "      <th>0</th>\n",
       "      <td>2JTP</td>\n",
       "      <td>1</td>\n",
       "      <td>203.92</td>\n",
       "    </tr>\n",
       "    <tr>\n",
       "      <th>1</th>\n",
       "      <td>2JTP</td>\n",
       "      <td>2</td>\n",
       "      <td>189.55</td>\n",
       "    </tr>\n",
       "    <tr>\n",
       "      <th>2</th>\n",
       "      <td>2JTP</td>\n",
       "      <td>3</td>\n",
       "      <td>191.87</td>\n",
       "    </tr>\n",
       "    <tr>\n",
       "      <th>3</th>\n",
       "      <td>2JTP</td>\n",
       "      <td>4</td>\n",
       "      <td>176.16</td>\n",
       "    </tr>\n",
       "    <tr>\n",
       "      <th>4</th>\n",
       "      <td>2JTP</td>\n",
       "      <td>5</td>\n",
       "      <td>185.36</td>\n",
       "    </tr>\n",
       "    <tr>\n",
       "      <th>...</th>\n",
       "      <td>...</td>\n",
       "      <td>...</td>\n",
       "      <td>...</td>\n",
       "    </tr>\n",
       "    <tr>\n",
       "      <th>125</th>\n",
       "      <td>5KH8</td>\n",
       "      <td>43</td>\n",
       "      <td>183.51</td>\n",
       "    </tr>\n",
       "    <tr>\n",
       "      <th>126</th>\n",
       "      <td>5KH8</td>\n",
       "      <td>44</td>\n",
       "      <td>180.49</td>\n",
       "    </tr>\n",
       "    <tr>\n",
       "      <th>127</th>\n",
       "      <td>5KH8</td>\n",
       "      <td>45</td>\n",
       "      <td>163.27</td>\n",
       "    </tr>\n",
       "    <tr>\n",
       "      <th>128</th>\n",
       "      <td>5KH8</td>\n",
       "      <td>46</td>\n",
       "      <td>188.07</td>\n",
       "    </tr>\n",
       "    <tr>\n",
       "      <th>129</th>\n",
       "      <td>5KH8</td>\n",
       "      <td>47</td>\n",
       "      <td>338.68</td>\n",
       "    </tr>\n",
       "  </tbody>\n",
       "</table>\n",
       "<p>130 rows × 3 columns</p>\n",
       "</div>"
      ],
      "text/plain": [
       "       id resid    sasa\n",
       "0    2JTP     1  203.92\n",
       "1    2JTP     2  189.55\n",
       "2    2JTP     3  191.87\n",
       "3    2JTP     4  176.16\n",
       "4    2JTP     5  185.36\n",
       "..    ...   ...     ...\n",
       "125  5KH8    43  183.51\n",
       "126  5KH8    44  180.49\n",
       "127  5KH8    45  163.27\n",
       "128  5KH8    46  188.07\n",
       "129  5KH8    47  338.68\n",
       "\n",
       "[130 rows x 3 columns]"
      ]
     },
     "execution_count": 5,
     "metadata": {},
     "output_type": "execute_result"
    }
   ],
   "source": [
    "test_info"
   ]
  },
  {
   "cell_type": "code",
   "execution_count": 9,
   "metadata": {},
   "outputs": [],
   "source": [
    "%%capture\n",
    "# suppress warning (confirm this is safe)\n",
    "model = dc.models.ProgressiveMultitaskClassifier(n_tasks=n_tasks,n_features=n_features,\n",
    "                                                 layer_sizes=[100],\n",
    "                                                 alpha_init_stddevs=0.04,\n",
    "                                                 learning_rate=0.001, \n",
    "                                                 model_dir='models/one-layer/', \n",
    "                                                 tensorboard=True, \n",
    "                                                 use_queue=False)"
   ]
  },
  {
   "cell_type": "code",
   "execution_count": 10,
   "metadata": {},
   "outputs": [],
   "source": [
    "%%capture \n",
    "# suppress warning (confirm this is safe)\n",
    "model.fit(train_dataset_balanced, nb_epoch=50)\n",
    "model.get_checkpoints()"
   ]
  },
  {
   "cell_type": "markdown",
   "metadata": {
    "colab_type": "text",
    "id": "T3aWiEyJutL_"
   },
   "source": [
    "# Test Model"
   ]
  },
  {
   "cell_type": "code",
   "execution_count": 11,
   "metadata": {
    "colab": {
     "base_uri": "https://localhost:8080/",
     "height": 502
    },
    "colab_type": "code",
    "id": "R13KHWmKVaVa",
    "outputId": "be99b9d3-ee73-4d0d-dd05-e80af9f1c544"
   },
   "outputs": [
    {
     "data": {
      "image/png": "[encoded data removed]",
      "text/plain": [
       "<Figure size 432x288 with 1 Axes>"
      ]
     },
     "metadata": {
      "needs_background": "light"
     },
     "output_type": "display_data"
    },
    {
     "data": {
      "text/html": [
       "<div>\n",
       "<style scoped>\n",
       "    .dataframe tbody tr th:only-of-type {\n",
       "        vertical-align: middle;\n",
       "    }\n",
       "\n",
       "    .dataframe tbody tr th {\n",
       "        vertical-align: top;\n",
       "    }\n",
       "\n",
       "    .dataframe thead th {\n",
       "        text-align: right;\n",
       "    }\n",
       "</style>\n",
       "<table border=\"1\" class=\"dataframe\">\n",
       "  <thead>\n",
       "    <tr style=\"text-align: right;\">\n",
       "      <th></th>\n",
       "      <th>id</th>\n",
       "      <th>resid</th>\n",
       "      <th>sasa</th>\n",
       "      <th>sasa</th>\n",
       "      <th>astack</th>\n",
       "      <th>nastack</th>\n",
       "      <th>pair</th>\n",
       "      <th>syn_anti</th>\n",
       "      <th>pucker_C2p_endo</th>\n",
       "      <th>pucker_C3p_endo</th>\n",
       "      <th>...</th>\n",
       "      <th>pastack</th>\n",
       "      <th>pnastack</th>\n",
       "      <th>ppair</th>\n",
       "      <th>psyn_anti</th>\n",
       "      <th>ppucker_C2p_endo</th>\n",
       "      <th>ppucker_C3p_endo</th>\n",
       "      <th>ppucker_C2p_exo</th>\n",
       "      <th>ppucker_C3p_exo</th>\n",
       "      <th>ppucker_C1p_exo</th>\n",
       "      <th>ppucker_C4p_exo</th>\n",
       "    </tr>\n",
       "  </thead>\n",
       "  <tbody>\n",
       "    <tr>\n",
       "      <th>125</th>\n",
       "      <td>5KH8</td>\n",
       "      <td>43</td>\n",
       "      <td>183.51</td>\n",
       "      <td>0.0</td>\n",
       "      <td>1.0</td>\n",
       "      <td>0.0</td>\n",
       "      <td>1.0</td>\n",
       "      <td>0.0</td>\n",
       "      <td>0.0</td>\n",
       "      <td>1.0</td>\n",
       "      <td>...</td>\n",
       "      <td>0.999</td>\n",
       "      <td>0.000</td>\n",
       "      <td>0.152</td>\n",
       "      <td>0.0</td>\n",
       "      <td>0.027</td>\n",
       "      <td>0.929</td>\n",
       "      <td>0.002</td>\n",
       "      <td>0.0</td>\n",
       "      <td>0.0</td>\n",
       "      <td>0.892</td>\n",
       "    </tr>\n",
       "    <tr>\n",
       "      <th>126</th>\n",
       "      <td>5KH8</td>\n",
       "      <td>44</td>\n",
       "      <td>180.49</td>\n",
       "      <td>0.0</td>\n",
       "      <td>1.0</td>\n",
       "      <td>0.0</td>\n",
       "      <td>1.0</td>\n",
       "      <td>0.0</td>\n",
       "      <td>0.0</td>\n",
       "      <td>1.0</td>\n",
       "      <td>...</td>\n",
       "      <td>0.166</td>\n",
       "      <td>0.000</td>\n",
       "      <td>0.017</td>\n",
       "      <td>0.0</td>\n",
       "      <td>0.000</td>\n",
       "      <td>0.425</td>\n",
       "      <td>0.646</td>\n",
       "      <td>0.0</td>\n",
       "      <td>0.0</td>\n",
       "      <td>0.857</td>\n",
       "    </tr>\n",
       "    <tr>\n",
       "      <th>127</th>\n",
       "      <td>5KH8</td>\n",
       "      <td>45</td>\n",
       "      <td>163.27</td>\n",
       "      <td>0.0</td>\n",
       "      <td>1.0</td>\n",
       "      <td>0.0</td>\n",
       "      <td>1.0</td>\n",
       "      <td>0.0</td>\n",
       "      <td>0.0</td>\n",
       "      <td>1.0</td>\n",
       "      <td>...</td>\n",
       "      <td>0.524</td>\n",
       "      <td>0.000</td>\n",
       "      <td>1.000</td>\n",
       "      <td>0.0</td>\n",
       "      <td>0.000</td>\n",
       "      <td>1.000</td>\n",
       "      <td>0.000</td>\n",
       "      <td>0.0</td>\n",
       "      <td>0.0</td>\n",
       "      <td>0.921</td>\n",
       "    </tr>\n",
       "    <tr>\n",
       "      <th>128</th>\n",
       "      <td>5KH8</td>\n",
       "      <td>46</td>\n",
       "      <td>188.07</td>\n",
       "      <td>0.0</td>\n",
       "      <td>1.0</td>\n",
       "      <td>0.0</td>\n",
       "      <td>0.0</td>\n",
       "      <td>0.0</td>\n",
       "      <td>0.0</td>\n",
       "      <td>1.0</td>\n",
       "      <td>...</td>\n",
       "      <td>0.907</td>\n",
       "      <td>0.909</td>\n",
       "      <td>1.000</td>\n",
       "      <td>0.0</td>\n",
       "      <td>0.000</td>\n",
       "      <td>1.000</td>\n",
       "      <td>0.000</td>\n",
       "      <td>0.0</td>\n",
       "      <td>0.0</td>\n",
       "      <td>1.000</td>\n",
       "    </tr>\n",
       "    <tr>\n",
       "      <th>129</th>\n",
       "      <td>5KH8</td>\n",
       "      <td>47</td>\n",
       "      <td>338.68</td>\n",
       "      <td>1.0</td>\n",
       "      <td>1.0</td>\n",
       "      <td>0.0</td>\n",
       "      <td>0.0</td>\n",
       "      <td>0.0</td>\n",
       "      <td>0.0</td>\n",
       "      <td>1.0</td>\n",
       "      <td>...</td>\n",
       "      <td>0.010</td>\n",
       "      <td>0.000</td>\n",
       "      <td>1.000</td>\n",
       "      <td>0.0</td>\n",
       "      <td>0.000</td>\n",
       "      <td>1.000</td>\n",
       "      <td>0.000</td>\n",
       "      <td>0.0</td>\n",
       "      <td>0.0</td>\n",
       "      <td>1.000</td>\n",
       "    </tr>\n",
       "  </tbody>\n",
       "</table>\n",
       "<p>5 rows × 25 columns</p>\n",
       "</div>"
      ],
      "text/plain": [
       "       id resid    sasa  sasa  astack  nastack  pair  syn_anti  \\\n",
       "125  5KH8    43  183.51   0.0     1.0      0.0   1.0       0.0   \n",
       "126  5KH8    44  180.49   0.0     1.0      0.0   1.0       0.0   \n",
       "127  5KH8    45  163.27   0.0     1.0      0.0   1.0       0.0   \n",
       "128  5KH8    46  188.07   0.0     1.0      0.0   0.0       0.0   \n",
       "129  5KH8    47  338.68   1.0     1.0      0.0   0.0       0.0   \n",
       "\n",
       "     pucker_C2p_endo  pucker_C3p_endo  ...  pastack  pnastack  ppair  \\\n",
       "125              0.0              1.0  ...    0.999     0.000  0.152   \n",
       "126              0.0              1.0  ...    0.166     0.000  0.017   \n",
       "127              0.0              1.0  ...    0.524     0.000  1.000   \n",
       "128              0.0              1.0  ...    0.907     0.909  1.000   \n",
       "129              0.0              1.0  ...    0.010     0.000  1.000   \n",
       "\n",
       "     psyn_anti  ppucker_C2p_endo  ppucker_C3p_endo  ppucker_C2p_exo  \\\n",
       "125        0.0             0.027             0.929            0.002   \n",
       "126        0.0             0.000             0.425            0.646   \n",
       "127        0.0             0.000             1.000            0.000   \n",
       "128        0.0             0.000             1.000            0.000   \n",
       "129        0.0             0.000             1.000            0.000   \n",
       "\n",
       "     ppucker_C3p_exo  ppucker_C1p_exo  ppucker_C4p_exo  \n",
       "125              0.0              0.0            0.892  \n",
       "126              0.0              0.0            0.857  \n",
       "127              0.0              0.0            0.921  \n",
       "128              0.0              0.0            1.000  \n",
       "129              0.0              0.0            1.000  \n",
       "\n",
       "[5 rows x 25 columns]"
      ]
     },
     "execution_count": 11,
     "metadata": {},
     "output_type": "execute_result"
    }
   ],
   "source": [
    "import pandas as pd\n",
    "import numpy as np\n",
    "import matplotlib.pyplot as plt\n",
    "from sklearn.metrics import roc_curve, auc\n",
    "import matplotlib.cm as cm\n",
    "\n",
    "colors = cm.rainbow(np.linspace(0, 1, len(targets)))\n",
    "testpred = model.predict(test_dataset_norm)\n",
    "actuals = pd.DataFrame.from_records(test_dataset_norm.y)\n",
    "actuals.columns = targets\n",
    "\n",
    "plt.figure()\n",
    "lw = 3\n",
    "\n",
    "# get TPR and FPR\n",
    "for i,target in enumerate(targets):\n",
    "  fpr, tpr, thresholds = roc_curve(test_dataset.y[:, i], testpred[:, i, 1].flatten())\n",
    "  roc_auc = auc(fpr, tpr)\n",
    "  # Make plot\n",
    "  plt.plot(fpr, tpr, color=colors[i],lw=lw, label='%s (area = %0.2f)' % (target, roc_auc))\n",
    "\n",
    "plt.plot([0, 1], [0, 1], color='navy', lw=lw, linestyle='--')\n",
    "plt.xlim([0.0, 1.0])\n",
    "plt.ylim([0.0, 1.05])\n",
    "plt.xlabel('False Positive Rate')\n",
    "plt.ylabel('True Positive Rate')\n",
    "plt.title('Receiver operating characteristic example')\n",
    "plt.legend(loc=(1.1,0))\n",
    "plt.show()\n",
    "\n",
    "predictions = pd.DataFrame(testpred[:, :, 1], columns=[\"p\"+i for i in targets])\n",
    "predictions = pd.concat([test_info, actuals, predictions.round(3)], axis=1)\n",
    "predictions.to_csv(DIR_PATH+'predictions.txt', sep = ' ')\n",
    "predictions.tail()"
   ]
  }
 ],
 "metadata": {
  "colab": {
   "collapsed_sections": [],
   "include_colab_link": true,
   "name": "Structural Annotation of RNA Using NMR Chemical Shifts",
   "provenance": []
  },
  "kernelspec": {
   "display_name": "Python 3",
   "language": "python",
   "name": "python3"
  },
  "language_info": {
   "codemirror_mode": {
    "name": "ipython",
    "version": 3
   },
   "file_extension": ".py",
   "mimetype": "text/x-python",
   "name": "python",
   "nbconvert_exporter": "python",
   "pygments_lexer": "ipython3",
   "version": "3.7.9"
  }
 },
 "nbformat": 4,
 "nbformat_minor": 4
}
