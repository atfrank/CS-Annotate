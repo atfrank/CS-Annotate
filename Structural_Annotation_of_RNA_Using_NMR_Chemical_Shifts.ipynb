{
  "nbformat": 4,
  "nbformat_minor": 0,
  "metadata": {
    "colab": {
      "name": "Structural Annotation of RNA Using NMR Chemical Shifts",
      "provenance": [],
      "collapsed_sections": [],
      "include_colab_link": true
    },
    "kernelspec": {
      "name": "python2",
      "display_name": "Python 2"
    }
  },
  "cells": [
    {
      "cell_type": "markdown",
      "metadata": {
        "id": "view-in-github",
        "colab_type": "text"
      },
      "source": [
        "<a href=\"https://colab.research.google.com/github/atfrank/CS-Annotate/blob/master/Structural_Annotation_of_RNA_Using_NMR_Chemical_Shifts.ipynb\" target=\"_parent\"><img src=\"https://colab.research.google.com/assets/colab-badge.svg\" alt=\"Open In Colab\"/></a>"
      ]
    },
    {
      "cell_type": "markdown",
      "metadata": {
        "id": "LIzeqGWIXAGZ",
        "colab_type": "text"
      },
      "source": [
        "Structural Annotation of RNA Using NMR Chemical Shifts"
      ]
    },
    {
      "cell_type": "markdown",
      "metadata": {
        "id": "RbowTO_icEU0",
        "colab_type": "text"
      },
      "source": [
        "# TODO:"
      ]
    },
    {
      "cell_type": "markdown",
      "metadata": {
        "id": "Zh1nhcVPd3Z7",
        "colab_type": "text"
      },
      "source": [
        "1. Confirm no leakage of features into the training sets\n",
        "2. Confirm that there is no overlap between training and testing set\n",
        "3. Implement compact workflow to test accuracy of model Explore DeepChem model class\n",
        "4. Implement student models and use them as baseline comparison model. Will present them in the supporting information"
      ]
    },
    {
      "cell_type": "markdown",
      "metadata": {
        "id": "nwsc0CtchjFX",
        "colab_type": "text"
      },
      "source": [
        "# Manuscript Sketch"
      ]
    },
    {
      "cell_type": "markdown",
      "metadata": {
        "id": "UcVH67Lbhl5s",
        "colab_type": "text"
      },
      "source": [
        "* **Introduction**:\n",
        "\n",
        "1. RNA structure important\n",
        "2. NMR probes structure\n",
        "3. Chemical shifts in particular sensitive to structure\n",
        "4. Highlight examples of structural parameters extracted from chemical shift data\n",
        "5. Introduce the idea of structural annotation via NMR chemical shifts\n",
        "  * base pairs\n",
        "  * adjacent and non-adjacent stacking\n",
        "  * syn vs. anti\n",
        "  * solvent exposure\n",
        "  * [pucker](https://www.youtube.com/watch?v=4VQxRKQcMYg)\n",
        "\n",
        "6. Survey the use of machine learning used to predict structural parameter from NMR chemical shifts, for both proteins and RNA\n",
        "7. Make point that most approaches previous approaches employed single task learning\n",
        "8. Extol the virtues of multi-task learning\n",
        "10. Summarize what we did and the results\n",
        "\n",
        "* **Methods**:\n",
        "1. Data set\n",
        "2. MC-Annotate\n",
        "3. Multi-task classifiers\n",
        "\n",
        "* **Results**:\n",
        "1. Model performance on test set (Macro-Analysis: e.g., ROC and concordance analysis) including impact of number of neighbors\n",
        "2. Model performance on test set (Micro-Analysis); Compare, visually target and prediction, highlighting (and possibly explaning) errors.\n",
        "3. Importance analysis (which chemical shifts are important for predicting each structural feature)\n",
        "\n",
        "\n"
      ]
    },
    {
      "cell_type": "markdown",
      "metadata": {
        "id": "35jZz_taQzJk",
        "colab_type": "text"
      },
      "source": [
        "# Initialization"
      ]
    },
    {
      "cell_type": "code",
      "metadata": {
        "id": "AT4sz4OXD0eW",
        "colab_type": "code",
        "outputId": "c85b1e93-f7f4-45eb-c674-c7d2ca2ef1b1",
        "colab": {
          "base_uri": "https://localhost:8080/",
          "height": 340
        }
      },
      "source": [
        "!apt-get -qq install -y python-rdkit librdkit1 rdkit-data"
      ],
      "execution_count": 1,
      "outputs": [
        {
          "output_type": "stream",
          "text": [
            "Selecting previously unselected package fonts-freefont-ttf.\n",
            "(Reading database ... 135004 files and directories currently installed.)\n",
            "Preparing to unpack .../fonts-freefont-ttf_20120503-7_all.deb ...\n",
            "Unpacking fonts-freefont-ttf (20120503-7) ...\n",
            "Selecting previously unselected package librdkit1.\n",
            "Preparing to unpack .../librdkit1_201603.5+dfsg-1ubuntu1_amd64.deb ...\n",
            "Unpacking librdkit1 (201603.5+dfsg-1ubuntu1) ...\n",
            "Selecting previously unselected package rdkit-data.\n",
            "Preparing to unpack .../rdkit-data_201603.5+dfsg-1ubuntu1_all.deb ...\n",
            "Unpacking rdkit-data (201603.5+dfsg-1ubuntu1) ...\n",
            "Selecting previously unselected package python-rdkit.\n",
            "Preparing to unpack .../python-rdkit_201603.5+dfsg-1ubuntu1_amd64.deb ...\n",
            "Unpacking python-rdkit (201603.5+dfsg-1ubuntu1) ...\n",
            "Setting up rdkit-data (201603.5+dfsg-1ubuntu1) ...\n",
            "Setting up fonts-freefont-ttf (20120503-7) ...\n",
            "Setting up librdkit1 (201603.5+dfsg-1ubuntu1) ...\n",
            "Setting up python-rdkit (201603.5+dfsg-1ubuntu1) ...\n",
            "Processing triggers for libc-bin (2.27-3ubuntu1) ...\n",
            "Processing triggers for fontconfig (2.12.6-0ubuntu2) ...\n"
          ],
          "name": "stdout"
        }
      ]
    },
    {
      "cell_type": "code",
      "metadata": {
        "id": "8tc8_3YgD08g",
        "colab_type": "code",
        "outputId": "0ea9e1f9-5a0c-4e2c-a8df-b4fb0f70adfe",
        "colab": {
          "base_uri": "https://localhost:8080/",
          "height": 68
        }
      },
      "source": [
        "!pip install -q joblib sklearn tensorflow pillow deepchem"
      ],
      "execution_count": 2,
      "outputs": [
        {
          "output_type": "stream",
          "text": [
            "\u001b[K     |████████████████████████████████| 3.9MB 2.8MB/s \n",
            "\u001b[K     |████████████████████████████████| 512kB 48.5MB/s \n",
            "\u001b[?25h  Building wheel for deepchem (setup.py) ... \u001b[?25l\u001b[?25hdone\n"
          ],
          "name": "stdout"
        }
      ]
    },
    {
      "cell_type": "code",
      "metadata": {
        "id": "1jz5BynGD9L5",
        "colab_type": "code",
        "outputId": "c4a6f4cf-11e6-4e39-803e-95a2af54811c",
        "colab": {
          "base_uri": "https://localhost:8080/",
          "height": 233
        }
      },
      "source": [
        "# test\n",
        "import rdkit as rd\n",
        "import deepchem as dc\n",
        "import numpy as np\n",
        "import tensorflow as tf\n",
        "import pandas as pd \n"
      ],
      "execution_count": 3,
      "outputs": [
        {
          "output_type": "display_data",
          "data": {
            "text/plain": [
              "<IPython.core.display.HTML object>"
            ],
            "text/html": [
              "<p style=\"color: red;\">\n",
              "The default version of TensorFlow in Colab will soon switch to TensorFlow 2.x.<br>\n",
              "We recommend you <a href=\"https://www.tensorflow.org/guide/migrate\" target=\"_blank\">upgrade</a> now \n",
              "or ensure your notebook will continue to use TensorFlow 1.x via the <code>%tensorflow_version 1.x</code> magic:\n",
              "<a href=\"https://colab.research.google.com/notebooks/tensorflow_version.ipynb\" target=\"_blank\">more info</a>.</p>\n"
            ]
          },
          "metadata": {
            "tags": []
          }
        },
        {
          "output_type": "stream",
          "text": [
            "WARNING: Logging before flag parsing goes to stderr.\n",
            "W0129 02:27:12.343940 139981174069120 lazy_loader.py:50] \n",
            "The TensorFlow contrib module will not be included in TensorFlow 2.0.\n",
            "For more information, please see:\n",
            "  * https://github.com/tensorflow/community/blob/master/rfcs/20180907-contrib-sunset.md\n",
            "  * https://github.com/tensorflow/addons\n",
            "  * https://github.com/tensorflow/io (for I/O related ops)\n",
            "If you depend on functionality not listed there, please file an issue.\n",
            "\n"
          ],
          "name": "stderr"
        }
      ]
    },
    {
      "cell_type": "code",
      "metadata": {
        "id": "zrIJswNoBhXp",
        "colab_type": "code",
        "colab": {}
      },
      "source": [
        "NUMBER_CHEMICAL_SHIFT_TYPE = 19\n",
        "RETAIN = ['id', 'resid', 'resname', 'sasa-All-atoms', 'sasa-Total-Side', 'sasa-Main-Chain', 'sasa-Non-polar', 'sasa-All', 'sasa', 'syn_anti', 'astack', 'nastack', 'pair', 'pucker', 'class']\n",
        "RETAIN_NONAME = ['id', 'resid', 'sasa-All-atoms', 'sasa-Total-Side', 'sasa-Main-Chain', 'sasa-Non-polar', 'sasa-All', 'sasa', 'syn_anti', 'astack', 'nastack', 'pair', 'pucker', 'class']\n",
        "\n",
        "def get_cs_all(cs_all, id):\n",
        "\t'''\n",
        "\tThis function gets chemical shifts for a particular RNA.\n",
        "\t'''\n",
        "\treturn(cs_all[cs_all.id == id])\n",
        "\n",
        "def get_cs_residues(cs_i, resid, dummy=0):\n",
        "\t'''\n",
        "\tThis function return an array contining the chemical shifts \n",
        "\tfor a particular residues in an RNA.\n",
        "\t'''\n",
        "\tcs_tmp=cs_i[(cs_i.resid == resid)].drop(RETAIN, axis=1)\n",
        "\tinfo_tmp=cs_i[(cs_i.resid == resid)]\n",
        "\tif (cs_tmp.shape[0] != 1):\n",
        "\t\treturn(dummy*np.ones(shape=(1, NUMBER_CHEMICAL_SHIFT_TYPE)))\n",
        "\telse:\n",
        "\t\treturn(cs_tmp.values)\n",
        "\n",
        "def get_resnames(cs_i, resid, dummy=\"UNK\"):\n",
        "\t'''\n",
        "\tThis function returns the residue name for specified residue (resid)\n",
        "\t'''\n",
        "\tcs_tmp=cs_i[(cs_i.resid == resid)]\n",
        "\tif (cs_tmp.shape[0] != 1):\n",
        "\t\treturn(dummy)\n",
        "\telse:\n",
        "\t\treturn(cs_tmp['resname'].values[0])\n",
        "\n",
        "def get_cs_features(cs_i, resid, neighbors):\n",
        "\t'''\n",
        "\tThis function return chemical shifts and resnames for \n",
        "\tresidues (resid) and its neighbors\n",
        "\t'''\n",
        "\tcs=[]\n",
        "\tresnames=[]\n",
        "\tfor i in range(resid-neighbors, resid+neighbors+1):\n",
        "\t\tcs.append(get_cs_residues(cs_i, i))\n",
        "\t\tresnames.append(get_resnames(cs_i, i))\n",
        "\treturn(resnames, np.array(cs))\n",
        "\n",
        "def get_columns_name(neighbors=3, chemical_shift_types = NUMBER_CHEMICAL_SHIFT_TYPE):\n",
        "\t'''\n",
        "\tHelper function that writes out the required column names\n",
        "\t'''\n",
        "\t#tmp=2*neighbors+1\n",
        "\t#neighbors=1\n",
        "\tcolumns=RETAIN\n",
        "\tfor i in range(0, neighbors*NUMBER_CHEMICAL_SHIFT_TYPE):\n",
        "\t\tcolumns.append(i)\n",
        "\treturn(columns)\n",
        "\n",
        "def write_out_resname(neighbors=1):\n",
        "\t''' \n",
        "\tHelper function that writes out the column names associated \n",
        "\tresnames for a given residue and its neighbors\n",
        "\t'''  \n",
        "\tcolnames = []\n",
        "\tfor i in range(1-neighbors-1, neighbors+1):\n",
        "\t\tif i < 0: \n",
        "\t\t\tcolnames.append('R%s'%i)\n",
        "\t\telif i > 0: \n",
        "\t\t\tcolnames.append('R+%s'%i)\n",
        "\t\telse: \n",
        "\t\t\tcolnames.append('R')\n",
        "\treturn(colnames)    \n",
        "\n",
        "def get_cs_features_rna(cs, neighbors=1):\n",
        "\t'''    \n",
        "\tThis function generates the complete required data frame an RNA    \n",
        "\t'''\n",
        "\tall_features = []\n",
        "\tall_resnames = []\n",
        "\tfor resid in cs['resid'].unique():\n",
        "\t\tresnames, features = get_cs_features(cs, resid, neighbors)\n",
        "\t\tall_features.append(features.flatten())\n",
        "\t\tall_resnames.append(resnames)\n",
        "\n",
        "\tall_resnames = pd.DataFrame(all_resnames, dtype='object', columns = write_out_resname(neighbors))\n",
        "\tall_features = pd.DataFrame(all_features, dtype='object')\n",
        "\tinfo = pd.DataFrame(cs[RETAIN_NONAME].values, dtype='object', columns = RETAIN_NONAME)\n",
        "\treturn(pd.concat([info, all_resnames, all_features], axis=1))\n",
        "\n",
        "def get_cs_features_rna_all(cs, neighbors):  \n",
        "\t'''    \n",
        "\tThis function generate a pandas dataframe containing training data for all RNAs\n",
        "\tEach row in the data frame should contain the class and chemical shifts for given residue and neighbors in a given RNA.\n",
        "\t'''  \n",
        "\tcs_new=pd.DataFrame()\n",
        "\tfor pdbid in cs['id'].unique()[0 :]:\n",
        "\t\ttmp=get_cs_features_rna(get_cs_all(cs, id=pdbid), neighbors)\n",
        "\t\tcs_new=pd.concat([cs_new, tmp], axis=0)\n",
        "\treturn(cs_new)\n",
        " \n",
        "def one_hot_encode(df, hot_columns):\n",
        "  '''\n",
        "    This function generate one hot encodes a dataFrame\n",
        "    see: http://queirozf.com/entries/one-hot-encoding-a-feature-on-a-pandas-dataframe-an-example \n",
        "  '''\n",
        "  for hot_column in hot_columns:\n",
        "    # use pd.concat to join the new columns with your original dataframe\n",
        "    df = pd.concat([df, pd.get_dummies(df[hot_column], prefix=hot_column)],axis=1)\n",
        "    # now drop the original 'country' column (you don't need it anymore)\n",
        "    df.drop([hot_column],axis=1, inplace=True)\n",
        "  return(df)\n",
        "\n",
        "def balance_transformer(dataset):\n",
        "    '''\n",
        "      Copy of deepchem function for reweighting samples. \n",
        "      Deepchem version does not work.\n",
        "    '''\n",
        "    # Compute weighting factors from dataset.\n",
        "    y = dataset.y\n",
        "    w = dataset.w\n",
        "    # Ensure dataset is binary\n",
        "    np.testing.assert_allclose(sorted(np.unique(y)), np.array([0., 1.]))\n",
        "    weights = []\n",
        "    for ind, task in enumerate(dataset.get_task_names()):\n",
        "      task_w = w[:]\n",
        "      task_y = y[:]\n",
        "      # Remove labels with zero weights\n",
        "      task_y = task_y[task_w != 0]\n",
        "      num_positives = np.count_nonzero(task_y)\n",
        "      num_negatives = len(task_y) - num_positives\n",
        "      if num_positives > 0:\n",
        "        pos_weight = float(num_negatives) / num_positives\n",
        "      else:\n",
        "        pos_weight = 1\n",
        "      neg_weight = 1\n",
        "      weights.append((neg_weight, pos_weight)) \n",
        "    return(dc.data.NumpyDataset(X=dataset.X, y=dataset.y, w=np.where(y==1, pos_weight, neg_weight)))\n",
        "\n",
        "def get_training_data(neighbors):\n",
        "  url=\"https://drive.google.com/uc?id=1ARcR1TVkG-X3BN8yUnW0WWRUHC9-ye_K&authuser=afrankz@umich.edu&usp=drive_fs\"\n",
        "  s=requests.get(url).content\n",
        "  c=pd.read_csv(io.StringIO(s.decode('utf-8')), sep = \"\\s+\")\n",
        "  cs_data = c.rename(columns = {'H8\\t' : 'H8'})\n",
        "  if 'Unnamed: 0' in cs_data.columns:\n",
        "    cs_data = cs_data.drop(columns = ['Unnamed: 0'])\n",
        "\n",
        "  cs_all = get_cs_features_rna_all(cs_data, neighbors = neighbors)\n",
        "  cs_all = one_hot_encode(cs_all, write_out_resname(neighbors))\n",
        "  return(cs_all)\n",
        "\n",
        "def get_data(neighbors, training = True):\n",
        "  # load sasa data\n",
        "  if training:    \n",
        "    url=\"https://drive.google.com/uc?id=1Y3Imx-lTjGKCQAFqEKTbaMSzFARtwEFN&authuser=afrankz@umich.edu&usp=drive_fs\"\n",
        "  else:   \n",
        "    url=\"https://drive.google.com/uc?id=1jLcowU89y4o5Xmv_qBs3VgZre5ZFFYwG&authuser=afrankz@umich.edu&usp=drive_fs\"\n",
        "\n",
        "  s=requests.get(url).content\n",
        "  sasa=pd.read_csv(io.StringIO(s.decode('utf-8')), sep = \"\\s+\")\n",
        "  print(\"[INFO]: SASA loaded data\")\n",
        "  print(sasa.head())\n",
        "\n",
        "  # load cs data\n",
        "  url=\"https://drive.google.com/uc?id=1ApGAKHnzKUjri-f_sSPZwqK5N3Cr7gPq&authuser=afrankz@umich.edu&usp=drive_fs\"\n",
        "  s=requests.get(url).content\n",
        "  cs=pd.read_csv(io.StringIO(s.decode('utf-8')), sep = \" \")\n",
        "  print(\"[INFO]: CS loaded data\")\n",
        "  print(cs.head())\n",
        "\n",
        "  # load MC-Annotate\n",
        "  url=\"https://drive.google.com/uc?id=1AY2tuleA7Q2yy5ID_YygIKPo2kR3EEH4&authuser=afrankz@umich.edu&usp=drive_fs\"\n",
        "  s=requests.get(url).content\n",
        "  mc_anontate=pd.read_csv(io.StringIO(s.decode('utf-8')), sep = \" \")\n",
        "  print(\"[INFO]: MC-Annotate loaded data\")\n",
        "\n",
        "  # merge sasa and cs\n",
        "  data = pd.merge(cs, sasa, on=['id', 'resname', 'resid'])\n",
        "  # merge with mc-annotate structure\n",
        "  data = pd.merge(data, mc_anontate, on=['id', 'resname', 'resid'])  \n",
        "  drop_names = ['sugar_puckering', 'pseudoknot', 'junk']\n",
        "  #data = data.drop(drop_names, axis=1)\n",
        "  print(\"[INFO]: merged SASA, CS, and MC-Annotate\")\n",
        "  print(data.head())\n",
        "\n",
        "  # prepare for testing\n",
        "  print(data.columns)\n",
        "  data_all = get_cs_features_rna_all(data, neighbors = neighbors)\n",
        "  print(\"[INFO]: Prepared final data set\")\n",
        "  print(data_all.head())\n",
        "\n",
        "  data_all = one_hot_encode(data_all, write_out_resname(neighbors))\n",
        "  print(\"[INFO]: One-hot encoded data\")\n",
        "  print(data_all.head())\n",
        "  return(data_all)\n"
      ],
      "execution_count": 0,
      "outputs": []
    },
    {
      "cell_type": "markdown",
      "metadata": {
        "id": "aMpj5KncQ8Vj",
        "colab_type": "text"
      },
      "source": [
        "# Train Model"
      ]
    },
    {
      "cell_type": "code",
      "metadata": {
        "id": "VaCDYkm1IPS1",
        "colab_type": "code",
        "colab": {}
      },
      "source": [
        "## Import Module\n",
        "import pandas as pd\n",
        "import numpy as np\n",
        "import io\n",
        "import pandas as pd\n",
        "import io\n",
        "import requests\n",
        "import deepchem as dc\n",
        "import tensorflow as tf"
      ],
      "execution_count": 0,
      "outputs": []
    },
    {
      "cell_type": "code",
      "metadata": {
        "id": "-Giwx74fCuE6",
        "colab_type": "code",
        "outputId": "d9d8f1dd-f061-4316-ed41-4db555253819",
        "colab": {
          "base_uri": "https://localhost:8080/",
          "height": 1000
        }
      },
      "source": [
        "################################################################\n",
        "## Prepare data\n",
        "################################################################\n",
        "neighbors = 3\n",
        "train = get_data(neighbors, training = True)\n",
        "test = get_data(neighbors, training = False)"
      ],
      "execution_count": 6,
      "outputs": [
        {
          "output_type": "stream",
          "text": [
            "[INFO]: SASA loaded data\n",
            "     id resname  resid  ...  sasa-Main-Chain  sasa-Non-polar  sasa-All\n",
            "0  1A60     GUA      1  ...            60.23           31.95    102.20\n",
            "1  1A60     GUA      2  ...           115.09           38.57    133.43\n",
            "2  1A60     GUA      3  ...           128.68           52.70    134.89\n",
            "3  1A60     ADE      4  ...           130.26           57.02    129.43\n",
            "4  1A60     GUA      5  ...           116.62           37.60    166.72\n",
            "\n",
            "[5 rows x 8 columns]\n",
            "[INFO]: CS loaded data\n",
            "     id  resid resname   C1p   C2p   C3p  ...     H5   H5p  H5pp     H6    H8  class\n",
            "0  1A60      1     GUA  92.7  74.9  72.0  ...  6.124  4.07  3.99  8.413  8.03      0\n",
            "1  1A60      2     GUA  91.9  75.7  72.4  ...  5.549  4.20  4.15  7.871  7.49      0\n",
            "2  1A60      3     GUA  92.2  76.1  72.3  ...  5.651  4.10  4.08  7.904  7.24      0\n",
            "3  1A60      4     ADE  92.2  75.0  72.0  ...  5.932  4.28  4.11  8.413  7.68      0\n",
            "4  1A60      5     GUA  92.2  74.8  71.8  ...  5.988  4.18  4.07  8.522  7.00      0\n",
            "\n",
            "[5 rows x 23 columns]\n",
            "[INFO]: MC-Annotate loaded data\n",
            "[INFO]: merged SASA, CS, and MC-Annotate\n",
            "     id  resid resname   C1p   C2p  ...    pucker  syn_anti  astack  nastack  pair\n",
            "0  1A60      1     GUA  92.7  74.9  ...   C2p_exo         0       1        0     1\n",
            "1  1A60      2     GUA  91.9  75.7  ...   C4p_exo         0       1        0     1\n",
            "2  1A60      3     GUA  92.2  76.1  ...  C3p_endo         0       1        0     1\n",
            "3  1A60      4     ADE  92.2  75.0  ...   C2p_exo         0       1        0     1\n",
            "4  1A60      5     GUA  92.2  74.8  ...  C3p_endo         0       1        0     1\n",
            "\n",
            "[5 rows x 34 columns]\n",
            "Index([u'id', u'resid', u'resname', u'C1p', u'C2p', u'C3p', u'C4p', u'C5p',\n",
            "       u'C2', u'C5', u'C6', u'C8', u'H1p', u'H2p', u'H3p', u'H4p', u'H2',\n",
            "       u'H5', u'H5p', u'H5pp', u'H6', u'H8', u'class', u'sasa-All-atoms',\n",
            "       u'sasa-Total-Side', u'sasa-Main-Chain', u'sasa-Non-polar', u'sasa-All',\n",
            "       u'sasa', u'pucker', u'syn_anti', u'astack', u'nastack', u'pair'],\n",
            "      dtype='object')\n",
            "[INFO]: Prepared final data set\n",
            "     id resid sasa-All-atoms sasa-Total-Side  ...   129   130    131    132\n",
            "0  1A60     1         134.15           73.92  ...  4.28  4.11  8.413   7.68\n",
            "1  1A60     2            172           56.91  ...  4.18  4.07  8.522      7\n",
            "2  1A60     3         187.59            58.9  ...  4.32  4.17   7.48  8.169\n",
            "3  1A60     4         186.44           56.18  ...  4.14  4.13   7.89  8.291\n",
            "4  1A60     5         204.31           87.69  ...  4.08  3.98   7.74    7.6\n",
            "\n",
            "[5 rows x 154 columns]\n",
            "[INFO]: One-hot encoded data\n",
            "     id resid sasa-All-atoms sasa-Total-Side  ... R+3_CYT R+3_GUA R+3_UNK R+3_URA\n",
            "0  1A60     1         134.15           73.92  ...       0       0       0       0\n",
            "1  1A60     2            172           56.91  ...       0       1       0       0\n",
            "2  1A60     3         187.59            58.9  ...       1       0       0       0\n",
            "3  1A60     4         186.44           56.18  ...       0       0       0       1\n",
            "4  1A60     5         204.31           87.69  ...       1       0       0       0\n",
            "\n",
            "[5 rows x 181 columns]\n",
            "[INFO]: SASA loaded data\n",
            "     id resname  resid  ...  sasa-Main-Chain  sasa-Non-polar  sasa-All\n",
            "0  5KH8     GUA      1  ...           117.14           91.37    120.73\n",
            "1  5KH8     GUA      2  ...           121.78           39.86    111.48\n",
            "2  5KH8     CYT      3  ...           105.67           47.49     97.81\n",
            "3  5KH8     GUA      4  ...            57.39            5.57    116.69\n",
            "4  5KH8     ADE      5  ...            27.86           29.63     81.90\n",
            "\n",
            "[5 rows x 8 columns]\n",
            "[INFO]: CS loaded data\n",
            "     id  resid resname   C1p   C2p   C3p  ...     H5   H5p  H5pp     H6    H8  class\n",
            "0  1A60      1     GUA  92.7  74.9  72.0  ...  6.124  4.07  3.99  8.413  8.03      0\n",
            "1  1A60      2     GUA  91.9  75.7  72.4  ...  5.549  4.20  4.15  7.871  7.49      0\n",
            "2  1A60      3     GUA  92.2  76.1  72.3  ...  5.651  4.10  4.08  7.904  7.24      0\n",
            "3  1A60      4     ADE  92.2  75.0  72.0  ...  5.932  4.28  4.11  8.413  7.68      0\n",
            "4  1A60      5     GUA  92.2  74.8  71.8  ...  5.988  4.18  4.07  8.522  7.00      0\n",
            "\n",
            "[5 rows x 23 columns]\n",
            "[INFO]: MC-Annotate loaded data\n",
            "[INFO]: merged SASA, CS, and MC-Annotate\n",
            "     id  resid resname     C1p  ...  syn_anti  astack  nastack  pair\n",
            "0  2JTP      1     GUA  90.813  ...         0       1        0     1\n",
            "1  2JTP      2     GUA  92.530  ...         0       1        0     1\n",
            "2  2JTP      3     ADE  93.057  ...         0       1        0     1\n",
            "3  2JTP      4     URA  93.129  ...         0       1        0     1\n",
            "4  2JTP      5     GUA  92.459  ...         0       1        0     1\n",
            "\n",
            "[5 rows x 34 columns]\n",
            "Index([u'id', u'resid', u'resname', u'C1p', u'C2p', u'C3p', u'C4p', u'C5p',\n",
            "       u'C2', u'C5', u'C6', u'C8', u'H1p', u'H2p', u'H3p', u'H4p', u'H2',\n",
            "       u'H5', u'H5p', u'H5pp', u'H6', u'H8', u'class', u'sasa-All-atoms',\n",
            "       u'sasa-Total-Side', u'sasa-Main-Chain', u'sasa-Non-polar', u'sasa-All',\n",
            "       u'sasa', u'pucker', u'syn_anti', u'astack', u'nastack', u'pair'],\n",
            "      dtype='object')\n",
            "[INFO]: Prepared final data set\n",
            "     id resid sasa-All-atoms sasa-Total-Side  ...    129    130    131    132\n",
            "0  2JTP     1         260.48          144.85  ...  4.085  4.448  7.464   8.08\n",
            "1  2JTP     2         199.46           73.99  ...  4.157  4.187  8.413  7.643\n",
            "2  2JTP     3         182.14           51.38  ...   4.49  4.071  8.522  7.212\n",
            "3  2JTP     4         184.93              59  ...  4.369  4.027  8.413  7.156\n",
            "4  2JTP     5         195.54           65.68  ...   4.17   3.98   7.93  7.165\n",
            "\n",
            "[5 rows x 154 columns]\n",
            "[INFO]: One-hot encoded data\n",
            "     id resid sasa-All-atoms sasa-Total-Side  ... R+3_CYT R+3_GUA R+3_UNK R+3_URA\n",
            "0  2JTP     1         260.48          144.85  ...       0       0       0       1\n",
            "1  2JTP     2         199.46           73.99  ...       0       1       0       0\n",
            "2  2JTP     3         182.14           51.38  ...       0       1       0       0\n",
            "3  2JTP     4         184.93              59  ...       0       1       0       0\n",
            "4  2JTP     5         195.54           65.68  ...       0       1       0       0\n",
            "\n",
            "[5 rows x 181 columns]\n"
          ],
          "name": "stdout"
        }
      ]
    },
    {
      "cell_type": "code",
      "metadata": {
        "id": "PA8ZeGsG---i",
        "colab_type": "code",
        "colab": {}
      },
      "source": [
        "# Prepare training set\n",
        "sd_scale = 0.5\n",
        "targets = ['sasa', 'astack',  'nastack', 'pair', 'syn_anti']\n",
        "drop_names = ['id', 'resid', 'sasa-All-atoms', 'sasa-Total-Side', 'sasa-Main-Chain', 'sasa-Non-polar', 'sasa-All', 'sasa', 'astack',  'nastack', 'pair', 'syn_anti', 'pucker', 'class']\n",
        "tmp_trainX = train.drop(drop_names, axis=1)\n",
        "tmp_trainy = pd.DataFrame(train[targets].values, dtype = 'float', columns = targets)\n",
        "trainX = pd.DataFrame(tmp_trainX.values, dtype = 'float')\n",
        "trainy = tmp_trainy.values\n",
        "train_mean = [trainy[:, 0].mean()]\n",
        "train_sd = [sd_scale*np.std(trainy[:, 0])]\n",
        "tmp = one_hot_encode(pd.DataFrame(train['pucker'].values, columns=['pucker']), ['pucker'])\n",
        "trainy_mix = np.vstack([ np.where(trainy[:, 0] <= train_mean[0]+train_sd[0], 0, 1),                         \n",
        "                        trainy[:, 1],\n",
        "                        trainy[:, 2],\n",
        "                        trainy[:, 3],\n",
        "                        trainy[:, 4],\n",
        "                        tmp['pucker_C2p_endo'].values,\n",
        "                        tmp['pucker_C3p_endo'].values,\n",
        "                        tmp['pucker_C2p_exo'].values,\n",
        "                        tmp['pucker_C3p_exo'].values,\n",
        "                        tmp['pucker_C1p_exo'].values,\n",
        "                        tmp['pucker_C4p_exo'].values\n",
        "                        ]).T\n",
        "w = np.ones(len(trainy[:, 0]))\n",
        "train_w = np.vstack([w, w, w, w, w, w, w, w, w, w, w]).T\n",
        "train_dataset = dc.data.NumpyDataset(trainX, trainy_mix, train_w)\n",
        "\n",
        "# Prepare test model\n",
        "retain = ['id', 'resid', 'sasa']\n",
        "tmp_testX = test.drop(drop_names, axis=1)\n",
        "tmp_testy = pd.DataFrame(test[targets].values, dtype = 'float', columns = targets)\n",
        "targets.append('pucker_C2p_endo')\n",
        "targets.append('pucker_C3p_endo')\n",
        "targets.append('pucker_C2p_exo')\n",
        "targets.append('pucker_C3p_exo')\n",
        "targets.append('pucker_C1p_exo')\n",
        "targets.append('pucker_C4p_exo')\n",
        "\n",
        "testX = pd.DataFrame(tmp_testX.values, dtype = 'float')\n",
        "testy = tmp_testy.values\n",
        "tmp = one_hot_encode(pd.DataFrame(test['pucker'].values, columns=['pucker']), ['pucker'])\n",
        "testy_mix = np.vstack([ np.where(testy[:, 0] <= train_mean[0]+train_sd[0], 0, 1),                         \n",
        "                        testy[:, 1],\n",
        "                        testy[:, 2],\n",
        "                        testy[:, 3],\n",
        "                        testy[:, 4],\n",
        "                        tmp['pucker_C2p_endo'].values,\n",
        "                        tmp['pucker_C3p_endo'].values,\n",
        "                        tmp['pucker_C2p_exo'].values,\n",
        "                        tmp['pucker_C3p_exo'].values,\n",
        "                        tmp['pucker_C1p_exo'].values,\n",
        "                        tmp['pucker_C4p_exo'].values                       \n",
        "                        ]).T\n",
        "w = np.ones(len(testy[:, 0]))\n",
        "test_w = np.vstack([w, w, w, w, w, w, w, w, w, w, w]).T\n",
        "test_dataset = dc.data.NumpyDataset(np.array(testX), np.array(testy_mix), test_w)\n",
        "info = pd.DataFrame(test[retain].values, dtype='object', columns = retain)\n",
        "actuals = pd.DataFrame(testy_mix, columns=targets)\n"
      ],
      "execution_count": 0,
      "outputs": []
    },
    {
      "cell_type": "code",
      "metadata": {
        "id": "YovP4kChIOQX",
        "colab_type": "code",
        "colab": {}
      },
      "source": [
        "pd.DataFrame({\"sasa\":trainy_mix[:, 0], \n",
        "             \"astack\":trainy_mix[:, 1], \n",
        "             \"nastack\":trainy_mix[:, 2], \n",
        "             \"pair\":trainy_mix[:, 3], \n",
        "             \"syn_anti\":trainy_mix[:, 4], \n",
        "             \"pucker_C2p_endo\":trainy_mix[:, 5],\n",
        "             \"pucker_C3p_endo\":trainy_mix[:, 6],\n",
        "             \"pucker_C2p_exo\":trainy_mix[:, 7],\n",
        "             \"pucker_C3p_exo\":trainy_mix[:, 8],\n",
        "             \"pucker_C1p_exo\":trainy_mix[:, 9],\n",
        "             \"pucker_C4p_exo\":trainy_mix[:, 10]}).to_csv(\"train_target.csv\", sep = \" \", index = False)\n",
        "\n",
        "trainX.to_csv(\"train_features.csv\", sep = \" \", index = False)\n",
        "\n",
        "pd.DataFrame({\"sasa\":testy_mix[:, 0], \n",
        "             \"astack\":testy_mix[:, 1], \n",
        "             \"nastack\":testy_mix[:, 2], \n",
        "             \"pair\":testy_mix[:, 3], \n",
        "             \"syn_anti\":testy_mix[:, 4], \n",
        "             \"pucker_C2p_endo\":testy_mix[:, 5],\n",
        "             \"pucker_C3p_endo\":testy_mix[:, 6],\n",
        "             \"pucker_C2p_exo\":testy_mix[:, 7],\n",
        "             \"pucker_C3p_exo\":testy_mix[:, 8],\n",
        "             \"pucker_C1p_exo\":testy_mix[:, 9],\n",
        "             \"pucker_C4p_exo\":testy_mix[:, 10]}).to_csv(\"test_target.csv\", sep = \" \", index = False)\n",
        "\n",
        "testX.to_csv(\"test_features.csv\", sep = \" \", index = False)"
      ],
      "execution_count": 0,
      "outputs": []
    },
    {
      "cell_type": "code",
      "metadata": {
        "id": "bmGvikLWKVJr",
        "colab_type": "code",
        "colab": {}
      },
      "source": [
        "# Scale\n",
        "transform_scaler = dc.trans.transformers.NormalizationTransformer(transform_X = True, transform_y = False, dataset=train_dataset)\n",
        "train_dataset_norm = transform_scaler.transform(train_dataset)\n",
        "test_dataset_norm = transform_scaler.transform(test_dataset)\n",
        "\n",
        "# Balance Dataset\n",
        "transform_balancer = dc.trans.transformers.BalancingTransformer(transform_w = True, dataset=train_dataset_norm)\n",
        "\n",
        "#train_dataset_balanced = balancer.transform(train_dataset_norm)\n",
        "train_dataset_balanced = balance_transformer(train_dataset_norm)\n",
        "\n",
        "# confirm not overlap between between training and testing\n",
        "set(train.id.unique()).intersection(set(test.id.unique()))\n",
        "\n",
        "n_features = train_dataset_balanced.X.shape[1]\n",
        "n_tasks = train_dataset_balanced.y.shape[1]"
      ],
      "execution_count": 0,
      "outputs": []
    },
    {
      "cell_type": "code",
      "metadata": {
        "id": "I00ANPhEIUs6",
        "colab_type": "code",
        "outputId": "1e23d16c-0dac-4bc4-b51b-48eb0e2093a4",
        "colab": {
          "base_uri": "https://localhost:8080/",
          "height": 428
        }
      },
      "source": [
        "model = dc.models.ProgressiveMultitaskClassifier(n_tasks=n_tasks, n_features=n_features, alpha_init_stddevs=0.04)\n",
        "model.fit(train_dataset_balanced, nb_epoch=100)"
      ],
      "execution_count": 0,
      "outputs": [
        {
          "output_type": "stream",
          "text": [
            "W0103 05:27:21.613854 140638720210816 module_wrapper.py:139] From /usr/local/lib/python2.7/dist-packages/deepchem/models/tensorgraph/progressive_multitask.py:208: The name tf.truncated_normal is deprecated. Please use tf.random.truncated_normal instead.\n",
            "\n",
            "W0103 05:27:21.712285 140638720210816 module_wrapper.py:139] From /usr/local/lib/python2.7/dist-packages/deepchem/models/tensorgraph/tensor_graph.py:715: The name tf.placeholder is deprecated. Please use tf.compat.v1.placeholder instead.\n",
            "\n",
            "W0103 05:27:21.721410 140638720210816 module_wrapper.py:139] From /usr/local/lib/python2.7/dist-packages/deepchem/models/tensorgraph/layers.py:2464: The name tf.FIFOQueue is deprecated. Please use tf.queue.FIFOQueue instead.\n",
            "\n",
            "W0103 05:27:21.728049 140638720210816 module_wrapper.py:139] From /usr/local/lib/python2.7/dist-packages/deepchem/models/tensorgraph/layers.py:1216: The name tf.placeholder_with_default is deprecated. Please use tf.compat.v1.placeholder_with_default instead.\n",
            "\n",
            "W0103 05:27:21.750906 140638720210816 deprecation.py:506] From /usr/local/lib/python2.7/dist-packages/tensorflow_core/python/ops/resource_variable_ops.py:1630: calling __init__ (from tensorflow.python.ops.resource_variable_ops) with constraint is deprecated and will be removed in a future version.\n",
            "Instructions for updating:\n",
            "If using Keras pass *_constraint arguments to layers.\n",
            "W0103 05:27:22.600313 140638720210816 module_wrapper.py:139] From /usr/local/lib/python2.7/dist-packages/deepchem/models/tensorgraph/tensor_graph.py:728: The name tf.Session is deprecated. Please use tf.compat.v1.Session instead.\n",
            "\n",
            "W0103 05:27:22.729216 140638720210816 module_wrapper.py:139] From /usr/local/lib/python2.7/dist-packages/deepchem/models/tensorgraph/optimizers.py:76: The name tf.train.AdamOptimizer is deprecated. Please use tf.compat.v1.train.AdamOptimizer instead.\n",
            "\n",
            "W0103 05:27:24.783931 140638720210816 module_wrapper.py:139] From /usr/local/lib/python2.7/dist-packages/deepchem/models/tensorgraph/tensor_graph.py:1013: The name tf.get_collection is deprecated. Please use tf.compat.v1.get_collection instead.\n",
            "\n",
            "W0103 05:27:24.785336 140638720210816 module_wrapper.py:139] From /usr/local/lib/python2.7/dist-packages/deepchem/models/tensorgraph/tensor_graph.py:1013: The name tf.GraphKeys is deprecated. Please use tf.compat.v1.GraphKeys instead.\n",
            "\n",
            "W0103 05:27:24.795890 140638720210816 module_wrapper.py:139] From /usr/local/lib/python2.7/dist-packages/deepchem/models/tensorgraph/tensor_graph.py:739: The name tf.global_variables_initializer is deprecated. Please use tf.compat.v1.global_variables_initializer instead.\n",
            "\n",
            "W0103 05:27:28.261142 140638720210816 module_wrapper.py:139] From /usr/local/lib/python2.7/dist-packages/deepchem/models/tensorgraph/tensor_graph.py:749: The name tf.summary.scalar is deprecated. Please use tf.compat.v1.summary.scalar instead.\n",
            "\n"
          ],
          "name": "stderr"
        }
      ]
    },
    {
      "cell_type": "markdown",
      "metadata": {
        "id": "T3aWiEyJutL_",
        "colab_type": "text"
      },
      "source": [
        "# Test Model"
      ]
    },
    {
      "cell_type": "code",
      "metadata": {
        "id": "R13KHWmKVaVa",
        "colab_type": "code",
        "outputId": "be99b9d3-ee73-4d0d-dd05-e80af9f1c544",
        "colab": {
          "base_uri": "https://localhost:8080/",
          "height": 502
        }
      },
      "source": [
        "import pandas as pd\n",
        "import numpy as np\n",
        "import matplotlib.pyplot as plt\n",
        "from sklearn.metrics import roc_curve, auc\n",
        "import matplotlib.cm as cm\n",
        "\n",
        "colors = cm.rainbow(np.linspace(0, 1, len(targets)))\n",
        "testpred = model.predict(test_dataset_norm)\n",
        "plt.figure()\n",
        "lw = 3\n",
        "\n",
        "# get TPR and FPR\n",
        "for i,target in enumerate(targets):\n",
        "  fpr, tpr, thresholds = roc_curve(test_dataset.y[:, i], testpred[:, i, 1].flatten())\n",
        "  roc_auc = auc(fpr, tpr)\n",
        "  # Make plot\n",
        "  plt.plot(fpr, tpr, color=colors[i],lw=lw, label='%s (area = %0.2f)' % (target, roc_auc))\n",
        "\n",
        "plt.plot([0, 1], [0, 1], color='navy', lw=lw, linestyle='--')\n",
        "plt.xlim([0.0, 1.0])\n",
        "plt.ylim([0.0, 1.05])\n",
        "plt.xlabel('False Positive Rate')\n",
        "plt.ylabel('True Positive Rate')\n",
        "plt.title('Receiver operating characteristic example')\n",
        "plt.legend(loc=(1.1,0))\n",
        "plt.show()\n",
        "\n",
        "predictions = pd.DataFrame(testpred[:, :, 1], columns=[\"p\"+i for i in targets])\n",
        "predictions = pd.concat([info, actuals, predictions], axis=1)\n",
        "predictions.to_csv('predictions.txt', sep = ' ')\n",
        "predictions.tail()"
      ],
      "execution_count": 0,
      "outputs": [
        {
          "output_type": "display_data",
          "data": {
            "image/png": "[encoded data removed]",
            "text/plain": [
              "<Figure size 432x288 with 1 Axes>"
            ]
          },
          "metadata": {
            "tags": []
          }
        },
        {
          "output_type": "execute_result",
          "data": {
            "text/html": [
              "<div>\n",
              "<style scoped>\n",
              "    .dataframe tbody tr th:only-of-type {\n",
              "        vertical-align: middle;\n",
              "    }\n",
              "\n",
              "    .dataframe tbody tr th {\n",
              "        vertical-align: top;\n",
              "    }\n",
              "\n",
              "    .dataframe thead th {\n",
              "        text-align: right;\n",
              "    }\n",
              "</style>\n",
              "<table border=\"1\" class=\"dataframe\">\n",
              "  <thead>\n",
              "    <tr style=\"text-align: right;\">\n",
              "      <th></th>\n",
              "      <th>id</th>\n",
              "      <th>resid</th>\n",
              "      <th>sasa</th>\n",
              "      <th>sasa</th>\n",
              "      <th>astack</th>\n",
              "      <th>nastack</th>\n",
              "      <th>pair</th>\n",
              "      <th>syn_anti</th>\n",
              "      <th>pucker_C2p_endo</th>\n",
              "      <th>pucker_C3p_endo</th>\n",
              "      <th>pucker_C2p_exo</th>\n",
              "      <th>pucker_C3p_exo</th>\n",
              "      <th>pucker_C1p_exo</th>\n",
              "      <th>pucker_C4p_exo</th>\n",
              "      <th>psasa</th>\n",
              "      <th>pastack</th>\n",
              "      <th>pnastack</th>\n",
              "      <th>ppair</th>\n",
              "      <th>psyn_anti</th>\n",
              "      <th>ppucker_C2p_endo</th>\n",
              "      <th>ppucker_C3p_endo</th>\n",
              "      <th>ppucker_C2p_exo</th>\n",
              "      <th>ppucker_C3p_exo</th>\n",
              "      <th>ppucker_C1p_exo</th>\n",
              "      <th>ppucker_C4p_exo</th>\n",
              "    </tr>\n",
              "  </thead>\n",
              "  <tbody>\n",
              "    <tr>\n",
              "      <th>132</th>\n",
              "      <td>5KH8</td>\n",
              "      <td>43</td>\n",
              "      <td>183.51</td>\n",
              "      <td>0.0</td>\n",
              "      <td>1.0</td>\n",
              "      <td>0.0</td>\n",
              "      <td>1.0</td>\n",
              "      <td>0.0</td>\n",
              "      <td>0.0</td>\n",
              "      <td>1.0</td>\n",
              "      <td>0.0</td>\n",
              "      <td>0.0</td>\n",
              "      <td>0.0</td>\n",
              "      <td>0.0</td>\n",
              "      <td>0.380667</td>\n",
              "      <td>0.956079</td>\n",
              "      <td>0.000001</td>\n",
              "      <td>0.964696</td>\n",
              "      <td>9.012440e-07</td>\n",
              "      <td>0.004082</td>\n",
              "      <td>0.806172</td>\n",
              "      <td>0.078701</td>\n",
              "      <td>5.540427e-06</td>\n",
              "      <td>7.119557e-14</td>\n",
              "      <td>0.514702</td>\n",
              "    </tr>\n",
              "    <tr>\n",
              "      <th>133</th>\n",
              "      <td>5KH8</td>\n",
              "      <td>44</td>\n",
              "      <td>180.49</td>\n",
              "      <td>0.0</td>\n",
              "      <td>1.0</td>\n",
              "      <td>0.0</td>\n",
              "      <td>1.0</td>\n",
              "      <td>0.0</td>\n",
              "      <td>0.0</td>\n",
              "      <td>1.0</td>\n",
              "      <td>0.0</td>\n",
              "      <td>0.0</td>\n",
              "      <td>0.0</td>\n",
              "      <td>0.0</td>\n",
              "      <td>0.580960</td>\n",
              "      <td>0.764324</td>\n",
              "      <td>0.000589</td>\n",
              "      <td>0.843177</td>\n",
              "      <td>9.298865e-08</td>\n",
              "      <td>0.018362</td>\n",
              "      <td>0.638183</td>\n",
              "      <td>0.210536</td>\n",
              "      <td>3.784087e-06</td>\n",
              "      <td>4.377212e-11</td>\n",
              "      <td>0.534724</td>\n",
              "    </tr>\n",
              "    <tr>\n",
              "      <th>134</th>\n",
              "      <td>5KH8</td>\n",
              "      <td>45</td>\n",
              "      <td>163.27</td>\n",
              "      <td>0.0</td>\n",
              "      <td>1.0</td>\n",
              "      <td>0.0</td>\n",
              "      <td>1.0</td>\n",
              "      <td>0.0</td>\n",
              "      <td>0.0</td>\n",
              "      <td>1.0</td>\n",
              "      <td>0.0</td>\n",
              "      <td>0.0</td>\n",
              "      <td>0.0</td>\n",
              "      <td>0.0</td>\n",
              "      <td>0.349365</td>\n",
              "      <td>0.883506</td>\n",
              "      <td>0.005220</td>\n",
              "      <td>0.979564</td>\n",
              "      <td>1.003267e-15</td>\n",
              "      <td>0.000676</td>\n",
              "      <td>0.849100</td>\n",
              "      <td>0.022845</td>\n",
              "      <td>1.138090e-05</td>\n",
              "      <td>2.793437e-12</td>\n",
              "      <td>0.351922</td>\n",
              "    </tr>\n",
              "    <tr>\n",
              "      <th>135</th>\n",
              "      <td>5KH8</td>\n",
              "      <td>46</td>\n",
              "      <td>188.07</td>\n",
              "      <td>0.0</td>\n",
              "      <td>1.0</td>\n",
              "      <td>0.0</td>\n",
              "      <td>0.0</td>\n",
              "      <td>0.0</td>\n",
              "      <td>0.0</td>\n",
              "      <td>1.0</td>\n",
              "      <td>0.0</td>\n",
              "      <td>0.0</td>\n",
              "      <td>0.0</td>\n",
              "      <td>0.0</td>\n",
              "      <td>0.215262</td>\n",
              "      <td>0.965437</td>\n",
              "      <td>0.272469</td>\n",
              "      <td>0.978294</td>\n",
              "      <td>8.153876e-27</td>\n",
              "      <td>0.018360</td>\n",
              "      <td>0.864040</td>\n",
              "      <td>0.198011</td>\n",
              "      <td>4.315011e-10</td>\n",
              "      <td>2.729772e-25</td>\n",
              "      <td>0.176565</td>\n",
              "    </tr>\n",
              "    <tr>\n",
              "      <th>136</th>\n",
              "      <td>5KH8</td>\n",
              "      <td>47</td>\n",
              "      <td>338.68</td>\n",
              "      <td>1.0</td>\n",
              "      <td>1.0</td>\n",
              "      <td>0.0</td>\n",
              "      <td>0.0</td>\n",
              "      <td>0.0</td>\n",
              "      <td>0.0</td>\n",
              "      <td>1.0</td>\n",
              "      <td>0.0</td>\n",
              "      <td>0.0</td>\n",
              "      <td>0.0</td>\n",
              "      <td>0.0</td>\n",
              "      <td>0.997957</td>\n",
              "      <td>0.620887</td>\n",
              "      <td>0.000001</td>\n",
              "      <td>0.999319</td>\n",
              "      <td>0.000000e+00</td>\n",
              "      <td>0.012455</td>\n",
              "      <td>0.732539</td>\n",
              "      <td>0.060014</td>\n",
              "      <td>3.412909e-06</td>\n",
              "      <td>0.000000e+00</td>\n",
              "      <td>0.828743</td>\n",
              "    </tr>\n",
              "  </tbody>\n",
              "</table>\n",
              "</div>"
            ],
            "text/plain": [
              "       id resid    sasa  ...  ppucker_C3p_exo  ppucker_C1p_exo  ppucker_C4p_exo\n",
              "132  5KH8    43  183.51  ...     5.540427e-06     7.119557e-14         0.514702\n",
              "133  5KH8    44  180.49  ...     3.784087e-06     4.377212e-11         0.534724\n",
              "134  5KH8    45  163.27  ...     1.138090e-05     2.793437e-12         0.351922\n",
              "135  5KH8    46  188.07  ...     4.315011e-10     2.729772e-25         0.176565\n",
              "136  5KH8    47  338.68  ...     3.412909e-06     0.000000e+00         0.828743\n",
              "\n",
              "[5 rows x 25 columns]"
            ]
          },
          "metadata": {
            "tags": []
          },
          "execution_count": 154
        }
      ]
    },
    {
      "cell_type": "code",
      "metadata": {
        "id": "k380xJIpaSwT",
        "colab_type": "code",
        "outputId": "34a1b002-9e49-4b4f-f456-c51fde84c349",
        "colab": {
          "base_uri": "https://localhost:8080/",
          "height": 119
        }
      },
      "source": [
        "list(tmp.columns)"
      ],
      "execution_count": 0,
      "outputs": [
        {
          "output_type": "execute_result",
          "data": {
            "text/plain": [
              "['pucker_C1p_exo',\n",
              " 'pucker_C2p_endo',\n",
              " 'pucker_C2p_exo',\n",
              " 'pucker_C3p_endo',\n",
              " 'pucker_C3p_exo',\n",
              " 'pucker_C4p_exo']"
            ]
          },
          "metadata": {
            "tags": []
          },
          "execution_count": 131
        }
      ]
    },
    {
      "cell_type": "code",
      "metadata": {
        "id": "GI85djHVqiqA",
        "colab_type": "code",
        "colab": {}
      },
      "source": [
        "dc.models.RobustMultitaskClassifier()"
      ],
      "execution_count": 0,
      "outputs": []
    }
  ]
}