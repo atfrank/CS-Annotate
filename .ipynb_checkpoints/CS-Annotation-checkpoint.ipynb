{
 "cells": [
  {
   "cell_type": "markdown",
   "metadata": {
    "colab_type": "text",
    "id": "view-in-github"
   },
   "source": [
    "<a href=\"https://colab.research.google.com/github/atfrank/CS-Annotate/blob/master/Structural_Annotation_of_RNA_Using_NMR_Chemical_Shifts.ipynb\" target=\"_parent\"><img src=\"https://colab.research.google.com/assets/colab-badge.svg\" alt=\"Open In Colab\"/></a>"
   ]
  },
  {
   "cell_type": "markdown",
   "metadata": {
    "colab_type": "text",
    "id": "LIzeqGWIXAGZ"
   },
   "source": [
    "Structural Annotation of RNA Using NMR Chemical Shifts"
   ]
  },
  {
   "cell_type": "markdown",
   "metadata": {
    "colab_type": "text",
    "id": "35jZz_taQzJk"
   },
   "source": [
    "# Initialization"
   ]
  },
  {
   "cell_type": "code",
   "execution_count": 6,
   "metadata": {
    "colab": {
     "base_uri": "https://localhost:8080/",
     "height": 233
    },
    "colab_type": "code",
    "id": "1jz5BynGD9L5",
    "outputId": "c4a6f4cf-11e6-4e39-803e-95a2af54811c"
   },
   "outputs": [],
   "source": [
    "%%capture\n",
    "## Import Module\n",
    "import pandas as pd\n",
    "import numpy as np\n",
    "import io\n",
    "import pandas as pd\n",
    "import io\n",
    "import requests\n",
    "import deepchem as dc\n",
    "import tensorflow as tf"
   ]
  },
  {
   "cell_type": "code",
   "execution_count": 7,
   "metadata": {
    "colab": {},
    "colab_type": "code",
    "id": "zrIJswNoBhXp"
   },
   "outputs": [],
   "source": [
    "NUMBER_CHEMICAL_SHIFT_TYPE = 19\n",
    "RETAIN = ['id', 'resid', 'resname', 'sasa-All-atoms', 'sasa-Total-Side', 'sasa-Main-Chain', 'sasa-Non-polar', 'sasa-All', 'sasa', 'syn_anti', 'astack', 'nastack', 'pair', 'pucker', 'class']\n",
    "RETAIN_NONAME = ['id', 'resid', 'sasa-All-atoms', 'sasa-Total-Side', 'sasa-Main-Chain', 'sasa-Non-polar', 'sasa-All', 'sasa', 'syn_anti', 'astack', 'nastack', 'pair', 'pucker', 'class']\n",
    "from CSRNA import *"
   ]
  },
  {
   "cell_type": "markdown",
   "metadata": {
    "colab_type": "text",
    "id": "aMpj5KncQ8Vj"
   },
   "source": [
    "# Train Model"
   ]
  },
  {
   "cell_type": "markdown",
   "metadata": {},
   "source": [
    "## Load data and preprocess"
   ]
  },
  {
   "cell_type": "code",
   "execution_count": 10,
   "metadata": {
    "colab": {},
    "colab_type": "code",
    "id": "PA8ZeGsG---i"
   },
   "outputs": [],
   "source": [
    "neighbors = 3\n",
    "# load train and test data\n",
    "X_train = pd.read_csv(DIR_PATH+\"train_features_\"+str(neighbors)+\".csv\",delim_whitespace=True,header=0)\n",
    "y_train = pd.read_csv(DIR_PATH+\"train_target_\"+str(neighbors)+\".csv\",delim_whitespace=True,header=0)\n",
    "X_test = pd.read_csv(DIR_PATH+\"test_features_\"+str(neighbors)+\".csv\",delim_whitespace=True,header=0)\n",
    "y_test = pd.read_csv(DIR_PATH+\"test_target_\"+str(neighbors)+\".csv\",delim_whitespace=True,header=0)\n",
    "targets = y_train.columns\n",
    "\n",
    "# Convert to Deepchem Dataset\n",
    "w = np.ones(y_train.shape[0]) \n",
    "train_w = np.vstack([w, w, w, w, w, w, w, w, w, w, w]).T \n",
    "train_dataset = dc.data.NumpyDataset(X_train, y_train, train_w) \n",
    "\n",
    "w = np.ones(y_test.shape[0]) # number of samples in test\n",
    "test_w = np.vstack([w, w, w, w, w, w, w, w, w, w, w]).T # weight is 1 \n",
    "test_dataset = dc.data.NumpyDataset(X_test, y_test, test_w) # use deepchem here, some kind of weight\n",
    "\n",
    "# Scale Dataset\n",
    "transform_scaler = dc.trans.transformers.NormalizationTransformer(transform_X = True, transform_y = False, dataset=train_dataset)\n",
    "train_dataset_norm = transform_scaler.transform(train_dataset)\n",
    "test_dataset_norm = transform_scaler.transform(test_dataset)\n",
    "\n",
    "# Balance Dataset\n",
    "transform_balancer = dc.trans.transformers.BalancingTransformer(transform_w = True, dataset=train_dataset_norm)\n",
    "train_dataset_balanced = transform_balancer.transform(train_dataset_norm)\n",
    "\n",
    "n_features = train_dataset_balanced.X.shape[1]\n",
    "n_tasks = train_dataset_balanced.y.shape[1]"
   ]
  },
  {
   "cell_type": "markdown",
   "metadata": {},
   "source": [
    "## Fit and Save Model"
   ]
  },
  {
   "cell_type": "code",
   "execution_count": null,
   "metadata": {},
   "outputs": [],
   "source": [
    "model = dc.models.ProgressiveMultitaskClassifier(n_tasks=n_tasks,n_features=n_features,\n",
    "                                                 layer_sizes=[100],\n",
    "                                                 alpha_init_stddevs=0.04,\n",
    "                                                 learning_rate=0.001, \n",
    "                                                 model_dir=DIR_PATH+'model/', \n",
    "                                                 tensorboard=True, \n",
    "                                                 use_queue=False)\n",
    "model.fit(train_dataset_balanced, nb_epoch=50)\n",
    "model.get_checkpoints()"
   ]
  },
  {
   "cell_type": "markdown",
   "metadata": {
    "colab_type": "text",
    "id": "T3aWiEyJutL_"
   },
   "source": [
    "# Test Model"
   ]
  },
  {
   "cell_type": "code",
   "execution_count": null,
   "metadata": {
    "colab": {
     "base_uri": "https://localhost:8080/",
     "height": 502
    },
    "colab_type": "code",
    "id": "R13KHWmKVaVa",
    "outputId": "be99b9d3-ee73-4d0d-dd05-e80af9f1c544"
   },
   "outputs": [],
   "source": [
    "import pandas as pd\n",
    "import numpy as np\n",
    "import matplotlib.pyplot as plt\n",
    "from sklearn.metrics import roc_curve, auc\n",
    "import matplotlib.cm as cm\n",
    "\n",
    "colors = cm.rainbow(np.linspace(0, 1, len(targets)))\n",
    "testpred = model.predict(test_dataset_norm)\n",
    "plt.figure()\n",
    "lw = 3\n",
    "\n",
    "# get TPR and FPR\n",
    "for i,target in enumerate(targets):\n",
    "  fpr, tpr, thresholds = roc_curve(test_dataset.y[:, i], testpred[:, i, 1].flatten())\n",
    "  roc_auc = auc(fpr, tpr)\n",
    "  # Make plot\n",
    "  plt.plot(fpr, tpr, color=colors[i],lw=lw, label='%s (area = %0.2f)' % (target, roc_auc))\n",
    "\n",
    "plt.plot([0, 1], [0, 1], color='navy', lw=lw, linestyle='--')\n",
    "plt.xlim([0.0, 1.0])\n",
    "plt.ylim([0.0, 1.05])\n",
    "plt.xlabel('False Positive Rate')\n",
    "plt.ylabel('True Positive Rate')\n",
    "plt.title('Receiver operating characteristic example')\n",
    "plt.legend(loc=(1.1,0))\n",
    "plt.show()\n",
    "\n",
    "predictions = pd.DataFrame(testpred[:, :, 1], columns=[\"p\"+i for i in targets])\n",
    "predictions = pd.concat([info, actuals, predictions], axis=1)\n",
    "predictions.to_csv('predictions.txt', sep = ' ')\n",
    "predictions.tail()"
   ]
  }
 ],
 "metadata": {
  "colab": {
   "collapsed_sections": [],
   "include_colab_link": true,
   "name": "Structural Annotation of RNA Using NMR Chemical Shifts",
   "provenance": []
  },
  "kernelspec": {
   "display_name": "Python 3",
   "language": "python",
   "name": "python3"
  },
  "language_info": {
   "codemirror_mode": {
    "name": "ipython",
    "version": 3
   },
   "file_extension": ".py",
   "mimetype": "text/x-python",
   "name": "python",
   "nbconvert_exporter": "python",
   "pygments_lexer": "ipython3",
   "version": "3.8.6"
  }
 },
 "nbformat": 4,
 "nbformat_minor": 4
}
