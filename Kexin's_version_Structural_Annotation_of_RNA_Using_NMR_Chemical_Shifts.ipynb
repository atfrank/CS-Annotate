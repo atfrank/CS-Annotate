{
  "nbformat": 4,
  "nbformat_minor": 0,
  "metadata": {
    "colab": {
      "name": "Kexin's version -  Structural Annotation of RNA Using NMR Chemical Shifts",
      "provenance": [],
      "collapsed_sections": [
        "nwsc0CtchjFX",
        "35jZz_taQzJk",
        "aMpj5KncQ8Vj",
        "u_dbqUrw3OKT",
        "08SbR91o-Zj4",
        "8SIh_Doa_a2k",
        "bXdF6dfPnMb5",
        "lZZUpOxfYFq_",
        "Mhmt1tikq5Tj",
        "7LmubqK9zYwH"
      ],
      "include_colab_link": true
    },
    "kernelspec": {
      "name": "python2",
      "display_name": "Python 2"
    }
  },
  "cells": [
    {
      "cell_type": "markdown",
      "metadata": {
        "id": "view-in-github",
        "colab_type": "text"
      },
      "source": [
        "<a href=\"https://colab.research.google.com/github/atfrank/CS-Annotate/blob/Kexin/Kexin's_version_Structural_Annotation_of_RNA_Using_NMR_Chemical_Shifts.ipynb\" target=\"_parent\"><img src=\"https://colab.research.google.com/assets/colab-badge.svg\" alt=\"Open In Colab\"/></a>"
      ]
    },
    {
      "cell_type": "markdown",
      "metadata": {
        "id": "LIzeqGWIXAGZ"
      },
      "source": [
        "Structural Annotation of RNA Using NMR Chemical Shifts"
      ]
    },
    {
      "cell_type": "markdown",
      "metadata": {
        "id": "nwsc0CtchjFX"
      },
      "source": [
        "# Manuscript Sketch"
      ]
    },
    {
      "cell_type": "markdown",
      "metadata": {
        "id": "UcVH67Lbhl5s"
      },
      "source": [
        "* **Introduction**:\n",
        "\n",
        "1. RNA structure important\n",
        "2. NMR probes structure\n",
        "3. Chemical shifts in particular sensitive to structure\n",
        "4. Highlight examples of structural parameters extracted from chemical shift data\n",
        "5. Introduce the idea of structural annotation via NMR chemical shifts\n",
        "  * base pairs\n",
        "  * adjacent and non-adjacent stacking\n",
        "  * syn vs. anti\n",
        "  * solvent exposure\n",
        "  * [pucker](https://www.youtube.com/watch?v=4VQxRKQcMYg)\n",
        "\n",
        "6. Survey the use of machine learning used to predict structural parameter from NMR chemical shifts, for both proteins and RNA\n",
        "7. Make point that most approaches previous approaches employed single task learning\n",
        "8. Extol the virtues of multi-task learning\n",
        "10. Summarize what we did and the results\n",
        "\n",
        "* **Methods**:\n",
        "1. Data set\n",
        "2. MC-Annotate\n",
        "3. Multi-task classifiers\n",
        "\n",
        "* **Results**:\n",
        "1. Model performance on test set (Macro-Analysis: e.g., ROC and concordance analysis) including impact of number of neighbors\n",
        "2. Model performance on test set (Micro-Analysis); Compare, visually target and prediction, highlighting (and possibly explaning) errors.\n",
        "3. Importance analysis (which chemical shifts are important for predicting each structural feature)\n",
        "\n",
        "\n"
      ]
    },
    {
      "cell_type": "markdown",
      "metadata": {
        "id": "BivHYzG2J3fq"
      },
      "source": [
        "# Mount drive and load libraries"
      ]
    },
    {
      "cell_type": "code",
      "metadata": {
        "id": "NBtxFwIUiPll",
        "colab": {
          "base_uri": "https://localhost:8080/"
        },
        "outputId": "c82dec12-baea-4e94-df84-8ab6242b30e6"
      },
      "source": [
        "from google.colab import drive\n",
        "drive.mount(\"/content/drive\",force_remount=True)\n",
        "DIR_PATH = 'drive/My Drive/CS-Annotate/'"
      ],
      "execution_count": 1,
      "outputs": [
        {
          "output_type": "stream",
          "text": [
            "Mounted at /content/drive\n"
          ],
          "name": "stdout"
        }
      ]
    },
    {
      "cell_type": "code",
      "metadata": {
        "id": "5_IjNT913UFW",
        "colab": {
          "base_uri": "https://localhost:8080/"
        },
        "outputId": "8eccac4d-3c16-4620-c7f2-6e2e2c642f9b"
      },
      "source": [
        "%tensorflow_version 1.x\n",
        "!apt-get -qq install -y python-rdkit librdkit1 rdkit-data\n",
        "!pip install -q joblib pandas sklearn tensorflow pillow deepchem\n",
        "!pip install shap\n",
        "!pip install lime\n",
        "!pip install eli5\n",
        "!pip install scikit-multilearn"
      ],
      "execution_count": 2,
      "outputs": [
        {
          "output_type": "stream",
          "text": [
            "TensorFlow 1.x selected.\n",
            "Selecting previously unselected package fonts-freefont-ttf.\n",
            "(Reading database ... 146442 files and directories currently installed.)\n",
            "Preparing to unpack .../fonts-freefont-ttf_20120503-7_all.deb ...\n",
            "Unpacking fonts-freefont-ttf (20120503-7) ...\n",
            "Selecting previously unselected package librdkit1.\n",
            "Preparing to unpack .../librdkit1_201603.5+dfsg-1ubuntu1_amd64.deb ...\n",
            "Unpacking librdkit1 (201603.5+dfsg-1ubuntu1) ...\n",
            "Selecting previously unselected package rdkit-data.\n",
            "Preparing to unpack .../rdkit-data_201603.5+dfsg-1ubuntu1_all.deb ...\n",
            "Unpacking rdkit-data (201603.5+dfsg-1ubuntu1) ...\n",
            "Selecting previously unselected package python-rdkit.\n",
            "Preparing to unpack .../python-rdkit_201603.5+dfsg-1ubuntu1_amd64.deb ...\n",
            "Unpacking python-rdkit (201603.5+dfsg-1ubuntu1) ...\n",
            "Setting up rdkit-data (201603.5+dfsg-1ubuntu1) ...\n",
            "Setting up fonts-freefont-ttf (20120503-7) ...\n",
            "Setting up librdkit1 (201603.5+dfsg-1ubuntu1) ...\n",
            "Setting up python-rdkit (201603.5+dfsg-1ubuntu1) ...\n",
            "Processing triggers for libc-bin (2.27-3ubuntu1.4) ...\n",
            "/sbin/ldconfig.real: /usr/local/lib/python3.6/dist-packages/ideep4py/lib/libmkldnn.so.0 is not a symbolic link\n",
            "\n",
            "Processing triggers for fontconfig (2.12.6-0ubuntu2) ...\n",
            "\u001b[K     |████████████████████████████████| 3.9MB 8.7MB/s \n",
            "\u001b[K     |████████████████████████████████| 512kB 43.6MB/s \n",
            "\u001b[?25h  Building wheel for deepchem (setup.py) ... \u001b[?25l\u001b[?25hdone\n",
            "Collecting shap\n",
            "\u001b[?25l  Downloading https://files.pythonhosted.org/packages/44/20/54381999efe3000f70a7f68af79ba857cfa3f82278ab0e02e6ba1c06b002/shap-0.38.1.tar.gz (352kB)\n",
            "\u001b[K     |████████████████████████████████| 358kB 8.2MB/s \n",
            "\u001b[?25hRequirement already satisfied: numpy in /usr/local/lib/python2.7/dist-packages (from shap) (1.16.4)\n",
            "Requirement already satisfied: scipy in /usr/local/lib/python2.7/dist-packages (from shap) (1.2.2)\n",
            "Requirement already satisfied: scikit-learn in /usr/local/lib/python2.7/dist-packages (from shap) (0.20.3)\n",
            "Requirement already satisfied: pandas in /usr/local/lib/python2.7/dist-packages (from shap) (0.24.2)\n",
            "Requirement already satisfied: tqdm>4.25.0 in /usr/local/lib/python2.7/dist-packages (from shap) (4.28.1)\n",
            "\u001b[31mERROR: Could not find a version that satisfies the requirement slicer==0.0.7 (from shap) (from versions: none)\u001b[0m\n",
            "\u001b[31mERROR: No matching distribution found for slicer==0.0.7 (from shap)\u001b[0m\n",
            "Collecting lime\n",
            "\u001b[?25l  Downloading https://files.pythonhosted.org/packages/27/ee/4aaac4cd79f16329746495aca96f8c35f278b5c774eff3358eaa21e1cbf3/lime-0.2.0.0.tar.gz (274kB)\n",
            "\u001b[K     |████████████████████████████████| 276kB 9.1MB/s \n",
            "\u001b[?25h\u001b[31mERROR: Package 'lime' requires a different Python: 2.7.17 not in '>=3.5'\u001b[0m\n",
            "Collecting eli5\n",
            "\u001b[?25l  Downloading https://files.pythonhosted.org/packages/d1/54/04cab6e1c0ae535bec93f795d8403fdf6caf66fa5a6512263202dbb14ea6/eli5-0.11.0-py2.py3-none-any.whl (106kB)\n",
            "\u001b[K     |████████████████████████████████| 112kB 8.5MB/s \n",
            "\u001b[?25hRequirement already satisfied: six in /usr/local/lib/python2.7/dist-packages (from eli5) (1.15.0)\n",
            "Requirement already satisfied: singledispatch>=3.4.0.3; python_version < \"3.5.6\" in /usr/local/lib/python2.7/dist-packages (from eli5) (3.4.0.3)\n",
            "Requirement already satisfied: jinja2 in /usr/local/lib/python2.7/dist-packages (from eli5) (2.10.1)\n",
            "Requirement already satisfied: typing; python_version < \"3.5\" in /usr/local/lib/python2.7/dist-packages (from eli5) (3.7.4)\n",
            "Requirement already satisfied: tabulate>=0.7.7 in /usr/local/lib/python2.7/dist-packages (from eli5) (0.8.3)\n",
            "Requirement already satisfied: numpy>=1.9.0 in /usr/local/lib/python2.7/dist-packages (from eli5) (1.16.4)\n",
            "Requirement already satisfied: scikit-learn>=0.20 in /usr/local/lib/python2.7/dist-packages (from eli5) (0.20.3)\n",
            "Requirement already satisfied: scipy in /usr/local/lib/python2.7/dist-packages (from eli5) (1.2.2)\n",
            "Requirement already satisfied: attrs>16.0.0 in /usr/local/lib/python2.7/dist-packages (from eli5) (19.1.0)\n",
            "Requirement already satisfied: graphviz in /usr/local/lib/python2.7/dist-packages (from eli5) (0.10.1)\n",
            "Requirement already satisfied: MarkupSafe>=0.23 in /usr/local/lib/python2.7/dist-packages (from jinja2->eli5) (1.1.1)\n",
            "Installing collected packages: eli5\n",
            "Successfully installed eli5-0.11.0\n",
            "Collecting scikit-multilearn\n",
            "\u001b[?25l  Downloading https://files.pythonhosted.org/packages/21/82/9a5a40ac8bcf4be9662728df35d7e0a1f47454416e4d4480b8d0a1dc1a7b/scikit_multilearn-0.2.0-py2-none-any.whl (89kB)\n",
            "\u001b[K     |████████████████████████████████| 92kB 4.5MB/s \n",
            "\u001b[?25hInstalling collected packages: scikit-multilearn\n",
            "Successfully installed scikit-multilearn-0.2.0\n"
          ],
          "name": "stdout"
        }
      ]
    },
    {
      "cell_type": "code",
      "metadata": {
        "id": "RmPfFLigzu5R"
      },
      "source": [
        "#!pip install scikit-multilearn\n",
        "#!apt-get -qq install -y python-rdkit librdkit1 rdkit-data\n",
        "#!pip install -q joblib sklearn tensorflow pillow deepchem"
      ],
      "execution_count": null,
      "outputs": []
    },
    {
      "cell_type": "code",
      "metadata": {
        "id": "AsJy4v8_zjkj",
        "colab": {
          "base_uri": "https://localhost:8080/"
        },
        "outputId": "7eef4a26-070b-4105-ee21-633614946c36"
      },
      "source": [
        "# plot\n",
        "import seaborn as sns\n",
        "import matplotlib.pyplot as plt\n",
        "import matplotlib.cm as cm\n",
        "from string import ascii_letters\n",
        "\n",
        "# model selection \n",
        "#from skmultilearn.problem_transform import BinaryRelevance\n",
        "from sklearn.metrics import accuracy_score,f1_score,balanced_accuracy_score,recall_score\n",
        "from sklearn.ensemble import RandomForestClassifier\n",
        "from sklearn.neural_network import MLPClassifier\n",
        "from sklearn.metrics import roc_curve, auc\n",
        "from sklearn.multioutput import MultiOutputClassifier\n",
        "from sklearn.multioutput import ClassifierChain # difference? yes, this does not support gridsearchcv, but supports random state\n",
        "from sklearn.model_selection import train_test_split,KFold,cross_val_score,GridSearchCV,cross_validate\n",
        "from sklearn.multiclass import OneVsRestClassifier\n",
        "#from skmultilearn.problem_transform import ClassifierChain\n",
        "from sklearn.metrics import classification_report,confusion_matrix\n",
        "\n",
        "# deepchem\n",
        "import rdkit as rd\n",
        "import deepchem as dc\n",
        "import tensorflow as tf\n",
        "\n",
        "# other\n",
        "import numpy as np\n",
        "import pandas as pd \n",
        "import requests\n",
        "import io"
      ],
      "execution_count": 3,
      "outputs": [
        {
          "output_type": "stream",
          "text": [
            "WARNING: Logging before flag parsing goes to stderr.\n",
            "W0219 15:08:13.302090 139771406063488 lazy_loader.py:50] \n",
            "The TensorFlow contrib module will not be included in TensorFlow 2.0.\n",
            "For more information, please see:\n",
            "  * https://github.com/tensorflow/community/blob/master/rfcs/20180907-contrib-sunset.md\n",
            "  * https://github.com/tensorflow/addons\n",
            "  * https://github.com/tensorflow/io (for I/O related ops)\n",
            "If you depend on functionality not listed there, please file an issue.\n",
            "\n"
          ],
          "name": "stderr"
        }
      ]
    },
    {
      "cell_type": "markdown",
      "metadata": {
        "id": "35jZz_taQzJk"
      },
      "source": [
        "# Functions for input preparation\n",
        "1.   Updated MC-Annotate input;\n",
        "2.   get_data now takes a third argument that specifies whether to use C or H or both chemical shifts;\n",
        "\n",
        "\n"
      ]
    },
    {
      "cell_type": "code",
      "metadata": {
        "id": "zrIJswNoBhXp"
      },
      "source": [
        "RETAIN = ['id', 'resid', 'resname', 'sasa-All-atoms', 'sasa-Total-Side', 'sasa-Main-Chain', 'sasa-Non-polar', 'sasa-All', 'sasa', 'syn_anti', 'astack', 'nastack', 'pair', 'pucker', 'class']\n",
        "RETAIN_NONAME = ['id', 'resid', 'sasa-All-atoms', 'sasa-Total-Side', 'sasa-Main-Chain', 'sasa-Non-polar', 'sasa-All', 'sasa', 'syn_anti', 'astack', 'nastack', 'pair', 'pucker', 'class']\n",
        "\n",
        "def get_cs_all(cs_all, id):\n",
        "\t'''\n",
        "\tThis function gets chemical shifts for a particular RNA.\n",
        "\t'''\n",
        "\treturn(cs_all[cs_all.id == id])\n",
        "\n",
        "def get_cs_residues(cs_i, resid, dummy=0, number_of_cs_types=19):\n",
        "\t'''\n",
        "\tThis function return an array contining the chemical shifts \n",
        "\tfor a particular residues in an RNA.\n",
        "\t'''\n",
        "\tcs_tmp=cs_i[(cs_i.resid == resid)].drop(RETAIN, axis=1)\n",
        "\tinfo_tmp=cs_i[(cs_i.resid == resid)]\n",
        "\tif (cs_tmp.shape[0] != 1):\n",
        "\t\treturn(dummy*np.ones(shape=(1, number_of_cs_types)))\n",
        "\telse:\n",
        "\t\treturn(cs_tmp.values)\n",
        "\n",
        "def get_resnames(cs_i, resid, dummy=\"UNK\"):\n",
        "\t'''\n",
        "\tThis function returns the residue name for specified residue (resid)\n",
        "\t'''\n",
        "\tcs_tmp=cs_i[(cs_i.resid == resid)]\n",
        "\tif (cs_tmp.shape[0] != 1):\n",
        "\t\treturn(dummy)\n",
        "\telse:\n",
        "\t\treturn(cs_tmp['resname'].values[0])\n",
        "\n",
        "def get_cs_features(cs_i, resid, neighbors, number_of_cs_types):\n",
        "\t'''\n",
        "\tThis function return chemical shifts and resnames for \n",
        "\tresidues (resid) and its neighbors\n",
        "\t'''\n",
        "\tcs=[]\n",
        "\tresnames=[]\n",
        "\tfor i in range(resid-neighbors, resid+neighbors+1):\n",
        "\t\tcs.append(get_cs_residues(cs_i, resid=i, number_of_cs_types=number_of_cs_types))\n",
        "\t\tresnames.append(get_resnames(cs_i, i))\n",
        "\treturn(resnames, np.array(cs))\n",
        "\n",
        "def write_out_resname(neighbors=1):\n",
        "\t''' \n",
        "\tHelper function that writes out the column names associated \n",
        "\tresnames for a given residue and its neighbors\n",
        "\t'''  \n",
        "\tcolnames = []\n",
        "\tfor i in range(1-neighbors-1, neighbors+1):  # ['R-2', 'R-1', 'R', 'R+1', 'R+2'] when neighbors = 2\n",
        "\t\tif i < 0: \n",
        "\t\t\tcolnames.append('R%s'%i)\n",
        "\t\telif i > 0: \n",
        "\t\t\tcolnames.append('R+%s'%i)\n",
        "\t\telse: \n",
        "\t\t\tcolnames.append('R')\n",
        "\treturn(colnames)    \n",
        "\n",
        "def get_cs_features_rna(cs, neighbors, number_of_cs_types):\n",
        "\t'''    \n",
        "\tThis function generates the complete required data frame an RNA    \n",
        "\t'''\n",
        "\tall_features = []\n",
        "\tall_resnames = []\n",
        "\tfor resid in cs['resid'].unique():\n",
        "\t\tresnames, features = get_cs_features(cs, resid, neighbors, number_of_cs_types)\n",
        "\t\tall_features.append(features.flatten())\n",
        "\t\tall_resnames.append(resnames)\n",
        "\n",
        "\tall_resnames = pd.DataFrame(all_resnames, dtype='object', columns = write_out_resname(neighbors))\n",
        "\tall_features = pd.DataFrame(all_features, dtype='object')\n",
        "\tinfo = pd.DataFrame(cs[RETAIN_NONAME].values, dtype='object', columns = RETAIN_NONAME)\n",
        "\treturn(pd.concat([info, all_resnames, all_features], axis=1))\n",
        "\n",
        "def get_cs_features_rna_all(cs, neighbors, number_of_cs_types):  \n",
        "\t'''    \n",
        "\tThis function generate a pandas dataframe containing training data for all RNAs\n",
        "\tEach row in the data frame should contain the class and chemical shifts for given residue and neighbors in a given RNA.\n",
        "\t'''  \n",
        "\tcs_new=pd.DataFrame()\n",
        " \tfor pdbid in cs['id'].unique()[0 :]:\n",
        "\t\ttmp=get_cs_features_rna(get_cs_all(cs, id=pdbid), neighbors, number_of_cs_types)\n",
        "\t\tcs_new=pd.concat([cs_new, tmp], axis=0)\n",
        "\treturn(cs_new)\n",
        " \n",
        "def one_hot_encode(df, hot_columns):\n",
        "  '''\n",
        "    This function generate one hot encodes a dataFrame\n",
        "    see: http://queirozf.com/entries/one-hot-encoding-a-feature-on-a-pandas-dataframe-an-example \n",
        "  '''\n",
        "  for hot_column in hot_columns:\n",
        "    # use pd.concat to join the new columns with your original dataframe\n",
        "    df = pd.concat([df, pd.get_dummies(df[hot_column], prefix=hot_column)],axis=1)\n",
        "    # now drop the original 'country' column (you don't need it anymore)\n",
        "    df.drop([hot_column],axis=1, inplace=True)\n",
        "  return(df)\n",
        "\n",
        "def balance_transformer(dataset):\n",
        "    '''\n",
        "      Copy of deepchem function for reweighting samples. \n",
        "      Deepchem version does not work.\n",
        "    '''\n",
        "    # Compute weighting factors from dataset.\n",
        "    y = dataset.y\n",
        "    w = dataset.w\n",
        "    # Ensure dataset is binary\n",
        "    np.testing.assert_allclose(sorted(np.unique(y)), np.array([0., 1.]))\n",
        "    weights = []\n",
        "    for ind, task in enumerate(dataset.get_task_names()):\n",
        "      task_w = w[:]\n",
        "      task_y = y[:]\n",
        "      # Remove labels with zero weights\n",
        "      task_y = task_y[task_w != 0]\n",
        "      num_positives = np.count_nonzero(task_y)\n",
        "      num_negatives = len(task_y) - num_positives\n",
        "      if num_positives > 0:\n",
        "        pos_weight = float(num_negatives) / num_positives\n",
        "      else:\n",
        "        pos_weight = 1\n",
        "      neg_weight = 1\n",
        "      weights.append((neg_weight, pos_weight)) \n",
        "    return(dc.data.NumpyDataset(X=dataset.X, y=dataset.y, w=np.where(y==1, pos_weight, neg_weight)))\n",
        "\n",
        "def get_data(neighbors, training = True, partial = None):\n",
        "  # load sasa data\n",
        "  if training:    \n",
        "    url=\"https://drive.google.com/uc?id=1Y3Imx-lTjGKCQAFqEKTbaMSzFARtwEFN&authuser=afrankz@umich.edu&usp=drive_fs\"\n",
        "  else:   \n",
        "    url=\"https://drive.google.com/uc?id=1jLcowU89y4o5Xmv_qBs3VgZre5ZFFYwG&authuser=afrankz@umich.edu&usp=drive_fs\"\n",
        "\n",
        "  s=requests.get(url).content\n",
        "  sasa=pd.read_csv(io.StringIO(s.decode('utf-8')), sep = \"\\s+\")\n",
        "  print(\"[INFO]: SASA loaded data\")\n",
        "  print(sasa.head())\n",
        "\n",
        "  # load cs data\n",
        "  url=\"https://drive.google.com/uc?id=1ApGAKHnzKUjri-f_sSPZwqK5N3Cr7gPq&authuser=afrankz@umich.edu&usp=drive_fs\" \n",
        "  s=requests.get(url).content\n",
        "  cs=pd.read_csv(io.StringIO(s.decode('utf-8')), sep = \" \")\n",
        "\n",
        "  # if partial = None, use both carbon and proton \n",
        "  # if partial = \"C\", use carbon chemical shifts only\n",
        "  # if partial = \"H\", use proton chemical shifts only\n",
        "  if partial == \"C\":\n",
        "    cs.drop(columns=['H1p','H2p','H3p','H4p','H2','H5','H5p','H5pp','H6','H8'],inplace=True)\n",
        "    number_of_cs_types = 9\n",
        "\n",
        "  if partial == \"H\":\n",
        "    cs.drop(columns=['C1p','C2p','C3p','C4p','C5p','C2','C5','C6','C8'],inplace=True)\n",
        "    number_of_cs_types = 10\n",
        "\n",
        "  if partial == None:\n",
        "    number_of_cs_types = 19\n",
        "  print(\"[INFO]: CS loaded data\")\n",
        "  #print(cs.head())\n",
        "\n",
        "  # load MC-Annotate\n",
        "  url=\"https://drive.google.com/uc?id=15dL0aZJZpTRxPYQn-DQ_jKC7tlH7fejg\"\n",
        "  s=requests.get(url).content\n",
        "  mc_annotate1=pd.read_csv(io.StringIO(s.decode('utf-8')), sep = \" \")\n",
        "  #print(\"[INFO]: MC-Annotate loaded data\")\n",
        "  \n",
        "  # merge sasa and cs\n",
        "  data = pd.merge(cs, sasa, on=['id', 'resname', 'resid'])\n",
        "  # merge with mc-annotate structure\n",
        "  data = pd.merge(data, mc_annotate, on=['id', 'resname', 'resid'])  \n",
        "  #drop_names = ['sugar_puckering', 'pseudoknot', 'junk']\n",
        "  #data = data.drop(drop_names, axis=1)\n",
        "  print(\"[INFO]: merged SASA, CS, and MC-Annotate\")\n",
        "  #print(data.head())\n",
        "\n",
        "\t# prepare for testing\n",
        "  print(data.columns)\n",
        "  data_all = get_cs_features_rna_all(data, neighbors = neighbors, number_of_cs_types = number_of_cs_types)\n",
        "  print(\"[INFO]: Prepared final data set\")\n",
        "  #print(data_all.head())\n",
        "\n",
        "  data_all = one_hot_encode(data_all, write_out_resname(neighbors)) # only encode resnames (including neighbors)\n",
        "  print(\"[INFO]: One-hot encoded data\")\n",
        "  #print(data_all.head())\n",
        "  return(data_all)"
      ],
      "execution_count": null,
      "outputs": []
    },
    {
      "cell_type": "markdown",
      "metadata": {
        "id": "aMpj5KncQ8Vj"
      },
      "source": [
        "# Prepare input\n"
      ]
    },
    {
      "cell_type": "code",
      "metadata": {
        "id": "-Giwx74fCuE6",
        "colab": {
          "base_uri": "https://localhost:8080/",
          "height": 674
        },
        "outputId": "4aadc438-08ff-4078-b709-371395d7e617"
      },
      "source": [
        "################################################################\n",
        "## Prepare data\n",
        "################################################################\n",
        "neighbors = 3\n",
        "train = get_data(neighbors, training = True, partial=None) # partial = \"C\" or \"H\" or None\n",
        "test = get_data(neighbors, training = False, partial=None)"
      ],
      "execution_count": null,
      "outputs": [
        {
          "output_type": "stream",
          "text": [
            "[INFO]: SASA loaded data\n",
            "     id resname  resid  ...  sasa-Main-Chain  sasa-Non-polar  sasa-All\n",
            "0  1A60     GUA      1  ...            60.23           31.95    102.20\n",
            "1  1A60     GUA      2  ...           115.09           38.57    133.43\n",
            "2  1A60     GUA      3  ...           128.68           52.70    134.89\n",
            "3  1A60     ADE      4  ...           130.26           57.02    129.43\n",
            "4  1A60     GUA      5  ...           116.62           37.60    166.72\n",
            "\n",
            "[5 rows x 8 columns]\n",
            "[INFO]: CS loaded data\n",
            "[INFO]: merged SASA, CS, and MC-Annotate\n",
            "Index([u'id', u'resid', u'resname', u'C1p', u'C2p', u'C3p', u'C4p', u'C5p',\n",
            "       u'C2', u'C5', u'C6', u'C8', u'H1p', u'H2p', u'H3p', u'H4p', u'H2',\n",
            "       u'H5', u'H5p', u'H5pp', u'H6', u'H8', u'class', u'sasa-All-atoms',\n",
            "       u'sasa-Total-Side', u'sasa-Main-Chain', u'sasa-Non-polar', u'sasa-All',\n",
            "       u'sasa', u'pucker', u'syn_anti', u'astack', u'nastack', u'pair'],\n",
            "      dtype='object')\n",
            "[INFO]: Prepared final data set\n",
            "[INFO]: One-hot encoded data\n",
            "[INFO]: SASA loaded data\n",
            "     id resname  resid  ...  sasa-Main-Chain  sasa-Non-polar  sasa-All\n",
            "0  5KH8     GUA      1  ...           117.14           91.37    120.73\n",
            "1  5KH8     GUA      2  ...           121.78           39.86    111.48\n",
            "2  5KH8     CYT      3  ...           105.67           47.49     97.81\n",
            "3  5KH8     GUA      4  ...            57.39            5.57    116.69\n",
            "4  5KH8     ADE      5  ...            27.86           29.63     81.90\n",
            "\n",
            "[5 rows x 8 columns]\n",
            "[INFO]: CS loaded data\n",
            "[INFO]: merged SASA, CS, and MC-Annotate\n",
            "Index([u'id', u'resid', u'resname', u'C1p', u'C2p', u'C3p', u'C4p', u'C5p',\n",
            "       u'C2', u'C5', u'C6', u'C8', u'H1p', u'H2p', u'H3p', u'H4p', u'H2',\n",
            "       u'H5', u'H5p', u'H5pp', u'H6', u'H8', u'class', u'sasa-All-atoms',\n",
            "       u'sasa-Total-Side', u'sasa-Main-Chain', u'sasa-Non-polar', u'sasa-All',\n",
            "       u'sasa', u'pucker', u'syn_anti', u'astack', u'nastack', u'pair'],\n",
            "      dtype='object')\n",
            "[INFO]: Prepared final data set\n",
            "[INFO]: One-hot encoded data\n"
          ],
          "name": "stdout"
        }
      ]
    },
    {
      "cell_type": "code",
      "metadata": {
        "id": "d945qA12Tzgt",
        "colab": {
          "base_uri": "https://localhost:8080/",
          "height": 282
        },
        "outputId": "b3b15f07-2481-455a-9555-6a947f1618ae"
      },
      "source": [
        "rnas_old = ['1A60', '1HWQ', '1JO7', '1KKA', '1L1W', '1LC6', '1LDZ', '1MFY',\n",
        "       '1NA2', '1NC0', '1OW9', '1PJY', '1Q75', '1R7W', '1R7Z', '1SCL',\n",
        "       '1SY4', '1SYZ', '1UUU', '1XHP', '1YMO', '1YSV', '1Z2J', '1Z30',\n",
        "       '1ZC5', '28SP', '28SR', '2F87', '2FDT', '2GVO', '2JWV', '2JYM',\n",
        "       '2K66', '2KEZ', '2KF0', '2KOC', '2KXM', '2KZL', '2L3E', '2L5Z',\n",
        "       '2L8H', '2LAC', '2LBJ', '2LBK', '2LBL', '2LDL', '2LDT', '2LHP',\n",
        "       '2LI4', '2LK3', '2LP9', '2LPA', '2LPS', '2LQZ', '2LUB', '2LUN',\n",
        "       '2LV0', '2M12', '2M21', '2M22', '2M4W', '2M5U', '2M8K', '2MEQ',\n",
        "       '2MHI', '2MIS', '2MNC', '2MTJ', '2MXL', '2N2O', '2N2P', '2N3Q',\n",
        "       '2N3R', '2N4L', '2N6S', '2N6T', '2N6W', '2N6X', '2NCI', '2O33',\n",
        "       '2QH2', '2QH3', '2QH4', '2RVO', '2Y95', '4A4S', '4A4T', '4A4U',\n",
        "       '5A17', '5A18', '5IEM', '5KQE', '5UF3', '5UZT', '5V16', '5WQ1']\n",
        "set(train['id'].unique())-set(rnas_old)\n",
        "train.head()"
      ],
      "execution_count": null,
      "outputs": [
        {
          "output_type": "execute_result",
          "data": {
            "text/plain": [
              "     id resid sasa-All-atoms sasa-Total-Side  ... R+3_CYT R+3_GUA R+3_UNK R+3_URA\n",
              "0  1A60     1         134.15           73.92  ...       0       0       0       0\n",
              "1  1A60     2            172           56.91  ...       0       1       0       0\n",
              "2  1A60     3         187.59            58.9  ...       1       0       0       0\n",
              "3  1A60     4         186.44           56.18  ...       0       0       0       1\n",
              "4  1A60     5         204.31           87.69  ...       1       0       0       0\n",
              "\n",
              "[5 rows x 181 columns]"
            ],
            "text/html": [
              "<div>\n",
              "<style scoped>\n",
              "    .dataframe tbody tr th:only-of-type {\n",
              "        vertical-align: middle;\n",
              "    }\n",
              "\n",
              "    .dataframe tbody tr th {\n",
              "        vertical-align: top;\n",
              "    }\n",
              "\n",
              "    .dataframe thead th {\n",
              "        text-align: right;\n",
              "    }\n",
              "</style>\n",
              "<table border=\"1\" class=\"dataframe\">\n",
              "  <thead>\n",
              "    <tr style=\"text-align: right;\">\n",
              "      <th></th>\n",
              "      <th>id</th>\n",
              "      <th>resid</th>\n",
              "      <th>sasa-All-atoms</th>\n",
              "      <th>sasa-Total-Side</th>\n",
              "      <th>sasa-Main-Chain</th>\n",
              "      <th>sasa-Non-polar</th>\n",
              "      <th>sasa-All</th>\n",
              "      <th>sasa</th>\n",
              "      <th>syn_anti</th>\n",
              "      <th>astack</th>\n",
              "      <th>nastack</th>\n",
              "      <th>pair</th>\n",
              "      <th>pucker</th>\n",
              "      <th>class</th>\n",
              "      <th>0</th>\n",
              "      <th>1</th>\n",
              "      <th>2</th>\n",
              "      <th>3</th>\n",
              "      <th>4</th>\n",
              "      <th>5</th>\n",
              "      <th>6</th>\n",
              "      <th>7</th>\n",
              "      <th>8</th>\n",
              "      <th>9</th>\n",
              "      <th>10</th>\n",
              "      <th>11</th>\n",
              "      <th>12</th>\n",
              "      <th>13</th>\n",
              "      <th>14</th>\n",
              "      <th>15</th>\n",
              "      <th>16</th>\n",
              "      <th>17</th>\n",
              "      <th>18</th>\n",
              "      <th>19</th>\n",
              "      <th>20</th>\n",
              "      <th>21</th>\n",
              "      <th>22</th>\n",
              "      <th>23</th>\n",
              "      <th>24</th>\n",
              "      <th>25</th>\n",
              "      <th>...</th>\n",
              "      <th>127</th>\n",
              "      <th>128</th>\n",
              "      <th>129</th>\n",
              "      <th>130</th>\n",
              "      <th>131</th>\n",
              "      <th>132</th>\n",
              "      <th>R-3_ADE</th>\n",
              "      <th>R-3_CYT</th>\n",
              "      <th>R-3_GUA</th>\n",
              "      <th>R-3_UNK</th>\n",
              "      <th>R-3_URA</th>\n",
              "      <th>R-2_ADE</th>\n",
              "      <th>R-2_CYT</th>\n",
              "      <th>R-2_GUA</th>\n",
              "      <th>R-2_UNK</th>\n",
              "      <th>R-2_URA</th>\n",
              "      <th>R-1_ADE</th>\n",
              "      <th>R-1_CYT</th>\n",
              "      <th>R-1_GUA</th>\n",
              "      <th>R-1_UNK</th>\n",
              "      <th>R-1_URA</th>\n",
              "      <th>R_ADE</th>\n",
              "      <th>R_CYT</th>\n",
              "      <th>R_GUA</th>\n",
              "      <th>R_URA</th>\n",
              "      <th>R+1_ADE</th>\n",
              "      <th>R+1_CYT</th>\n",
              "      <th>R+1_GUA</th>\n",
              "      <th>R+1_UNK</th>\n",
              "      <th>R+1_URA</th>\n",
              "      <th>R+2_ADE</th>\n",
              "      <th>R+2_CYT</th>\n",
              "      <th>R+2_GUA</th>\n",
              "      <th>R+2_UNK</th>\n",
              "      <th>R+2_URA</th>\n",
              "      <th>R+3_ADE</th>\n",
              "      <th>R+3_CYT</th>\n",
              "      <th>R+3_GUA</th>\n",
              "      <th>R+3_UNK</th>\n",
              "      <th>R+3_URA</th>\n",
              "    </tr>\n",
              "  </thead>\n",
              "  <tbody>\n",
              "    <tr>\n",
              "      <th>0</th>\n",
              "      <td>1A60</td>\n",
              "      <td>1</td>\n",
              "      <td>134.15</td>\n",
              "      <td>73.92</td>\n",
              "      <td>60.23</td>\n",
              "      <td>31.95</td>\n",
              "      <td>102.2</td>\n",
              "      <td>109.6</td>\n",
              "      <td>0</td>\n",
              "      <td>1</td>\n",
              "      <td>0</td>\n",
              "      <td>1</td>\n",
              "      <td>C2p_exo</td>\n",
              "      <td>0</td>\n",
              "      <td>0</td>\n",
              "      <td>0</td>\n",
              "      <td>0</td>\n",
              "      <td>0</td>\n",
              "      <td>0</td>\n",
              "      <td>0</td>\n",
              "      <td>0</td>\n",
              "      <td>0</td>\n",
              "      <td>0</td>\n",
              "      <td>0</td>\n",
              "      <td>0</td>\n",
              "      <td>0</td>\n",
              "      <td>0</td>\n",
              "      <td>0</td>\n",
              "      <td>0</td>\n",
              "      <td>0</td>\n",
              "      <td>0</td>\n",
              "      <td>0</td>\n",
              "      <td>0</td>\n",
              "      <td>0</td>\n",
              "      <td>0</td>\n",
              "      <td>0</td>\n",
              "      <td>0</td>\n",
              "      <td>0</td>\n",
              "      <td>0</td>\n",
              "      <td>0</td>\n",
              "      <td>...</td>\n",
              "      <td>7.52</td>\n",
              "      <td>5.932</td>\n",
              "      <td>4.28</td>\n",
              "      <td>4.11</td>\n",
              "      <td>8.413</td>\n",
              "      <td>7.68</td>\n",
              "      <td>0</td>\n",
              "      <td>0</td>\n",
              "      <td>0</td>\n",
              "      <td>1</td>\n",
              "      <td>0</td>\n",
              "      <td>0</td>\n",
              "      <td>0</td>\n",
              "      <td>0</td>\n",
              "      <td>1</td>\n",
              "      <td>0</td>\n",
              "      <td>0</td>\n",
              "      <td>0</td>\n",
              "      <td>0</td>\n",
              "      <td>1</td>\n",
              "      <td>0</td>\n",
              "      <td>0</td>\n",
              "      <td>0</td>\n",
              "      <td>1</td>\n",
              "      <td>0</td>\n",
              "      <td>0</td>\n",
              "      <td>0</td>\n",
              "      <td>1</td>\n",
              "      <td>0</td>\n",
              "      <td>0</td>\n",
              "      <td>0</td>\n",
              "      <td>0</td>\n",
              "      <td>1</td>\n",
              "      <td>0</td>\n",
              "      <td>0</td>\n",
              "      <td>1</td>\n",
              "      <td>0</td>\n",
              "      <td>0</td>\n",
              "      <td>0</td>\n",
              "      <td>0</td>\n",
              "    </tr>\n",
              "    <tr>\n",
              "      <th>1</th>\n",
              "      <td>1A60</td>\n",
              "      <td>2</td>\n",
              "      <td>172</td>\n",
              "      <td>56.91</td>\n",
              "      <td>115.09</td>\n",
              "      <td>38.57</td>\n",
              "      <td>133.43</td>\n",
              "      <td>161.86</td>\n",
              "      <td>0</td>\n",
              "      <td>1</td>\n",
              "      <td>0</td>\n",
              "      <td>1</td>\n",
              "      <td>C4p_exo</td>\n",
              "      <td>0</td>\n",
              "      <td>0</td>\n",
              "      <td>0</td>\n",
              "      <td>0</td>\n",
              "      <td>0</td>\n",
              "      <td>0</td>\n",
              "      <td>0</td>\n",
              "      <td>0</td>\n",
              "      <td>0</td>\n",
              "      <td>0</td>\n",
              "      <td>0</td>\n",
              "      <td>0</td>\n",
              "      <td>0</td>\n",
              "      <td>0</td>\n",
              "      <td>0</td>\n",
              "      <td>0</td>\n",
              "      <td>0</td>\n",
              "      <td>0</td>\n",
              "      <td>0</td>\n",
              "      <td>0</td>\n",
              "      <td>0</td>\n",
              "      <td>0</td>\n",
              "      <td>0</td>\n",
              "      <td>0</td>\n",
              "      <td>0</td>\n",
              "      <td>0</td>\n",
              "      <td>0</td>\n",
              "      <td>...</td>\n",
              "      <td>7.793</td>\n",
              "      <td>5.988</td>\n",
              "      <td>4.18</td>\n",
              "      <td>4.07</td>\n",
              "      <td>8.522</td>\n",
              "      <td>7</td>\n",
              "      <td>0</td>\n",
              "      <td>0</td>\n",
              "      <td>0</td>\n",
              "      <td>1</td>\n",
              "      <td>0</td>\n",
              "      <td>0</td>\n",
              "      <td>0</td>\n",
              "      <td>0</td>\n",
              "      <td>1</td>\n",
              "      <td>0</td>\n",
              "      <td>0</td>\n",
              "      <td>0</td>\n",
              "      <td>1</td>\n",
              "      <td>0</td>\n",
              "      <td>0</td>\n",
              "      <td>0</td>\n",
              "      <td>0</td>\n",
              "      <td>1</td>\n",
              "      <td>0</td>\n",
              "      <td>0</td>\n",
              "      <td>0</td>\n",
              "      <td>1</td>\n",
              "      <td>0</td>\n",
              "      <td>0</td>\n",
              "      <td>1</td>\n",
              "      <td>0</td>\n",
              "      <td>0</td>\n",
              "      <td>0</td>\n",
              "      <td>0</td>\n",
              "      <td>0</td>\n",
              "      <td>0</td>\n",
              "      <td>1</td>\n",
              "      <td>0</td>\n",
              "      <td>0</td>\n",
              "    </tr>\n",
              "    <tr>\n",
              "      <th>2</th>\n",
              "      <td>1A60</td>\n",
              "      <td>3</td>\n",
              "      <td>187.59</td>\n",
              "      <td>58.9</td>\n",
              "      <td>128.68</td>\n",
              "      <td>52.7</td>\n",
              "      <td>134.89</td>\n",
              "      <td>174.81</td>\n",
              "      <td>0</td>\n",
              "      <td>1</td>\n",
              "      <td>0</td>\n",
              "      <td>1</td>\n",
              "      <td>C3p_endo</td>\n",
              "      <td>0</td>\n",
              "      <td>0</td>\n",
              "      <td>0</td>\n",
              "      <td>0</td>\n",
              "      <td>0</td>\n",
              "      <td>0</td>\n",
              "      <td>0</td>\n",
              "      <td>0</td>\n",
              "      <td>0</td>\n",
              "      <td>0</td>\n",
              "      <td>0</td>\n",
              "      <td>0</td>\n",
              "      <td>0</td>\n",
              "      <td>0</td>\n",
              "      <td>0</td>\n",
              "      <td>0</td>\n",
              "      <td>0</td>\n",
              "      <td>0</td>\n",
              "      <td>0</td>\n",
              "      <td>0</td>\n",
              "      <td>92.7</td>\n",
              "      <td>74.9</td>\n",
              "      <td>72</td>\n",
              "      <td>82.5</td>\n",
              "      <td>65.4</td>\n",
              "      <td>153.6</td>\n",
              "      <td>109.8</td>\n",
              "      <td>...</td>\n",
              "      <td>7.4</td>\n",
              "      <td>5.11</td>\n",
              "      <td>4.32</td>\n",
              "      <td>4.17</td>\n",
              "      <td>7.48</td>\n",
              "      <td>8.169</td>\n",
              "      <td>0</td>\n",
              "      <td>0</td>\n",
              "      <td>0</td>\n",
              "      <td>1</td>\n",
              "      <td>0</td>\n",
              "      <td>0</td>\n",
              "      <td>0</td>\n",
              "      <td>1</td>\n",
              "      <td>0</td>\n",
              "      <td>0</td>\n",
              "      <td>0</td>\n",
              "      <td>0</td>\n",
              "      <td>1</td>\n",
              "      <td>0</td>\n",
              "      <td>0</td>\n",
              "      <td>0</td>\n",
              "      <td>0</td>\n",
              "      <td>1</td>\n",
              "      <td>0</td>\n",
              "      <td>1</td>\n",
              "      <td>0</td>\n",
              "      <td>0</td>\n",
              "      <td>0</td>\n",
              "      <td>0</td>\n",
              "      <td>0</td>\n",
              "      <td>0</td>\n",
              "      <td>1</td>\n",
              "      <td>0</td>\n",
              "      <td>0</td>\n",
              "      <td>0</td>\n",
              "      <td>1</td>\n",
              "      <td>0</td>\n",
              "      <td>0</td>\n",
              "      <td>0</td>\n",
              "    </tr>\n",
              "    <tr>\n",
              "      <th>3</th>\n",
              "      <td>1A60</td>\n",
              "      <td>4</td>\n",
              "      <td>186.44</td>\n",
              "      <td>56.18</td>\n",
              "      <td>130.26</td>\n",
              "      <td>57.02</td>\n",
              "      <td>129.43</td>\n",
              "      <td>180.7</td>\n",
              "      <td>0</td>\n",
              "      <td>1</td>\n",
              "      <td>0</td>\n",
              "      <td>1</td>\n",
              "      <td>C2p_exo</td>\n",
              "      <td>0</td>\n",
              "      <td>92.7</td>\n",
              "      <td>74.9</td>\n",
              "      <td>72</td>\n",
              "      <td>82.5</td>\n",
              "      <td>65.4</td>\n",
              "      <td>153.6</td>\n",
              "      <td>109.8</td>\n",
              "      <td>157</td>\n",
              "      <td>142.1</td>\n",
              "      <td>5.65</td>\n",
              "      <td>4.5</td>\n",
              "      <td>4.12</td>\n",
              "      <td>4.23</td>\n",
              "      <td>7.469</td>\n",
              "      <td>6.124</td>\n",
              "      <td>4.07</td>\n",
              "      <td>3.99</td>\n",
              "      <td>8.413</td>\n",
              "      <td>8.03</td>\n",
              "      <td>91.9</td>\n",
              "      <td>75.7</td>\n",
              "      <td>72.4</td>\n",
              "      <td>82.3</td>\n",
              "      <td>66.1</td>\n",
              "      <td>155.207</td>\n",
              "      <td>118.377</td>\n",
              "      <td>...</td>\n",
              "      <td>6.077</td>\n",
              "      <td>5.82</td>\n",
              "      <td>4.14</td>\n",
              "      <td>4.13</td>\n",
              "      <td>7.89</td>\n",
              "      <td>8.291</td>\n",
              "      <td>0</td>\n",
              "      <td>0</td>\n",
              "      <td>1</td>\n",
              "      <td>0</td>\n",
              "      <td>0</td>\n",
              "      <td>0</td>\n",
              "      <td>0</td>\n",
              "      <td>1</td>\n",
              "      <td>0</td>\n",
              "      <td>0</td>\n",
              "      <td>0</td>\n",
              "      <td>0</td>\n",
              "      <td>1</td>\n",
              "      <td>0</td>\n",
              "      <td>0</td>\n",
              "      <td>1</td>\n",
              "      <td>0</td>\n",
              "      <td>0</td>\n",
              "      <td>0</td>\n",
              "      <td>0</td>\n",
              "      <td>0</td>\n",
              "      <td>1</td>\n",
              "      <td>0</td>\n",
              "      <td>0</td>\n",
              "      <td>0</td>\n",
              "      <td>1</td>\n",
              "      <td>0</td>\n",
              "      <td>0</td>\n",
              "      <td>0</td>\n",
              "      <td>0</td>\n",
              "      <td>0</td>\n",
              "      <td>0</td>\n",
              "      <td>0</td>\n",
              "      <td>1</td>\n",
              "    </tr>\n",
              "    <tr>\n",
              "      <th>4</th>\n",
              "      <td>1A60</td>\n",
              "      <td>5</td>\n",
              "      <td>204.31</td>\n",
              "      <td>87.69</td>\n",
              "      <td>116.62</td>\n",
              "      <td>37.6</td>\n",
              "      <td>166.72</td>\n",
              "      <td>203.86</td>\n",
              "      <td>0</td>\n",
              "      <td>1</td>\n",
              "      <td>0</td>\n",
              "      <td>1</td>\n",
              "      <td>C3p_endo</td>\n",
              "      <td>0</td>\n",
              "      <td>91.9</td>\n",
              "      <td>75.7</td>\n",
              "      <td>72.4</td>\n",
              "      <td>82.3</td>\n",
              "      <td>66.1</td>\n",
              "      <td>155.207</td>\n",
              "      <td>118.377</td>\n",
              "      <td>160.7</td>\n",
              "      <td>141.4</td>\n",
              "      <td>5.88</td>\n",
              "      <td>4.6</td>\n",
              "      <td>4.5</td>\n",
              "      <td>4.31</td>\n",
              "      <td>7.83</td>\n",
              "      <td>5.549</td>\n",
              "      <td>4.2</td>\n",
              "      <td>4.15</td>\n",
              "      <td>7.871</td>\n",
              "      <td>7.49</td>\n",
              "      <td>92.2</td>\n",
              "      <td>76.1</td>\n",
              "      <td>72.3</td>\n",
              "      <td>84.7</td>\n",
              "      <td>66</td>\n",
              "      <td>154.079</td>\n",
              "      <td>120.289</td>\n",
              "      <td>...</td>\n",
              "      <td>7.33</td>\n",
              "      <td>5.76</td>\n",
              "      <td>4.08</td>\n",
              "      <td>3.98</td>\n",
              "      <td>7.74</td>\n",
              "      <td>7.6</td>\n",
              "      <td>0</td>\n",
              "      <td>0</td>\n",
              "      <td>1</td>\n",
              "      <td>0</td>\n",
              "      <td>0</td>\n",
              "      <td>0</td>\n",
              "      <td>0</td>\n",
              "      <td>1</td>\n",
              "      <td>0</td>\n",
              "      <td>0</td>\n",
              "      <td>1</td>\n",
              "      <td>0</td>\n",
              "      <td>0</td>\n",
              "      <td>0</td>\n",
              "      <td>0</td>\n",
              "      <td>0</td>\n",
              "      <td>0</td>\n",
              "      <td>1</td>\n",
              "      <td>0</td>\n",
              "      <td>0</td>\n",
              "      <td>1</td>\n",
              "      <td>0</td>\n",
              "      <td>0</td>\n",
              "      <td>0</td>\n",
              "      <td>0</td>\n",
              "      <td>0</td>\n",
              "      <td>0</td>\n",
              "      <td>0</td>\n",
              "      <td>1</td>\n",
              "      <td>0</td>\n",
              "      <td>1</td>\n",
              "      <td>0</td>\n",
              "      <td>0</td>\n",
              "      <td>0</td>\n",
              "    </tr>\n",
              "  </tbody>\n",
              "</table>\n",
              "<p>5 rows × 181 columns</p>\n",
              "</div>"
            ]
          },
          "metadata": {
            "tags": []
          },
          "execution_count": 40
        }
      ]
    },
    {
      "cell_type": "markdown",
      "metadata": {
        "id": "Pd5IXB3Xu6kd"
      },
      "source": [
        "2N1Q vs 5WQ1?</br>\n",
        "Used vsearch to check 4 test RNAs, no highly similar sequences in train set"
      ]
    },
    {
      "cell_type": "code",
      "metadata": {
        "id": "PA8ZeGsG---i"
      },
      "source": [
        "# Prepare training set\n",
        "sd_scale = 0.5\n",
        "targets = ['sasa', 'astack',  'nastack', 'pair', 'syn_anti']\n",
        "drop_names = ['id', 'resid', 'sasa-All-atoms', 'sasa-Total-Side', 'sasa-Main-Chain', 'sasa-Non-polar', 'sasa-All', 'sasa', 'astack',  'nastack', 'pair', 'syn_anti', 'pucker', 'class']\n",
        "tmp_trainX = train.drop(drop_names, axis=1)\n",
        "tmp_trainy = pd.DataFrame(train[targets].values, dtype = 'float', columns = targets)\n",
        "trainX = pd.DataFrame(tmp_trainX.values, dtype = 'float')\n",
        "trainy = tmp_trainy.values\n",
        "train_mean = [trainy[:, 0].mean()] # mean of sasa\n",
        "train_sd = [sd_scale*np.std(trainy[:, 0])]\n",
        "tmp = one_hot_encode(pd.DataFrame(train['pucker'].values, columns=['pucker']), ['pucker'])\n",
        "trainy_mix = np.vstack([ np.where(trainy[:, 0] <= train_mean[0]+train_sd[0], 0, 1),   # sasa threshold                 \n",
        "                        trainy[:, 1], # astack\n",
        "                        trainy[:, 2], # nastack\n",
        "                        trainy[:, 3], # pair\n",
        "                        trainy[:, 4], # syn_anti\n",
        "                        tmp['pucker_C2p_endo'].values,\n",
        "                        tmp['pucker_C3p_endo'].values,\n",
        "                        tmp['pucker_C2p_exo'].values,\n",
        "                        tmp['pucker_C3p_exo'].values,\n",
        "                        tmp['pucker_C1p_exo'].values,\n",
        "                        tmp['pucker_C4p_exo'].values\n",
        "                        ]).T \n",
        "w = np.ones(len(trainy[:, 0]))\n",
        "train_w = np.vstack([w, w, w, w, w, w, w, w, w, w, w]).T # weight is 1 for all cells\n",
        "train_dataset = dc.data.NumpyDataset(trainX, trainy_mix, train_w) # use deepchem here, target weight\n",
        "\n",
        "# Prepare test model\n",
        "retain = ['id', 'resid', 'sasa']\n",
        "tmp_testX = test.drop(drop_names, axis=1)\n",
        "tmp_testy = pd.DataFrame(test[targets].values, dtype = 'float', columns = targets)\n",
        "targets.append('pucker_C2p_endo')\n",
        "targets.append('pucker_C3p_endo')\n",
        "targets.append('pucker_C2p_exo')\n",
        "targets.append('pucker_C3p_exo')\n",
        "targets.append('pucker_C1p_exo')\n",
        "targets.append('pucker_C4p_exo')\n",
        "\n",
        "testX = pd.DataFrame(tmp_testX.values, dtype = 'float')\n",
        "testy = tmp_testy.values\n",
        "tmp = one_hot_encode(pd.DataFrame(test['pucker'].values, columns=['pucker']), ['pucker'])\n",
        "testy_mix = np.vstack([ np.where(testy[:, 0] <= train_mean[0]+train_sd[0], 0, 1),                         \n",
        "                        testy[:, 1],\n",
        "                        testy[:, 2],\n",
        "                        testy[:, 3],\n",
        "                        testy[:, 4],\n",
        "                        tmp['pucker_C2p_endo'].values,\n",
        "                        tmp['pucker_C3p_endo'].values,\n",
        "                        tmp['pucker_C2p_exo'].values,\n",
        "                        tmp['pucker_C3p_exo'].values,\n",
        "                        tmp['pucker_C1p_exo'].values,\n",
        "                        tmp['pucker_C4p_exo'].values                       \n",
        "                        ]).T\n",
        "w = np.ones(len(testy[:, 0]))\n",
        "test_w = np.vstack([w, w, w, w, w, w, w, w, w, w, w]).T\n",
        "test_dataset = dc.data.NumpyDataset(np.array(testX), np.array(testy_mix), test_w)\n",
        "\n",
        "info = pd.DataFrame(test[retain].values, dtype='object', columns = retain) # info is id, resid, and sasa\n",
        "actuals = pd.DataFrame(testy_mix, columns=targets)\n",
        "\n",
        "#info.to_csv(DIR_PATH+'info.csv', sep = ' ',header=True,index=False)\n",
        "#actuals.to_csv(DIR_PATH+'actuals.csv', sep = ' ',header=True,index=False)"
      ],
      "execution_count": null,
      "outputs": []
    },
    {
      "cell_type": "code",
      "metadata": {
        "id": "YovP4kChIOQX"
      },
      "source": [
        "pd.DataFrame({\"sasa\":trainy_mix[:, 0], \n",
        "             \"astack\":trainy_mix[:, 1], \n",
        "             \"nastack\":trainy_mix[:, 2], \n",
        "             \"pair\":trainy_mix[:, 3], \n",
        "             \"syn_anti\":trainy_mix[:, 4], \n",
        "             \"pucker_C2p_endo\":trainy_mix[:, 5],\n",
        "             \"pucker_C3p_endo\":trainy_mix[:, 6],\n",
        "             \"pucker_C2p_exo\":trainy_mix[:, 7],\n",
        "             \"pucker_C3p_exo\":trainy_mix[:, 8],\n",
        "             \"pucker_C1p_exo\":trainy_mix[:, 9],\n",
        "             \"pucker_C4p_exo\":trainy_mix[:, 10]}).to_csv(DIR_PATH+\"train_target_0.csv\", sep = \" \", index = False)\n",
        "\n",
        "trainX.to_csv(DIR_PATH+\"train_features_0.csv\", sep = \" \", index = False) \n",
        "\n",
        "pd.DataFrame({\"sasa\":testy_mix[:, 0], \n",
        "             \"astack\":testy_mix[:, 1], \n",
        "             \"nastack\":testy_mix[:, 2], \n",
        "             \"pair\":testy_mix[:, 3], \n",
        "             \"syn_anti\":testy_mix[:, 4], \n",
        "             \"pucker_C2p_endo\":testy_mix[:, 5],\n",
        "             \"pucker_C3p_endo\":testy_mix[:, 6],\n",
        "             \"pucker_C2p_exo\":testy_mix[:, 7],\n",
        "             \"pucker_C3p_exo\":testy_mix[:, 8],\n",
        "             \"pucker_C1p_exo\":testy_mix[:, 9],\n",
        "             \"pucker_C4p_exo\":testy_mix[:, 10]}).to_csv(DIR_PATH+\"test_target_0.csv\", sep = \" \", index = False)\n",
        "\n",
        "testX.to_csv(DIR_PATH+\"test_features_0.csv\", sep = \" \", index = False)"
      ],
      "execution_count": null,
      "outputs": []
    },
    {
      "cell_type": "code",
      "metadata": {
        "id": "XsERHB29tEmU"
      },
      "source": [
        "trainy = pd.DataFrame({\"sasa\":trainy_mix[:, 0], \n",
        "             \"astack\":trainy_mix[:, 1], \n",
        "             \"nastack\":trainy_mix[:, 2], \n",
        "             \"pair\":trainy_mix[:, 3], \n",
        "             \"syn_anti\":trainy_mix[:, 4], \n",
        "             \"pucker_C2p_endo\":trainy_mix[:, 5],\n",
        "             \"pucker_C3p_endo\":trainy_mix[:, 6],\n",
        "             \"pucker_C2p_exo\":trainy_mix[:, 7],\n",
        "             \"pucker_C3p_exo\":trainy_mix[:, 8],\n",
        "             \"pucker_C1p_exo\":trainy_mix[:, 9],\n",
        "             \"pucker_C4p_exo\":trainy_mix[:, 10]})\n",
        "testy = pd.DataFrame({\"sasa\":testy_mix[:, 0], \n",
        "             \"astack\":testy_mix[:, 1], \n",
        "             \"nastack\":testy_mix[:, 2], \n",
        "             \"pair\":testy_mix[:, 3], \n",
        "             \"syn_anti\":testy_mix[:, 4], \n",
        "             \"pucker_C2p_endo\":testy_mix[:, 5],\n",
        "             \"pucker_C3p_endo\":testy_mix[:, 6],\n",
        "             \"pucker_C2p_exo\":testy_mix[:, 7],\n",
        "             \"pucker_C3p_exo\":testy_mix[:, 8],\n",
        "             \"pucker_C1p_exo\":testy_mix[:, 9],\n",
        "             \"pucker_C4p_exo\":testy_mix[:, 10]})\n",
        "\n",
        "train_dist = trainy.apply(lambda x: x.value_counts(), axis=0)\n",
        "test_dist = testy.apply(lambda x: x.value_counts(), axis=0)\n",
        "train_dist.to_csv(DIR_PATH+\"train_targets_dist.csv\", header=True, index=True, sep = \" \")\n",
        "test_dist.to_csv(DIR_PATH+\"test_targets_dist.csv\", header=True, index=True, sep = \" \")"
      ],
      "execution_count": null,
      "outputs": []
    },
    {
      "cell_type": "markdown",
      "metadata": {
        "id": "vOuLcz4glfHn"
      },
      "source": [
        "# Load data and preprocess"
      ]
    },
    {
      "cell_type": "code",
      "metadata": {
        "id": "qwTMo0pOiapL"
      },
      "source": [
        "neighbors = 3\n",
        "# load train and test data\n",
        "X_train = pd.read_csv(DIR_PATH+\"train_features_\"+str(neighbors)+\".csv\",delim_whitespace=True,header=0)\n",
        "y_train = pd.read_csv(DIR_PATH+\"train_target_\"+str(neighbors)+\".csv\",delim_whitespace=True,header=0)\n",
        "X_test = pd.read_csv(DIR_PATH+\"test_features_\"+str(neighbors)+\".csv\",delim_whitespace=True,header=0)\n",
        "y_test = pd.read_csv(DIR_PATH+\"test_target_\"+str(neighbors)+\".csv\",delim_whitespace=True,header=0)\n",
        "targets = y_train.columns\n",
        "\n",
        "# convert to deepchem dataset\n",
        "w = np.ones(y_train.shape[0]) # number of samples in train\n",
        "train_w = np.vstack([w, w, w, w, w, w, w, w, w, w, w]).T # weight is 1 \n",
        "train_dataset = dc.data.NumpyDataset(X_train, y_train, train_w) # use deepchem here, some kind of weight\n",
        "\n",
        "w = np.ones(y_test.shape[0]) # number of samples in test\n",
        "test_w = np.vstack([w, w, w, w, w, w, w, w, w, w, w]).T # weight is 1 \n",
        "test_dataset = dc.data.NumpyDataset(X_test, y_test, test_w) # use deepchem here, some kind of weight\n",
        "\n",
        "# Scale\n",
        "transform_scaler = dc.trans.transformers.NormalizationTransformer(transform_X = True, transform_y = False, dataset=train_dataset)\n",
        "train_dataset_norm = transform_scaler.transform(train_dataset)\n",
        "test_dataset_norm = transform_scaler.transform(test_dataset)\n",
        "\n",
        "# Balance Dataset\n",
        "transform_balancer = dc.trans.transformers.BalancingTransformer(transform_w = True, dataset=train_dataset_norm) # this will work, inconsistent names before\n",
        "train_dataset_balanced = transform_balancer.transform(train_dataset_norm)\n",
        "\n",
        "n_features = train_dataset_balanced.X.shape[1]\n",
        "n_tasks = train_dataset_balanced.y.shape[1]"
      ],
      "execution_count": null,
      "outputs": []
    },
    {
      "cell_type": "code",
      "metadata": {
        "id": "nA40nLvPjyfD",
        "colab": {
          "base_uri": "https://localhost:8080/"
        },
        "outputId": "d8aee187-4a28-4846-993c-cc34dd7f52e9"
      },
      "source": [
        "print(targets)\n",
        "print(test_dataset.X)"
      ],
      "execution_count": null,
      "outputs": [
        {
          "output_type": "stream",
          "text": [
            "Index([u'astack', u'nastack', u'pair', u'pucker_C1p_exo', u'pucker_C2p_endo',\n",
            "       u'pucker_C2p_exo', u'pucker_C3p_endo', u'pucker_C3p_exo',\n",
            "       u'pucker_C4p_exo', u'sasa', u'syn_anti'],\n",
            "      dtype='object')\n",
            "[[ 0.     0.     0.    ...  0.     0.     1.   ]\n",
            " [ 0.     0.     0.    ...  1.     0.     0.   ]\n",
            " [ 0.     0.     0.    ...  1.     0.     0.   ]\n",
            " ...\n",
            " [92.355 75.231 70.27  ...  0.     1.     0.   ]\n",
            " [93.098 76.024 72.55  ...  0.     1.     0.   ]\n",
            " [93.999 76.12  73.947 ...  0.     1.     0.   ]]\n"
          ],
          "name": "stdout"
        }
      ]
    },
    {
      "cell_type": "markdown",
      "metadata": {
        "id": "u_dbqUrw3OKT"
      },
      "source": [
        "### Correlation between targets"
      ]
    },
    {
      "cell_type": "code",
      "metadata": {
        "id": "beVwz7c93NVY",
        "colab": {
          "base_uri": "https://localhost:8080/",
          "height": 701
        },
        "outputId": "37572476-74ae-4d07-fbb6-ccd59cc52ec4"
      },
      "source": [
        "corr = y_train.corr()\n",
        "\n",
        "sns.set(style=\"white\",font_scale=1.5)\n",
        "# Set up the matplotlib figure\n",
        "f, ax = plt.subplots(figsize=(11, 11))\n",
        "# Generate a custom diverging colormap\n",
        "cmap = sns.diverging_palette(220, 10, as_cmap=True)\n",
        "# Draw the heatmap with the mask and correct aspect ratio\n",
        "sns.heatmap(corr, cmap=cmap, center=0,\n",
        "            square=True, linewidths=.5, cbar_kws={\"shrink\": .5})"
      ],
      "execution_count": null,
      "outputs": [
        {
          "output_type": "execute_result",
          "data": {
            "text/plain": [
              "<matplotlib.axes._subplots.AxesSubplot at 0x7ff6631a5250>"
            ]
          },
          "metadata": {
            "tags": []
          },
          "execution_count": 7
        },
        {
          "output_type": "display_data",
          "data": {
            "image/png": "[encoded data removed]",
            "text/plain": [
              "<Figure size 792x792 with 2 Axes>"
            ]
          },
          "metadata": {
            "tags": []
          }
        }
      ]
    },
    {
      "cell_type": "markdown",
      "metadata": {
        "id": "khon_JU1_a2I"
      },
      "source": [
        "# Model selection - cross validation\n",
        "Notes: I used plotly to generate figure which is incompatible with python2, so I created another notebook for making figures."
      ]
    },
    {
      "cell_type": "markdown",
      "metadata": {
        "id": "08SbR91o-Zj4"
      },
      "source": [
        "## Method 0.1: Random forest default parameters"
      ]
    },
    {
      "cell_type": "code",
      "metadata": {
        "colab": {
          "base_uri": "https://localhost:8080/"
        },
        "id": "rk7ZoAbX-djn",
        "outputId": "7e6bbed4-591e-41f2-f6ff-296c9c90b6b3"
      },
      "source": [
        "from sklearn.ensemble import RandomForestClassifier\n",
        "\n",
        "X = train_dataset_balanced.X\n",
        "y = train_dataset_balanced.y\n",
        "kf = KFold(n_splits=5, shuffle=True)\n",
        "kf.get_n_splits(X)\n",
        "\n",
        "print(kf)\n",
        "list_score = []  \n",
        "list_score_per_class= []\n",
        "\n",
        "for train_index, test_index in kf.split(X):\n",
        "  #print(\"TRAIN:\", train_index, \"TEST:\", test_index)\n",
        "  X_train, X_test = X[train_index], X[test_index]\n",
        "  y_train, y_test = y[train_index], y[test_index]\n",
        "  clf = RandomForestClassifier() # increase iterations to ensure convergence\n",
        "  clf.fit(X_train, y_train)\n",
        "  preds = clf.predict(X_test)\n",
        "  score = balanced_accuracy_score(y_test.flatten(),preds.flatten())\n",
        "  list_score.append(score)\n",
        "  list_temp =[]\n",
        "  for i in range(11):\n",
        "    score_per_class = balanced_accuracy_score(y_test[:,i], preds[:,i])\n",
        "    list_temp.append(score_per_class)\n",
        "  list_score_per_class.append(list_temp) \n",
        "print(list_score)\n",
        "del score, list_temp, score_per_class"
      ],
      "execution_count": null,
      "outputs": [
        {
          "output_type": "stream",
          "text": [
            "KFold(n_splits=5, random_state=None, shuffle=True)\n",
            "[0.8275931338599569, 0.8395424509411293, 0.833674097251539, 0.8421143632088015, 0.8339851979345956]\n"
          ],
          "name": "stdout"
        }
      ]
    },
    {
      "cell_type": "code",
      "metadata": {
        "id": "f9mNKLgh-gsL"
      },
      "source": [
        "list_score_per_class = pd.DataFrame(list_score_per_class)\n",
        "list_score_per_class=list_score_per_class.append(list_score_per_class.apply(np.mean, axis = 0),ignore_index=True)\n",
        "list_score_per_class.index=[\"cv1\",\"cv2\",\"cv3\",\"cv4\",\"cv5\",\"mean\"]\n",
        "list_score_per_class.columns = targets\n",
        "list_score_per_class.to_csv(DIR_PATH+\"RF_cv_balanced_accuracy.csv\", index=True, sep=\" \", header=True)"
      ],
      "execution_count": null,
      "outputs": []
    },
    {
      "cell_type": "code",
      "metadata": {
        "id": "CYXpfsBN_SXQ"
      },
      "source": [
        "baseline_cv = pd.DataFrame(list_score_per_class.loc[\"mean\"])"
      ],
      "execution_count": null,
      "outputs": []
    },
    {
      "cell_type": "markdown",
      "metadata": {
        "id": "8SIh_Doa_a2k"
      },
      "source": [
        "## Method 0.2: Logistic regression"
      ]
    },
    {
      "cell_type": "code",
      "metadata": {
        "colab": {
          "base_uri": "https://localhost:8080/"
        },
        "id": "FLHFcy0J_fEf",
        "outputId": "a7c50844-b206-4b12-fadd-c74e677da8f1"
      },
      "source": [
        "from sklearn.multioutput import MultiOutputClassifier\n",
        "from sklearn.linear_model import LogisticRegression\n",
        "X = train_dataset_balanced.X\n",
        "y = train_dataset_balanced.y\n",
        "kf = KFold(n_splits=5, shuffle=True)\n",
        "kf.get_n_splits(X)\n",
        "\n",
        "print(kf)\n",
        "list_score = []  \n",
        "list_score_per_class= []\n",
        "\n",
        "for train_index, test_index in kf.split(X):\n",
        "  #print(\"TRAIN:\", train_index, \"TEST:\", test_index)\n",
        "  X_train, X_test = X[train_index], X[test_index]\n",
        "  y_train, y_test = y[train_index], y[test_index]\n",
        "  clf = MultiOutputClassifier(LogisticRegression()) # increase iterations to ensure convergence\n",
        "  clf.fit(X_train, y_train)\n",
        "  preds = clf.predict(X_test)\n",
        "  score = balanced_accuracy_score(y_test.flatten(),preds.flatten())\n",
        "  list_score.append(score)\n",
        "  list_temp =[]\n",
        "  for i in range(11):\n",
        "    score_per_class = balanced_accuracy_score(y_test[:,i], preds[:,i])\n",
        "    list_temp.append(score_per_class)\n",
        "  list_score_per_class.append(list_temp) \n",
        "print(list_score)\n",
        "del score, list_temp, score_per_class"
      ],
      "execution_count": null,
      "outputs": [
        {
          "output_type": "stream",
          "text": [
            "KFold(n_splits=5, random_state=None, shuffle=True)\n",
            "[0.8536749461817112, 0.8553035970159718, 0.8504876678839157, 0.8575029481030363, 0.850650241226927]\n"
          ],
          "name": "stdout"
        }
      ]
    },
    {
      "cell_type": "code",
      "metadata": {
        "id": "f6DctkaD_i7v"
      },
      "source": [
        "list_score_per_class = pd.DataFrame(list_score_per_class)\n",
        "list_score_per_class=list_score_per_class.append(list_score_per_class.apply(np.mean, axis = 0),ignore_index=True)\n",
        "list_score_per_class.index=[\"cv1\",\"cv2\",\"cv3\",\"cv4\",\"cv5\",\"mean\"]\n",
        "list_score_per_class.columns = targets\n",
        "list_score_per_class.to_csv(DIR_PATH+\"LR_cv_balanced_accuracy.csv\", index=True, sep=\" \", header=True)"
      ],
      "execution_count": null,
      "outputs": []
    },
    {
      "cell_type": "markdown",
      "metadata": {
        "id": "bXdF6dfPnMb5"
      },
      "source": [
        "## Method 1: K-Fold cross validation for independent MLP classifiers\n",
        "The most naive method - building independent models for different taregtes. It should have similar performance as the OVR predictors in Method 2."
      ]
    },
    {
      "cell_type": "code",
      "metadata": {
        "id": "wUeGKPpghlbP",
        "colab": {
          "base_uri": "https://localhost:8080/",
          "height": 52
        },
        "outputId": "c1803101-d1ba-4d2c-e375-955ca9722410"
      },
      "source": [
        "X = train_dataset_balanced.X\n",
        "y = train_dataset_balanced.y\n",
        "kf = KFold(n_splits=5, shuffle=True)\n",
        "kf.get_n_splits(X)\n",
        "\n",
        "print(kf)\n",
        "list_score = []  \n",
        "list_score_per_class= []\n",
        "\n",
        "for train_index, test_index in kf.split(X):\n",
        "  #print(\"TRAIN:\", train_index, \"TEST:\", test_index)\n",
        "  X_train, X_test = X[train_index], X[test_index]\n",
        "  y_train, y_test = y[train_index], y[test_index]\n",
        "  clf = MLPClassifier(max_iter=1000) # increase iterations to ensure convergence\n",
        "  clf.fit(X_train, y_train)\n",
        "  preds = clf.predict(X_test)\n",
        "  score = balanced_accuracy_score(y_test.flatten(),preds.flatten())\n",
        "  list_score.append(score)\n",
        "  list_temp =[]\n",
        "  for i in range(11):\n",
        "    score_per_class = balanced_accuracy_score(y_test[:,i], preds[:,i])\n",
        "    list_temp.append(score_per_class)\n",
        "  list_score_per_class.append(list_temp) \n",
        "print(list_score)\n",
        "del score, list_temp, score_per_class"
      ],
      "execution_count": null,
      "outputs": [
        {
          "output_type": "stream",
          "text": [
            "KFold(n_splits=5, random_state=None, shuffle=True)\n",
            "[0.8205042386141894, 0.8177340685566092, 0.8251440340821208, 0.8248918199821824, 0.8229156216957298]\n"
          ],
          "name": "stdout"
        }
      ]
    },
    {
      "cell_type": "code",
      "metadata": {
        "id": "OBKBn104A1hu"
      },
      "source": [
        "list_score_per_class = pd.DataFrame(list_score_per_class)\n",
        "list_score_per_class=list_score_per_class.append(list_score_per_class.apply(np.mean, axis = 0),ignore_index=True)\n",
        "list_score_per_class.index=[\"cv1\",\"cv2\",\"cv3\",\"cv4\",\"cv5\",\"mean\"]\n",
        "list_score_per_class.columns = targets\n",
        "list_score_per_class.to_csv(DIR_PATH+\"MLP_cv_balanced_accuracy.csv\", index=True, sep=\" \", header=True)"
      ],
      "execution_count": null,
      "outputs": []
    },
    {
      "cell_type": "markdown",
      "metadata": {
        "id": "lZZUpOxfYFq_"
      },
      "source": [
        "## Method 2: ChainClassifier with KFold cv\n",
        "ChainClassifier uses predictions from previous tasks as input for subsequent training. Since we don't know the optimal ordering of tasks in advance, we could try random orderings and take the average prediction, to build an ensemble model."
      ]
    },
    {
      "cell_type": "code",
      "metadata": {
        "id": "qWRt17TVq04S"
      },
      "source": [
        "def chain_classifier_ensemble(X_train, y_train, X_test, y_test, cv):\n",
        "  # Fit an independent MLP classification model for each class using the\n",
        "  # OneVsRestClassifier wrapper.\n",
        "  base_lr = MLPClassifier(max_iter=1000)\n",
        "  ovr = OneVsRestClassifier(base_lr)\n",
        "  ovr.fit(X_train, y_train)\n",
        "  Y_pred_ovr = ovr.predict_proba(X_test)\n",
        "  # save ovr output for future analysis\n",
        "  pd.DataFrame(Y_pred_ovr).to_csv(DIR_PATH+\"chain/pred_ovr_cv_\"+str(cv)+\".csv\",sep=\" \",header=False,index=False)\n",
        "\n",
        "  # save y_test\n",
        "  pd.DataFrame(y_test).to_csv(DIR_PATH+\"chain/y_test_cv_\"+str(cv)+\".csv\",sep=\" \",header=False,index=False)\n",
        "  \n",
        "  # Fit an ensemble of 10 MLP classifier chains and take the average prediction of all the chains.\n",
        "  chains = [ClassifierChain(base_lr, order='random', random_state=i) for i in range(10)]\n",
        "  for chain in chains:\n",
        "      chain.fit(X_train, y_train)\n",
        "  Y_pred_chains = np.array([chain.predict_proba(X_test) for chain in chains])\n",
        "  \n",
        "  # save Chain Classifier predictions\n",
        "  for i in range(10):\n",
        "    Y_pred_chain = Y_pred_chains[i]\n",
        "    print(\"Chain \"+str(i)+\" for CV \"+str(cv))\n",
        "    pd.DataFrame(Y_pred_chain).to_csv(DIR_PATH+\"chain/pred_chain_\"+str(i)+\"_cv_\"+str(cv)+\".csv\",sep=\" \",header=False,index=False)\n",
        "\n",
        "\n",
        "  Y_pred_ensemble = Y_pred_chains.mean(axis=0)\n",
        "  # save ensemble predictions\n",
        "  pd.DataFrame(Y_pred_ensemble).to_csv(DIR_PATH+\"chain/pred_ensemble_cv_\"+str(cv)+\".csv\",sep=\" \",header=False,index=False)"
      ],
      "execution_count": null,
      "outputs": []
    },
    {
      "cell_type": "code",
      "metadata": {
        "id": "KS33X2Ttg6YE"
      },
      "source": [
        "# classifier chain with cv\n",
        "X = train_dataset_balanced.X\n",
        "y = train_dataset_balanced.y\n",
        "kf = KFold(n_splits=5,shuffle=True)\n",
        "kf.get_n_splits(X)\n",
        "\n",
        "print(kf)\n",
        "cv = 0\n",
        "for train_index, test_index in kf.split(X):\n",
        "    cv = cv+1\n",
        "    #print(\"TRAIN:\", train_index, \"TEST:\", test_index)\n",
        "    X_train, X_test = X[train_index], X[test_index]\n",
        "    y_train, y_test = y[train_index], y[test_index]\n",
        "    chain_classifier_ensemble(X_train, y_train, X_test, y_test, cv)"
      ],
      "execution_count": null,
      "outputs": []
    },
    {
      "cell_type": "markdown",
      "metadata": {
        "id": "8CjmsRnqkt-P"
      },
      "source": [
        "## Method 3: Deepchem progressive neural networks"
      ]
    },
    {
      "cell_type": "markdown",
      "metadata": {
        "id": "Mhmt1tikq5Tj"
      },
      "source": [
        "### Learning curve: how many epochs are enough?"
      ]
    },
    {
      "cell_type": "code",
      "metadata": {
        "id": "KcPT0cS1q8yC"
      },
      "source": [
        "def train_val_score(dataset, epoch):\n",
        "  spliter = dc.splits.RandomSplitter()\n",
        "  train_dataset, valid_dataset = spliter.train_test_split(train_dataset_balanced)\n",
        "  print(\"Fit model....\")\n",
        "  # Fit trained model\n",
        "  # use same architecture as MLP classifiers: # of neurons = 100, lr = 0.001\n",
        "  model = dc.models.ProgressiveMultitaskClassifier(n_tasks=n_tasks,n_features=n_features,layer_sizes=[100],alpha_init_stddevs=0.04,learning_rate=0.001)\n",
        "  model.fit(train_dataset, nb_epoch=epoch)\n",
        "  print(\"Calculate scores....\")\n",
        "  # calculate validation score\n",
        "  preds = model.predict(valid_dataset)\n",
        "  score_val = accuracy_score(valid_dataset.y.flatten(), preds[:,:,1].flatten()>=0.5)\n",
        "  preds_train = model.predict(train_dataset)\n",
        "  score_train = accuracy_score(train_dataset.y.flatten(), preds_train[:,:,1].flatten()>=0.5)\n",
        "  return score_val, score_train"
      ],
      "execution_count": null,
      "outputs": []
    },
    {
      "cell_type": "code",
      "metadata": {
        "id": "aUtZun10r_zF",
        "colab": {
          "base_uri": "https://localhost:8080/",
          "height": 573
        },
        "outputId": "751a0da5-97ed-48bb-cd47-e9a467c2eaac"
      },
      "source": [
        "epochs = [10,25,50,100]\n",
        "#lrs = [0.00001,0.0001,0.001,0.01]\n",
        "val = []\n",
        "train = []\n",
        "for epoch in epochs:\n",
        "  val_tmp, train_tmp = train_val_score(train_dataset_balanced, epoch)\n",
        "  val.append(val_tmp)\n",
        "  train.append(train_tmp)"
      ],
      "execution_count": null,
      "outputs": [
        {
          "output_type": "stream",
          "text": [
            "W0511 19:12:00.726480 139930782291840 module_wrapper.py:139] From /usr/local/lib/python2.7/dist-packages/deepchem/models/tensorgraph/progressive_multitask.py:208: The name tf.truncated_normal is deprecated. Please use tf.random.truncated_normal instead.\n",
            "\n",
            "W0511 19:12:00.793483 139930782291840 module_wrapper.py:139] From /usr/local/lib/python2.7/dist-packages/deepchem/models/tensorgraph/tensor_graph.py:715: The name tf.placeholder is deprecated. Please use tf.compat.v1.placeholder instead.\n",
            "\n",
            "W0511 19:12:00.800308 139930782291840 module_wrapper.py:139] From /usr/local/lib/python2.7/dist-packages/deepchem/models/tensorgraph/layers.py:2464: The name tf.FIFOQueue is deprecated. Please use tf.queue.FIFOQueue instead.\n",
            "\n",
            "W0511 19:12:00.805718 139930782291840 module_wrapper.py:139] From /usr/local/lib/python2.7/dist-packages/deepchem/models/tensorgraph/layers.py:1216: The name tf.placeholder_with_default is deprecated. Please use tf.compat.v1.placeholder_with_default instead.\n",
            "\n",
            "W0511 19:12:00.824584 139930782291840 deprecation.py:506] From /tensorflow-1.15.2/python2.7/tensorflow_core/python/ops/resource_variable_ops.py:1630: calling __init__ (from tensorflow.python.ops.resource_variable_ops) with constraint is deprecated and will be removed in a future version.\n",
            "Instructions for updating:\n",
            "If using Keras pass *_constraint arguments to layers.\n"
          ],
          "name": "stderr"
        },
        {
          "output_type": "stream",
          "text": [
            "Fit model....\n"
          ],
          "name": "stdout"
        },
        {
          "output_type": "stream",
          "text": [
            "W0511 19:12:01.608088 139930782291840 module_wrapper.py:139] From /usr/local/lib/python2.7/dist-packages/deepchem/models/tensorgraph/tensor_graph.py:728: The name tf.Session is deprecated. Please use tf.compat.v1.Session instead.\n",
            "\n",
            "W0511 19:12:01.730338 139930782291840 module_wrapper.py:139] From /usr/local/lib/python2.7/dist-packages/deepchem/models/tensorgraph/optimizers.py:76: The name tf.train.AdamOptimizer is deprecated. Please use tf.compat.v1.train.AdamOptimizer instead.\n",
            "\n",
            "W0511 19:12:03.384217 139930782291840 module_wrapper.py:139] From /usr/local/lib/python2.7/dist-packages/deepchem/models/tensorgraph/tensor_graph.py:1013: The name tf.get_collection is deprecated. Please use tf.compat.v1.get_collection instead.\n",
            "\n",
            "W0511 19:12:03.386163 139930782291840 module_wrapper.py:139] From /usr/local/lib/python2.7/dist-packages/deepchem/models/tensorgraph/tensor_graph.py:1013: The name tf.GraphKeys is deprecated. Please use tf.compat.v1.GraphKeys instead.\n",
            "\n",
            "W0511 19:12:03.399213 139930782291840 module_wrapper.py:139] From /usr/local/lib/python2.7/dist-packages/deepchem/models/tensorgraph/tensor_graph.py:739: The name tf.global_variables_initializer is deprecated. Please use tf.compat.v1.global_variables_initializer instead.\n",
            "\n",
            "W0511 19:12:04.090107 139930782291840 module_wrapper.py:139] From /usr/local/lib/python2.7/dist-packages/deepchem/models/tensorgraph/tensor_graph.py:749: The name tf.summary.scalar is deprecated. Please use tf.compat.v1.summary.scalar instead.\n",
            "\n"
          ],
          "name": "stderr"
        },
        {
          "output_type": "stream",
          "text": [
            "Calculate scores....\n",
            "Fit model....\n",
            "Calculate scores....\n",
            "Fit model....\n",
            "Calculate scores....\n",
            "Fit model....\n",
            "Calculate scores....\n"
          ],
          "name": "stdout"
        }
      ]
    },
    {
      "cell_type": "code",
      "metadata": {
        "id": "-UnifX0ttqee",
        "colab": {
          "base_uri": "https://localhost:8080/",
          "height": 304
        },
        "outputId": "ead6cfad-2f31-4924-9774-6fff08bad216"
      },
      "source": [
        "fig, ax = plt.subplots()\n",
        "ax.plot(epochs, train, label='train')\n",
        "ax.plot(epochs, val, label='val')\n",
        "legend = ax.legend(loc='upper left', shadow=True, fontsize='large')\n",
        "plt.xlabel('epochs')\n",
        "plt.ylabel('balanced accuracy')\n",
        "plt.show()"
      ],
      "execution_count": null,
      "outputs": [
        {
          "output_type": "display_data",
          "data": {
            "image/png": "[encoded data removed]",
            "text/plain": [
              "<Figure size 432x288 with 1 Axes>"
            ]
          },
          "metadata": {
            "tags": []
          }
        }
      ]
    },
    {
      "cell_type": "markdown",
      "metadata": {
        "id": "wNjmBccLjn02"
      },
      "source": [
        "50 epochs should be enough. "
      ]
    },
    {
      "cell_type": "markdown",
      "metadata": {
        "id": "FqYYrDCKzSt_"
      },
      "source": [
        "### Deepchem cv: K-Fold "
      ]
    },
    {
      "cell_type": "code",
      "metadata": {
        "id": "FQd9nz6FKn0J",
        "colab": {
          "base_uri": "https://localhost:8080/",
          "height": 35
        },
        "outputId": "3ebaaa71-f187-4e7f-f4e3-04581e8f8fba"
      },
      "source": [
        "# KFold \n",
        "X = train_dataset_balanced.X\n",
        "y = train_dataset_balanced.y\n",
        "w = train_dataset_balanced.w\n",
        "kf = KFold(n_splits=5,shuffle=True)\n",
        "kf.get_n_splits(X)\n",
        "\n",
        "print(kf)\n",
        "sensitivity_score = []\n",
        "specificity_score = []\n",
        "sensitivity_per_class = []\n",
        "specificity_per_class = []\n",
        "balanced_accuracy = []\n",
        "balanced_accuracy_per_class= []\n",
        "\n",
        "for train_index, test_index in kf.split(X):\n",
        "  #print(\"TRAIN:\", train_index, \"TEST:\", test_index)\n",
        "  \n",
        "  w_train, w_test = w[train_index], w[test_index]\n",
        "  X_train, X_test = X[train_index], X[test_index]\n",
        "  y_train, y_test = y[train_index], y[test_index]\n",
        "  \n",
        "  cv_train_dataset = dc.data.NumpyDataset(X_train, y_train, w_train)\n",
        "  cv_val_dataset = dc.data.NumpyDataset(X_test, y_test, w_test)\n",
        "  model = dc.models.ProgressiveMultitaskClassifier(n_tasks=n_tasks,n_features=n_features,layer_sizes=[100],alpha_init_stddevs=0.04,learning_rate=0.001)\n",
        "  model.fit(cv_train_dataset, nb_epoch=50)\n",
        "  preds = model.predict(cv_val_dataset)\n",
        "\n",
        "  # define 0 as positive class and 1 as negative class\n",
        "  score = classification_report(y_test.flatten(),preds[:, :, 1].flatten()>=0.5,output_dict=True)\n",
        "  sensitivity_score.append(score['0.0']['recall']) # sensitivity is recall of the positive class\n",
        "  specificity_score.append(score['1.0']['recall']) # specificity is recall of the negative class\n",
        "  balanced_accuracy.append(balanced_accuracy_score(y_test.flatten(),preds[:, :, 1].flatten()>=0.5))\n",
        "  balanced_acc_temp =[]\n",
        "  score_temp = []\n",
        "  specificity_temp = []\n",
        "  sensitivity_temp = []\n",
        "  for i in range(11):\n",
        "    balanced_acc_temp.append(balanced_accuracy_score(y_test[:,i], preds[:,i,1]>=0.5))\n",
        "    score_temp = classification_report(y_test[:,i], preds[:,i,1]>=0.5,output_dict=True)\n",
        "    specificity_temp.append(score_temp['0.0']['recall'])\n",
        "    sensitivity_temp.append(score_temp['1.0']['recall'])\n",
        "  balanced_accuracy_per_class.append(balanced_acc_temp) \n",
        "  specificity_per_class.append(specificity_temp) \n",
        "  sensitivity_per_class.append(sensitivity_temp) \n",
        "\n",
        "del specificity_temp,sensitivity_temp,score_temp,balanced_acc_temp"
      ],
      "execution_count": null,
      "outputs": [
        {
          "output_type": "stream",
          "text": [
            "KFold(n_splits=5, random_state=None, shuffle=True)\n"
          ],
          "name": "stdout"
        }
      ]
    },
    {
      "cell_type": "code",
      "metadata": {
        "id": "Quvo70a8BMqf"
      },
      "source": [
        "balanced_accuracy_per_class = pd.DataFrame(balanced_accuracy_per_class)\n",
        "balanced_accuracy_per_class=balanced_accuracy_per_class.append(balanced_accuracy_per_class.apply(np.mean, axis = 0),ignore_index=True)\n",
        "balanced_accuracy_per_class.index=[\"cv1\",\"cv2\",\"cv3\",\"cv4\",\"cv5\",\"mean\"]\n",
        "balanced_accuracy_per_class.columns = targets\n",
        "balanced_accuracy_per_class.to_csv(DIR_PATH+\"deepchem_cv_neighbor_\"+str(neighbors)+\".csv\",header=True,index=True,sep=\" \")"
      ],
      "execution_count": null,
      "outputs": []
    },
    {
      "cell_type": "markdown",
      "metadata": {
        "id": "7LmubqK9zYwH"
      },
      "source": [
        "### Deepchem cv: hyperparameter tuning\n",
        "I kept same model architecture as in MLPClassifiers. But this is something that we can explore."
      ]
    },
    {
      "cell_type": "code",
      "metadata": {
        "id": "I3jeCDbCfH4v",
        "colab": {
          "base_uri": "https://localhost:8080/",
          "height": 1000
        },
        "outputId": "76983b49-33bc-4334-d4b0-4a45d38ec9c9"
      },
      "source": [
        "# DeepChem hyperparameter tuning\n",
        "splitter = dc.splits.RandomSplitter()\n",
        "train_dataset, valid_dataset = splitter.train_test_split(train_dataset_balanced)\n",
        "\n",
        "params_dict = {'alpha_init_stddevs':[0.04],\n",
        "               'layer_sizes':[[20],[50],[100],[150],[200]],\n",
        "               'weight_init_stddevs':[0.02],\n",
        "               'bias_init_consts':[1.0],\n",
        "               'weight_decay_penalty':[0.0],\n",
        "               'weight_decay_penalty_type':[\"l2\"],\n",
        "               'dropouts':[0.5],\n",
        "               'activation_fns':[tf.nn.relu],\n",
        "               'learning_rate':[0.001,0.0001],\n",
        "               'nb_epoch':[50,100]\n",
        "              }\n",
        "\n",
        "\n",
        "def model_builder(model_params, model_dir):\n",
        "  model = dc.models.ProgressiveMultitaskClassifier(\n",
        "    n_features=n_features, n_tasks=n_tasks, **model_params)\n",
        "  return model\n",
        "\n",
        "metric = dc.metrics.Metric(dc.metrics.roc_auc_score, np.mean, mode=\"classification\")\n",
        "optimizer = dc.hyper.HyperparamOpt(model_builder)\n",
        "best_dnn, best_hyperparams, all_results = optimizer.hyperparam_search(params_dict, train_dataset, valid_dataset, [], metric)"
      ],
      "execution_count": null,
      "outputs": [
        {
          "output_type": "stream",
          "text": [
            "W0317 22:03:33.476900 139626909308800 module_wrapper.py:139] From /usr/local/lib/python2.7/dist-packages/deepchem/models/tensorgraph/progressive_multitask.py:208: The name tf.truncated_normal is deprecated. Please use tf.random.truncated_normal instead.\n",
            "\n",
            "W0317 22:03:33.540961 139626909308800 module_wrapper.py:139] From /usr/local/lib/python2.7/dist-packages/deepchem/models/tensorgraph/tensor_graph.py:715: The name tf.placeholder is deprecated. Please use tf.compat.v1.placeholder instead.\n",
            "\n",
            "W0317 22:03:33.547112 139626909308800 module_wrapper.py:139] From /usr/local/lib/python2.7/dist-packages/deepchem/models/tensorgraph/layers.py:2464: The name tf.FIFOQueue is deprecated. Please use tf.queue.FIFOQueue instead.\n",
            "\n",
            "W0317 22:03:33.552526 139626909308800 module_wrapper.py:139] From /usr/local/lib/python2.7/dist-packages/deepchem/models/tensorgraph/layers.py:1216: The name tf.placeholder_with_default is deprecated. Please use tf.compat.v1.placeholder_with_default instead.\n",
            "\n",
            "W0317 22:03:33.566999 139626909308800 deprecation.py:506] From /tensorflow-1.15.0/python2.7/tensorflow_core/python/ops/resource_variable_ops.py:1630: calling __init__ (from tensorflow.python.ops.resource_variable_ops) with constraint is deprecated and will be removed in a future version.\n",
            "Instructions for updating:\n",
            "If using Keras pass *_constraint arguments to layers.\n"
          ],
          "name": "stderr"
        },
        {
          "output_type": "stream",
          "text": [
            "Fitting model 1/20\n",
            "hyperparameters: {'activation_fns': <function relu at 0x7efd0ae1f3d0>, 'weight_decay_penalty': 0.0, 'layer_sizes': [20], 'nb_epoch': 50, 'weight_decay_penalty_type': 'l2', 'alpha_init_stddevs': 0.04, 'bias_init_consts': 1.0, 'weight_init_stddevs': 0.02, 'dropouts': 0.5, 'learning_rate': 0.001}\n"
          ],
          "name": "stdout"
        },
        {
          "output_type": "stream",
          "text": [
            "W0317 22:03:34.244880 139626909308800 module_wrapper.py:139] From /usr/local/lib/python2.7/dist-packages/deepchem/models/tensorgraph/tensor_graph.py:728: The name tf.Session is deprecated. Please use tf.compat.v1.Session instead.\n",
            "\n",
            "W0317 22:03:34.376776 139626909308800 module_wrapper.py:139] From /usr/local/lib/python2.7/dist-packages/deepchem/models/tensorgraph/optimizers.py:76: The name tf.train.AdamOptimizer is deprecated. Please use tf.compat.v1.train.AdamOptimizer instead.\n",
            "\n",
            "W0317 22:03:35.982717 139626909308800 module_wrapper.py:139] From /usr/local/lib/python2.7/dist-packages/deepchem/models/tensorgraph/tensor_graph.py:1013: The name tf.get_collection is deprecated. Please use tf.compat.v1.get_collection instead.\n",
            "\n",
            "W0317 22:03:35.983896 139626909308800 module_wrapper.py:139] From /usr/local/lib/python2.7/dist-packages/deepchem/models/tensorgraph/tensor_graph.py:1013: The name tf.GraphKeys is deprecated. Please use tf.compat.v1.GraphKeys instead.\n",
            "\n",
            "W0317 22:03:35.992635 139626909308800 module_wrapper.py:139] From /usr/local/lib/python2.7/dist-packages/deepchem/models/tensorgraph/tensor_graph.py:739: The name tf.global_variables_initializer is deprecated. Please use tf.compat.v1.global_variables_initializer instead.\n",
            "\n",
            "W0317 22:03:36.480842 139626909308800 module_wrapper.py:139] From /usr/local/lib/python2.7/dist-packages/deepchem/models/tensorgraph/tensor_graph.py:749: The name tf.summary.scalar is deprecated. Please use tf.compat.v1.summary.scalar instead.\n",
            "\n"
          ],
          "name": "stderr"
        },
        {
          "output_type": "stream",
          "text": [
            "computed_metrics: [0.7702600094399639, 0.8592654892066163, 0.8925531166455608, 0.8732961586121437, 0.8315544608648058, 0.6233628184199538, 0.748173374613003, 0.7658796296296295, 0.5879043115054023, 0.7893236714975845, 0.9125702247191011]\n",
            "Model 1/20, Metric mean-roc_auc_score, Validation set 0: 0.786740\n",
            "\tbest_validation_score so far: 0.786740\n",
            "Fitting model 2/20\n",
            "hyperparameters: {'activation_fns': <function relu at 0x7efd0ae1f3d0>, 'weight_decay_penalty': 0.0, 'layer_sizes': [20], 'nb_epoch': 50, 'weight_decay_penalty_type': 'l2', 'alpha_init_stddevs': 0.04, 'bias_init_consts': 1.0, 'weight_init_stddevs': 0.02, 'dropouts': 0.5, 'learning_rate': 0.0001}\n",
            "computed_metrics: [0.7617229986250487, 0.8385548079618728, 0.8737688194737583, 0.8901796778190831, 0.8072660098522166, 0.6082912569758172, 0.7260216718266255, 0.7438888888888889, 0.5704373640788429, 0.7603864734299517, 0.9073033707865168]\n",
            "Model 2/20, Metric mean-roc_auc_score, Validation set 1: 0.771620\n",
            "\tbest_validation_score so far: 0.786740\n",
            "Fitting model 3/20\n",
            "hyperparameters: {'activation_fns': <function relu at 0x7efd0ae1f3d0>, 'weight_decay_penalty': 0.0, 'layer_sizes': [20], 'nb_epoch': 100, 'weight_decay_penalty_type': 'l2', 'alpha_init_stddevs': 0.04, 'bias_init_consts': 1.0, 'weight_init_stddevs': 0.02, 'dropouts': 0.5, 'learning_rate': 0.001}\n",
            "computed_metrics: [0.7778119805454657, 0.860421923184749, 0.8945581820740116, 0.8595105328376704, 0.8473590585659552, 0.6079116206674007, 0.7479102167182661, 0.78375, 0.6014014981531983, 0.7959178743961353, 0.9029143258426966]\n",
            "Model 3/20, Metric mean-roc_auc_score, Validation set 2: 0.789042\n",
            "\tbest_validation_score so far: 0.789042\n",
            "Fitting model 4/20\n",
            "hyperparameters: {'activation_fns': <function relu at 0x7efd0ae1f3d0>, 'weight_decay_penalty': 0.0, 'layer_sizes': [20], 'nb_epoch': 100, 'weight_decay_penalty_type': 'l2', 'alpha_init_stddevs': 0.04, 'bias_init_consts': 1.0, 'weight_init_stddevs': 0.02, 'dropouts': 0.5, 'learning_rate': 0.0001}\n",
            "computed_metrics: [0.7637546430257136, 0.8459139332772638, 0.8787287181651893, 0.8969950433705081, 0.8063081554460865, 0.620363691583463, 0.7341795665634675, 0.7522222222222223, 0.5738202906555283, 0.7679227053140096, 0.9119850187265918]\n",
            "Model 4/20, Metric mean-roc_auc_score, Validation set 3: 0.777472\n",
            "\tbest_validation_score so far: 0.789042\n",
            "Fitting model 5/20\n",
            "hyperparameters: {'activation_fns': <function relu at 0x7efd0ae1f3d0>, 'weight_decay_penalty': 0.0, 'layer_sizes': [50], 'nb_epoch': 50, 'weight_decay_penalty_type': 'l2', 'alpha_init_stddevs': 0.04, 'bias_init_consts': 1.0, 'weight_init_stddevs': 0.02, 'dropouts': 0.5, 'learning_rate': 0.001}\n",
            "computed_metrics: [0.7724353054649182, 0.8607723577235773, 0.8935028844800901, 0.8763940520446096, 0.8462643678160919, 0.6149348923731066, 0.7486068111455109, 0.7719907407407407, 0.5864199661707343, 0.7852657004830916, 0.897501170411985]\n",
            "Model 5/20, Metric mean-roc_auc_score, Validation set 4: 0.786735\n",
            "\tbest_validation_score so far: 0.789042\n",
            "Fitting model 6/20\n",
            "hyperparameters: {'activation_fns': <function relu at 0x7efd0ae1f3d0>, 'weight_decay_penalty': 0.0, 'layer_sizes': [50], 'nb_epoch': 50, 'weight_decay_penalty_type': 'l2', 'alpha_init_stddevs': 0.04, 'bias_init_consts': 1.0, 'weight_init_stddevs': 0.02, 'dropouts': 0.5, 'learning_rate': 0.0001}\n",
            "computed_metrics: [0.7606353506125716, 0.8403069806560135, 0.8763191219924018, 0.8887856257744733, 0.8021346469622331, 0.6145932196955317, 0.7263777089783282, 0.7450000000000001, 0.5714039145293245, 0.7643719806763285, 0.9066011235955056]\n",
            "Model 6/20, Metric mean-roc_auc_score, Validation set 5: 0.772412\n",
            "\tbest_validation_score so far: 0.789042\n",
            "Fitting model 7/20\n",
            "hyperparameters: {'activation_fns': <function relu at 0x7efd0ae1f3d0>, 'weight_decay_penalty': 0.0, 'layer_sizes': [50], 'nb_epoch': 100, 'weight_decay_penalty_type': 'l2', 'alpha_init_stddevs': 0.04, 'bias_init_consts': 1.0, 'weight_init_stddevs': 0.02, 'dropouts': 0.5, 'learning_rate': 0.001}\n",
            "computed_metrics: [0.7811159679041229, 0.8659587888982337, 0.8930104122695934, 0.8531598513011152, 0.8461959496442255, 0.620591473368513, 0.7515479876160991, 0.7692592592592593, 0.5958093134039835, 0.8031642512077295, 0.8918539325842696]\n",
            "Model 7/20, Metric mean-roc_auc_score, Validation set 6: 0.788333\n",
            "\tbest_validation_score so far: 0.789042\n",
            "Fitting model 8/20\n",
            "hyperparameters: {'activation_fns': <function relu at 0x7efd0ae1f3d0>, 'weight_decay_penalty': 0.0, 'layer_sizes': [50], 'nb_epoch': 100, 'weight_decay_penalty_type': 'l2', 'alpha_init_stddevs': 0.04, 'bias_init_consts': 1.0, 'weight_init_stddevs': 0.02, 'dropouts': 0.5, 'learning_rate': 0.0001}\n",
            "computed_metrics: [0.7622770834615937, 0.8447574992991309, 0.8820529055860419, 0.8962205700123915, 0.8106185002736728, 0.6181238373638055, 0.73, 0.75, 0.5847285028823914, 0.7695169082125604, 0.9075374531835206]\n",
            "Model 8/20, Metric mean-roc_auc_score, Validation set 7: 0.777803\n",
            "\tbest_validation_score so far: 0.789042\n",
            "Fitting model 9/20\n",
            "hyperparameters: {'activation_fns': <function relu at 0x7efd0ae1f3d0>, 'weight_decay_penalty': 0.0, 'layer_sizes': [100], 'nb_epoch': 50, 'weight_decay_penalty_type': 'l2', 'alpha_init_stddevs': 0.04, 'bias_init_consts': 1.0, 'weight_init_stddevs': 0.02, 'dropouts': 0.5, 'learning_rate': 0.001}\n",
            "computed_metrics: [0.7735845184592337, 0.8601152929632745, 0.8971612494723511, 0.864002478314746, 0.85727969348659, 0.6264758361489693, 0.7487925696594427, 0.7648148148148148, 0.5876281542338362, 0.7928502415458938, 0.8987301029962547]\n",
            "Model 9/20, Metric mean-roc_auc_score, Validation set 8: 0.788312\n",
            "\tbest_validation_score so far: 0.789042\n",
            "Fitting model 10/20\n",
            "hyperparameters: {'activation_fns': <function relu at 0x7efd0ae1f3d0>, 'weight_decay_penalty': 0.0, 'layer_sizes': [100], 'nb_epoch': 50, 'weight_decay_penalty_type': 'l2', 'alpha_init_stddevs': 0.04, 'bias_init_consts': 1.0, 'weight_init_stddevs': 0.02, 'dropouts': 0.5, 'learning_rate': 0.0001}\n",
            "computed_metrics: [0.7641855978985819, 0.8418839360807401, 0.875721120022513, 0.8929677819083023, 0.8071291735084838, 0.6172127102236058, 0.7285913312693499, 0.7466666666666667, 0.5761676274638408, 0.7659903381642512, 0.9084737827715356]\n",
            "Model 10/20, Metric mean-roc_auc_score, Validation set 9: 0.774999\n",
            "\tbest_validation_score so far: 0.789042\n",
            "Fitting model 11/20\n",
            "hyperparameters: {'activation_fns': <function relu at 0x7efd0ae1f3d0>, 'weight_decay_penalty': 0.0, 'layer_sizes': [100], 'nb_epoch': 100, 'weight_decay_penalty_type': 'l2', 'alpha_init_stddevs': 0.04, 'bias_init_consts': 1.0, 'weight_init_stddevs': 0.02, 'dropouts': 0.5, 'learning_rate': 0.001}\n",
            "computed_metrics: [0.78183422602557, 0.8705757639472945, 0.9073448712536936, 0.8328686493184635, 0.8598795840175151, 0.6193386735507385, 0.7485448916408668, 0.7725925925925925, 0.6119645137906038, 0.8014975845410628, 0.8842169943820224]\n",
            "Model 11/20, Metric mean-roc_auc_score, Validation set 10: 0.790060\n",
            "\tbest_validation_score so far: 0.790060\n",
            "Fitting model 12/20\n",
            "hyperparameters: {'activation_fns': <function relu at 0x7efd0ae1f3d0>, 'weight_decay_penalty': 0.0, 'layer_sizes': [100], 'nb_epoch': 100, 'weight_decay_penalty_type': 'l2', 'alpha_init_stddevs': 0.04, 'bias_init_consts': 1.0, 'weight_init_stddevs': 0.02, 'dropouts': 0.5, 'learning_rate': 0.0001}\n",
            "computed_metrics: [0.765457940856574, 0.848892626857303, 0.8852539749542705, 0.9013320941759603, 0.8254652435686918, 0.6169469648077142, 0.7364860681114551, 0.7527777777777778, 0.5861438088991682, 0.7676811594202899, 0.9029728464419475]\n",
            "Model 12/20, Metric mean-roc_auc_score, Validation set 11: 0.780856\n",
            "\tbest_validation_score so far: 0.790060\n",
            "Fitting model 13/20\n",
            "hyperparameters: {'activation_fns': <function relu at 0x7efd0ae1f3d0>, 'weight_decay_penalty': 0.0, 'layer_sizes': [150], 'nb_epoch': 50, 'weight_decay_penalty_type': 'l2', 'alpha_init_stddevs': 0.04, 'bias_init_consts': 1.0, 'weight_init_stddevs': 0.02, 'dropouts': 0.5, 'learning_rate': 0.001}\n",
            "computed_metrics: [0.7701779227975127, 0.8634356602186712, 0.8998170817503869, 0.8635377942998761, 0.8584428024083197, 0.628374017691052, 0.7554953560371518, 0.7654166666666666, 0.5963271082881701, 0.7896135265700484, 0.9062792602996255]\n",
            "Model 13/20, Metric mean-roc_auc_score, Validation set 12: 0.790629\n",
            "\tbest_validation_score so far: 0.790629\n",
            "Fitting model 14/20\n",
            "hyperparameters: {'activation_fns': <function relu at 0x7efd0ae1f3d0>, 'weight_decay_penalty': 0.0, 'layer_sizes': [150], 'nb_epoch': 50, 'weight_decay_penalty_type': 'l2', 'alpha_init_stddevs': 0.04, 'bias_init_consts': 1.0, 'weight_init_stddevs': 0.02, 'dropouts': 0.5, 'learning_rate': 0.0001}\n",
            "computed_metrics: [0.7621744751585298, 0.8468951499859825, 0.8773568312930913, 0.8946716232961587, 0.8054187192118226, 0.6147071105880566, 0.731594427244582, 0.7416666666666667, 0.5800683489247125, 0.7643961352657004, 0.903441011235955]\n",
            "Model 14/20, Metric mean-roc_auc_score, Validation set 13: 0.774763\n",
            "\tbest_validation_score so far: 0.790629\n",
            "Fitting model 15/20\n",
            "hyperparameters: {'activation_fns': <function relu at 0x7efd0ae1f3d0>, 'weight_decay_penalty': 0.0, 'layer_sizes': [150], 'nb_epoch': 100, 'weight_decay_penalty_type': 'l2', 'alpha_init_stddevs': 0.04, 'bias_init_consts': 1.0, 'weight_init_stddevs': 0.02, 'dropouts': 0.5, 'learning_rate': 0.001}\n",
            "computed_metrics: [0.7855691682570953, 0.875026282590412, 0.9047593921485859, 0.8475836431226766, 0.865216201423098, 0.6052921301393266, 0.7467027863777089, 0.7783333333333333, 0.605198660637233, 0.8002415458937198, 0.8762581928838951]\n",
            "Model 15/20, Metric mean-roc_auc_score, Validation set 14: 0.790016\n",
            "\tbest_validation_score so far: 0.790629\n",
            "Fitting model 16/20\n",
            "hyperparameters: {'activation_fns': <function relu at 0x7efd0ae1f3d0>, 'weight_decay_penalty': 0.0, 'layer_sizes': [150], 'nb_epoch': 100, 'weight_decay_penalty_type': 'l2', 'alpha_init_stddevs': 0.04, 'bias_init_consts': 1.0, 'weight_init_stddevs': 0.02, 'dropouts': 0.5, 'learning_rate': 0.0001}\n",
            "computed_metrics: [0.7660735906749574, 0.847210541070928, 0.8862389193752638, 0.8929677819083024, 0.8273125342090859, 0.6221100186021791, 0.7325696594427245, 0.7537037037037038, 0.5860747695812766, 0.76756038647343, 0.8994616104868913]\n",
            "Model 16/20, Metric mean-roc_auc_score, Validation set 15: 0.780117\n",
            "\tbest_validation_score so far: 0.790629\n",
            "Fitting model 17/20\n",
            "hyperparameters: {'activation_fns': <function relu at 0x7efd0ae1f3d0>, 'weight_decay_penalty': 0.0, 'layer_sizes': [200], 'nb_epoch': 50, 'weight_decay_penalty_type': 'l2', 'alpha_init_stddevs': 0.04, 'bias_init_consts': 1.0, 'weight_init_stddevs': 0.02, 'dropouts': 0.5, 'learning_rate': 0.001}\n",
            "computed_metrics: [0.7775862422787252, 0.8630151387720775, 0.8966160123821584, 0.8604399008674102, 0.8604269293924466, 0.6254887817470862, 0.7513312693498453, 0.7667592592592591, 0.6018502537194932, 0.7917874396135265, 0.8904201779026217]\n",
            "Model 17/20, Metric mean-roc_auc_score, Validation set 16: 0.789611\n",
            "\tbest_validation_score so far: 0.790629\n",
            "Fitting model 18/20\n",
            "hyperparameters: {'activation_fns': <function relu at 0x7efd0ae1f3d0>, 'weight_decay_penalty': 0.0, 'layer_sizes': [200], 'nb_epoch': 50, 'weight_decay_penalty_type': 'l2', 'alpha_init_stddevs': 0.04, 'bias_init_consts': 1.0, 'weight_init_stddevs': 0.02, 'dropouts': 0.5, 'learning_rate': 0.0001}\n",
            "computed_metrics: [0.7643497711834841, 0.846439585085506, 0.8802061347966793, 0.8986988847583643, 0.8136288998357963, 0.6196803462283134, 0.7309752321981424, 0.7396296296296296, 0.5816562532362181, 0.7657487922705314, 0.9028558052434457]\n",
            "Model 18/20, Metric mean-roc_auc_score, Validation set 17: 0.776715\n",
            "\tbest_validation_score so far: 0.790629\n",
            "Fitting model 19/20\n",
            "hyperparameters: {'activation_fns': <function relu at 0x7efd0ae1f3d0>, 'weight_decay_penalty': 0.0, 'layer_sizes': [200], 'nb_epoch': 100, 'weight_decay_penalty_type': 'l2', 'alpha_init_stddevs': 0.04, 'bias_init_consts': 1.0, 'weight_init_stddevs': 0.02, 'dropouts': 0.5, 'learning_rate': 0.001}\n",
            "computed_metrics: [0.7893656754704592, 0.8703479814970563, 0.9006789081187562, 0.8390644361833952, 0.8604269293924467, 0.6320185262518507, 0.7521362229102166, 0.7830555555555555, 0.6151403224136145, 0.8055314009661836, 0.8867041198501873]\n",
            "Model 19/20, Metric mean-roc_auc_score, Validation set 18: 0.794043\n",
            "\tbest_validation_score so far: 0.794043\n",
            "Fitting model 20/20\n",
            "hyperparameters: {'activation_fns': <function relu at 0x7efd0ae1f3d0>, 'weight_decay_penalty': 0.0, 'layer_sizes': [200], 'nb_epoch': 100, 'weight_decay_penalty_type': 'l2', 'alpha_init_stddevs': 0.04, 'bias_init_consts': 1.0, 'weight_init_stddevs': 0.02, 'dropouts': 0.5, 'learning_rate': 0.0001}\n",
            "computed_metrics: [0.7641035112561309, 0.8499439304737875, 0.8867313915857604, 0.8935873605947955, 0.8299808429118773, 0.6199840552750464, 0.7372136222910217, 0.7537037037037038, 0.5889744209327212, 0.7710386473429951, 0.9003979400749064]\n",
            "Model 20/20, Metric mean-roc_auc_score, Validation set 19: 0.781424\n",
            "\tbest_validation_score so far: 0.794043\n",
            "computed_metrics: [0.8447265173710916, 0.9666308160127163, 0.9277936044002121, 0.9992755430458071, 0.9607241383130769, 0.7618861248246234, 0.777807442280023, 0.9964656565933313, 0.7918395186306388, 0.8816073182186926, 0.9998888799094876]\n",
            "Best hyperparameters: (<function relu at 0x7efd0ae1f3d0>, 0.04, 1.0, 0.02, 0.0, [200], 100, 0.001, 0.5, 'l2')\n",
            "train_score: 0.900786\n",
            "validation_score: 0.794043\n"
          ],
          "name": "stdout"
        }
      ]
    },
    {
      "cell_type": "code",
      "metadata": {
        "id": "OzkE0l9x37ir",
        "colab": {
          "base_uri": "https://localhost:8080/",
          "height": 190
        },
        "outputId": "f50ec2ca-2458-44d8-d872-081fb1a63670"
      },
      "source": [
        "all_results"
      ],
      "execution_count": null,
      "outputs": [
        {
          "output_type": "execute_result",
          "data": {
            "text/plain": [
              "{\"(<function relu at 0x7f83cf574b50>, 0.04, 1.0, 0.02, 0.0, [100], 100, 0.001, 0.5, 'l2')\": 0.7829517391323453,\n",
              " \"(<function relu at 0x7f83cf574b50>, 0.04, 1.0, 0.02, 0.0, [100], 50, 0.001, 0.5, 'l2')\": 0.7852873629239835,\n",
              " \"(<function relu at 0x7f83cf574b50>, 0.04, 1.0, 0.02, 0.0, [150], 100, 0.001, 0.5, 'l2')\": 0.7876438970829027,\n",
              " \"(<function relu at 0x7f83cf574b50>, 0.04, 1.0, 0.02, 0.0, [150], 50, 0.001, 0.5, 'l2')\": 0.7846428101709567,\n",
              " \"(<function relu at 0x7f83cf574b50>, 0.04, 1.0, 0.02, 0.0, [200], 100, 0.001, 0.5, 'l2')\": 0.7846865165147555,\n",
              " \"(<function relu at 0x7f83cf574b50>, 0.04, 1.0, 0.02, 0.0, [200], 50, 0.001, 0.5, 'l2')\": 0.782814158200572,\n",
              " \"(<function relu at 0x7f83cf574b50>, 0.04, 1.0, 0.02, 0.0, [20], 100, 0.001, 0.5, 'l2')\": 0.7831259287323963,\n",
              " \"(<function relu at 0x7f83cf574b50>, 0.04, 1.0, 0.02, 0.0, [20], 50, 0.001, 0.5, 'l2')\": 0.7843103954314071,\n",
              " \"(<function relu at 0x7f83cf574b50>, 0.04, 1.0, 0.02, 0.0, [50], 100, 0.001, 0.5, 'l2')\": 0.7840679085053771,\n",
              " \"(<function relu at 0x7f83cf574b50>, 0.04, 1.0, 0.02, 0.0, [50], 50, 0.001, 0.5, 'l2')\": 0.7813014835736486}"
            ]
          },
          "metadata": {
            "tags": []
          },
          "execution_count": 218
        }
      ]
    },
    {
      "cell_type": "markdown",
      "metadata": {
        "id": "SXIDR1L5NG7Y"
      },
      "source": [
        "# Train, Save and Test Model"
      ]
    },
    {
      "cell_type": "code",
      "metadata": {
        "id": "g3Ij8rfYWe8m",
        "colab": {
          "base_uri": "https://localhost:8080/",
          "height": 86
        },
        "outputId": "67b76e5d-26a8-472d-acd8-b822d2b7c74e"
      },
      "source": [
        "targets"
      ],
      "execution_count": null,
      "outputs": [
        {
          "output_type": "execute_result",
          "data": {
            "text/plain": [
              "Index([u'astack', u'nastack', u'pair', u'pucker_C1p_exo', u'pucker_C2p_endo',\n",
              "       u'pucker_C2p_exo', u'pucker_C3p_endo', u'pucker_C3p_exo',\n",
              "       u'pucker_C4p_exo', u'sasa', u'syn_anti'],\n",
              "      dtype='object')"
            ]
          },
          "metadata": {
            "tags": []
          },
          "execution_count": 74
        }
      ]
    },
    {
      "cell_type": "code",
      "metadata": {
        "id": "yeEiOhwDxGaa"
      },
      "source": [
        "# save model\n",
        "model = dc.models.ProgressiveMultitaskClassifier(n_tasks=n_tasks,n_features=n_features,layer_sizes=[100],alpha_init_stddevs=0.04,learning_rate=0.001,\n",
        "                                                 model_dir=DIR_PATH+\"checkpoints\", tensorboard=True, use_queue=False)\n",
        "model.fit(train_dataset_balanced, nb_epoch=50)\n",
        "dtypes = [tf.float32, tf.float32, tf.int32, tf.int32, tf.int32]\n",
        "feature_columns = tf.feature_column.numeric_column('features', shape=(model.n_features,), dtype=tf.float32)\n",
        "weight_col = tf.feature_column.numeric_column('weights', shape=(model.n_tasks,))\n",
        "estimator = model.make_estimator([feature_columns], weight_col)\n",
        "model.get_checkpoints()"
      ],
      "execution_count": null,
      "outputs": []
    },
    {
      "cell_type": "code",
      "metadata": {
        "id": "RSReirL5ybdm"
      },
      "source": [
        "# restore model\n",
        "model = dc.models.ProgressiveMultitaskClassifier(n_tasks=n_tasks,n_features=n_features,layer_sizes=[100],alpha_init_stddevs=0.04,learning_rate=0.001,\n",
        "                                                 model_dir=DIR_PATH+\"checkpoints\", tensorboard=True, use_queue=False)\n",
        "model.get_checkpoints()\n",
        "model.restore()"
      ],
      "execution_count": null,
      "outputs": []
    },
    {
      "cell_type": "code",
      "metadata": {
        "id": "XIbnOgWfNOt2",
        "colab": {
          "base_uri": "https://localhost:8080/",
          "height": 394
        },
        "outputId": "485a268b-8804-4a07-e0d2-8a4dd76c4398"
      },
      "source": [
        "#model = dc.models.ProgressiveMultitaskClassifier(n_tasks=n_tasks,n_features=n_features,layer_sizes=[100],alpha_init_stddevs=0.04,learning_rate=0.001)\n",
        "#model.fit(train_dataset_balanced, nb_epoch=50)\n",
        "colors = cm.rainbow(np.linspace(0, 1, len(targets)))\n",
        "testpred = model.predict(test_dataset_norm) \n",
        "plt.figure()\n",
        "lw = 3\n",
        "\n",
        "# get TPR and FPR\n",
        "for i,target in enumerate(targets):\n",
        "  fpr, tpr, thresholds = roc_curve(test_dataset_norm.y[:, i], testpred[:, i, 1].flatten())\n",
        "  roc_auc = auc(fpr, tpr)\n",
        "  # Make plot\n",
        "  plt.plot(fpr, tpr, color=colors[i],lw=lw, label='%s (area = %0.2f)' % (target, roc_auc))\n",
        "\n",
        "plt.plot([0, 1], [0, 1], color='navy', lw=lw, linestyle='--')\n",
        "plt.xlim([0.0, 1.0])\n",
        "plt.ylim([0.0, 1.05])\n",
        "plt.xlabel('False Positive Rate')\n",
        "plt.ylabel('True Positive Rate')\n",
        "plt.title('Receiver operating characteristic example')\n",
        "plt.legend(loc=(1.1,0))\n",
        "plt.show()\n",
        "\n",
        "\n",
        "info = pd.read_csv(DIR_PATH+\"info.csv\", delim_whitespace=True, header=0)\n",
        "actuals = pd.read_csv(DIR_PATH+\"actuals.csv\", delim_whitespace=True, header=0)\n",
        "predictions = pd.DataFrame(testpred[:, :, 1], columns=[\"p\"+i for i in targets])\n",
        "predictions = pd.concat([info, actuals, predictions], axis=1)\n",
        "predictions.to_csv(DIR_PATH+'deepchem_testset_predictions.txt', sep = ' ')\n",
        "predictions.tail()"
      ],
      "execution_count": null,
      "outputs": [
        {
          "output_type": "stream",
          "text": [
            "W0521 15:30:42.007296 140371821184896 module_wrapper.py:139] From /usr/local/lib/python2.7/dist-packages/deepchem/models/tensorgraph/tensor_graph.py:715: The name tf.placeholder is deprecated. Please use tf.compat.v1.placeholder instead.\n",
            "\n",
            "W0521 15:30:42.028259 140371821184896 module_wrapper.py:139] From /usr/local/lib/python2.7/dist-packages/deepchem/models/tensorgraph/layers.py:2464: The name tf.FIFOQueue is deprecated. Please use tf.queue.FIFOQueue instead.\n",
            "\n",
            "W0521 15:30:42.038558 140371821184896 module_wrapper.py:139] From /usr/local/lib/python2.7/dist-packages/deepchem/models/tensorgraph/layers.py:1216: The name tf.placeholder_with_default is deprecated. Please use tf.compat.v1.placeholder_with_default instead.\n",
            "\n",
            "W0521 15:30:42.057862 140371821184896 deprecation.py:506] From /tensorflow-1.15.2/python2.7/tensorflow_core/python/ops/resource_variable_ops.py:1630: calling __init__ (from tensorflow.python.ops.resource_variable_ops) with constraint is deprecated and will be removed in a future version.\n",
            "Instructions for updating:\n",
            "If using Keras pass *_constraint arguments to layers.\n",
            "W0521 15:30:42.870390 140371821184896 module_wrapper.py:139] From /usr/local/lib/python2.7/dist-packages/deepchem/models/tensorgraph/tensor_graph.py:728: The name tf.Session is deprecated. Please use tf.compat.v1.Session instead.\n",
            "\n",
            "W0521 15:30:43.024905 140371821184896 module_wrapper.py:139] From /usr/local/lib/python2.7/dist-packages/deepchem/models/tensorgraph/optimizers.py:76: The name tf.train.AdamOptimizer is deprecated. Please use tf.compat.v1.train.AdamOptimizer instead.\n",
            "\n",
            "W0521 15:30:45.015480 140371821184896 module_wrapper.py:139] From /usr/local/lib/python2.7/dist-packages/deepchem/models/tensorgraph/tensor_graph.py:1013: The name tf.get_collection is deprecated. Please use tf.compat.v1.get_collection instead.\n",
            "\n",
            "W0521 15:30:45.020230 140371821184896 module_wrapper.py:139] From /usr/local/lib/python2.7/dist-packages/deepchem/models/tensorgraph/tensor_graph.py:1013: The name tf.GraphKeys is deprecated. Please use tf.compat.v1.GraphKeys instead.\n",
            "\n",
            "W0521 15:30:45.033390 140371821184896 module_wrapper.py:139] From /usr/local/lib/python2.7/dist-packages/deepchem/models/tensorgraph/tensor_graph.py:739: The name tf.global_variables_initializer is deprecated. Please use tf.compat.v1.global_variables_initializer instead.\n",
            "\n",
            "W0521 15:30:45.899322 140371821184896 module_wrapper.py:139] From /usr/local/lib/python2.7/dist-packages/deepchem/models/tensorgraph/tensor_graph.py:749: The name tf.summary.scalar is deprecated. Please use tf.compat.v1.summary.scalar instead.\n",
            "\n"
          ],
          "name": "stderr"
        }
      ]
    },
    {
      "cell_type": "code",
      "metadata": {
        "id": "hPU0B1ncQcX8",
        "colab": {
          "base_uri": "https://localhost:8080/",
          "height": 378
        },
        "outputId": "dbf9e745-ae3b-4d86-9e99-92c2dddac61c"
      },
      "source": [
        "recall1=[]\n",
        "recall0=[]\n",
        "balanced_accuracys=[]\n",
        "for i,target in enumerate(targets):\n",
        "  recall1.append(recall_score(test_dataset_norm.y[:, i], testpred[:, i, 1].flatten()>=0.5))\n",
        "  recall0.append(recall_score(test_dataset_norm.y[:, i], testpred[:, i, 1].flatten()>=0.5,pos_label=0))\n",
        "  balanced_accuracys.append(balanced_accuracy_score(test_dataset_norm.y[:, i], testpred[:, i, 1].flatten()>=0.5)) \n",
        "test_stats = pd.DataFrame({'sensitivity': recall1, 'specificity':recall0, 'balanced accuracy':balanced_accuracys})\n",
        "test_stats.index = targets\n",
        "test_stats.round(3)"
      ],
      "execution_count": null,
      "outputs": [
        {
          "output_type": "execute_result",
          "data": {
            "text/plain": [
              "                 balanced accuracy  sensitivity  specificity\n",
              "astack                       0.720        0.756        0.684\n",
              "nastack                      0.845        0.830        0.861\n",
              "pair                         0.748        0.707        0.788\n",
              "pucker_C1p_exo               0.676        0.500        0.851\n",
              "pucker_C2p_endo              0.846        0.909        0.784\n",
              "pucker_C2p_exo               0.666        0.654        0.678\n",
              "pucker_C3p_endo              0.606        0.579        0.633\n",
              "pucker_C3p_exo               0.580        0.250        0.911\n",
              "pucker_C4p_exo               0.577        0.500        0.655\n",
              "sasa                         0.709        0.741        0.677\n",
              "syn_anti                     0.632        0.400        0.865"
            ],
            "text/html": [
              "<div>\n",
              "<style scoped>\n",
              "    .dataframe tbody tr th:only-of-type {\n",
              "        vertical-align: middle;\n",
              "    }\n",
              "\n",
              "    .dataframe tbody tr th {\n",
              "        vertical-align: top;\n",
              "    }\n",
              "\n",
              "    .dataframe thead th {\n",
              "        text-align: right;\n",
              "    }\n",
              "</style>\n",
              "<table border=\"1\" class=\"dataframe\">\n",
              "  <thead>\n",
              "    <tr style=\"text-align: right;\">\n",
              "      <th></th>\n",
              "      <th>balanced accuracy</th>\n",
              "      <th>sensitivity</th>\n",
              "      <th>specificity</th>\n",
              "    </tr>\n",
              "  </thead>\n",
              "  <tbody>\n",
              "    <tr>\n",
              "      <th>astack</th>\n",
              "      <td>0.720</td>\n",
              "      <td>0.756</td>\n",
              "      <td>0.684</td>\n",
              "    </tr>\n",
              "    <tr>\n",
              "      <th>nastack</th>\n",
              "      <td>0.845</td>\n",
              "      <td>0.830</td>\n",
              "      <td>0.861</td>\n",
              "    </tr>\n",
              "    <tr>\n",
              "      <th>pair</th>\n",
              "      <td>0.748</td>\n",
              "      <td>0.707</td>\n",
              "      <td>0.788</td>\n",
              "    </tr>\n",
              "    <tr>\n",
              "      <th>pucker_C1p_exo</th>\n",
              "      <td>0.676</td>\n",
              "      <td>0.500</td>\n",
              "      <td>0.851</td>\n",
              "    </tr>\n",
              "    <tr>\n",
              "      <th>pucker_C2p_endo</th>\n",
              "      <td>0.846</td>\n",
              "      <td>0.909</td>\n",
              "      <td>0.784</td>\n",
              "    </tr>\n",
              "    <tr>\n",
              "      <th>pucker_C2p_exo</th>\n",
              "      <td>0.666</td>\n",
              "      <td>0.654</td>\n",
              "      <td>0.678</td>\n",
              "    </tr>\n",
              "    <tr>\n",
              "      <th>pucker_C3p_endo</th>\n",
              "      <td>0.606</td>\n",
              "      <td>0.579</td>\n",
              "      <td>0.633</td>\n",
              "    </tr>\n",
              "    <tr>\n",
              "      <th>pucker_C3p_exo</th>\n",
              "      <td>0.580</td>\n",
              "      <td>0.250</td>\n",
              "      <td>0.911</td>\n",
              "    </tr>\n",
              "    <tr>\n",
              "      <th>pucker_C4p_exo</th>\n",
              "      <td>0.577</td>\n",
              "      <td>0.500</td>\n",
              "      <td>0.655</td>\n",
              "    </tr>\n",
              "    <tr>\n",
              "      <th>sasa</th>\n",
              "      <td>0.709</td>\n",
              "      <td>0.741</td>\n",
              "      <td>0.677</td>\n",
              "    </tr>\n",
              "    <tr>\n",
              "      <th>syn_anti</th>\n",
              "      <td>0.632</td>\n",
              "      <td>0.400</td>\n",
              "      <td>0.865</td>\n",
              "    </tr>\n",
              "  </tbody>\n",
              "</table>\n",
              "</div>"
            ]
          },
          "metadata": {
            "tags": []
          },
          "execution_count": 82
        }
      ]
    },
    {
      "cell_type": "markdown",
      "metadata": {
        "id": "dkTlexk8uzvy"
      },
      "source": [
        "### Analyze deepchem testing result"
      ]
    },
    {
      "cell_type": "code",
      "metadata": {
        "id": "UNmaNAvPu26U",
        "colab": {
          "base_uri": "https://localhost:8080/",
          "height": 52
        },
        "outputId": "4f1faa85-8f64-4034-94fe-a4f3aa3b44ea"
      },
      "source": [
        "print(confusion_matrix(predictions[predictions['id']=='5KH8']['pair'],predictions[predictions['id']=='5KH8']['ppair']>=0.5))"
      ],
      "execution_count": null,
      "outputs": [
        {
          "output_type": "stream",
          "text": [
            "[[10  3]\n",
            " [ 6 28]]\n"
          ],
          "name": "stdout"
        }
      ]
    },
    {
      "cell_type": "markdown",
      "metadata": {
        "id": "SlM8xPqM812c"
      },
      "source": [
        "### check deploy script"
      ]
    },
    {
      "cell_type": "code",
      "metadata": {
        "id": "UAGfGPYh85xY"
      },
      "source": [
        "#!python drive/My\\ Drive/CS-Annotate/deploy.py --infile drive/My\\ Drive/CS-Annotate/Imputed_CS.txt --outfile drive/My\\ Drive/CS-Annotate/test_deploy.txt"
      ],
      "execution_count": null,
      "outputs": []
    }
  ]
}